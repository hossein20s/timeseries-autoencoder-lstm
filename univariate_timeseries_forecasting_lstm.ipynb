{
 "cells": [
  {
   "cell_type": "markdown",
   "metadata": {
    "deletable": true,
    "editable": true
   },
   "source": [
    "# Modeling timeseries data in MXNet: using LSTM to predict AWS spot instance price\n",
    "\n",
    "## Univariate TimeSeries Forecasting"
   ]
  },
  {
   "cell_type": "markdown",
   "metadata": {
    "deletable": true,
    "editable": true
   },
   "source": [
    "# Problem\n",
    "\n",
    "Amazon EC2 Spot instances allow you to bid on spare Amazon EC2 computing capacity. Since Spot instances are often available at a discount compared to On-Demand pricing, you can significantly reduce the cost of running your applications. In this tutorial we will build a neural network that models time series data to predict the price of an instance in the Amazon EC2 Spot market. By predicting the price, you may be able to make smart decisions on when to launch your spot jobs.\n",
    "\n",
    "To simplify the prediction of spot prices, we'll assume the cost at any previous timestep in time to be dependent on previous values. This may not be entirely true but for simplicity we'll assume so and convert the data in to a timeseries sequence. Ultimately we will train a variant of Recurrent Neural Network called [LSTM](https://en.wikipedia.org/wiki/Long_short-term_memory) on AWS Spot dataset to build a neural network that can predict the price of an instance in the next timestep.\n",
    "\n",
    "Click to learn more about [AWS Spot](https://aws.amazon.com/ec2/spot/pricing/)"
   ]
  },
  {
   "cell_type": "markdown",
   "metadata": {
    "deletable": true,
    "editable": true
   },
   "source": [
    "# Recurrent Neural Networks (RNN)\n",
    "\n",
    "Certain problems require you to model information dependency, for example take the construction of a sentence. Now these dependencies can be external or could be based on previous context. We'll explore the latter in this notebook. Recurrent neural networks (RNN) are designed to address this issue. They are networks with loops in them, thus allowing information to persist, making them ideal to model sequences. Speech recognition, image captioning, video analysis, language modeling and many other use case can be addressed using RNNs. Check out Andrej Karapthy's [blog](http://karpathy.github.io/2015/05/21/rnn-effectiveness/) for more details. Lets visualize a few examples of sequence in input or oputput: \n",
    "\n",
    "![rnn](http://karpathy.github.io/assets/rnn/diags.jpeg)\n",
    "<sub> img src: http://karpathy.github.io\n",
    "\n",
    "A RNN can be imagined as a repeated copy of the same network, each passing a message to the next step, in this case it may be to the same layer. But RNNs have problems with long range dependencies - interactions between sequences that are many steps apart, this is explained in detail in this [blog](http://colah.github.io/posts/2015-08-Understanding-LSTMs/). Also RNNs tend to be deep, that is in the temporal direction and hence more vulnerable to the [vanishing gradient problem](https://en.wikipedia.org/wiki/Vanishing_gradient_problem) \n",
    "\n",
    "To address these issues [Hochreiter & Schmidhuber (1997)](http://www.bioinf.jku.at/publications/older/2604.pdf) introduced LSTMs, which now are widely used to model the problems described above. \n"
   ]
  },
  {
   "cell_type": "markdown",
   "metadata": {
    "deletable": true,
    "editable": true
   },
   "source": [
    "# What is Long Short-Term Memory (LSTM) ?\n",
    "\n",
    "The Long Short-Term Memory network (LSTM), is a Recurrent Neural Network (RNN) capable of learning long-term dependencies. Instead of neurons, LSTM networks have memory blocks thus making it \"smarter\" given that it can store recent sequences. These LSTM blocks are are connected through layers. Each block contains three multiplicative gates that govern what information enters the cell, what information exits the cell, and whether or not to discard information discard information stored at previous time steps. The gates are illustriated below: \n",
    "\n",
    "![memory cell](http://deeplearning.net/tutorial/_images/lstm_memorycell.png) \n",
    "<sub> img src: http://deeplearning.net/tutorial/_images/lstm_memorycell.png\n",
    "\n",
    "\n",
    "### Training LSTM's\n",
    "\n",
    "These networks are trained using backpropagation by unrolling in the time dimension. This is necessary given that LSTMs still have a self loop. The unrolling reveals a chain like nature as shown below. This infact makes them very suitable for learning sequences.\n",
    "\n",
    "![lstm](http://colah.github.io/posts/2015-08-Understanding-LSTMs/img/RNN-unrolled.png)\n",
    "<sub> img src: http://colah.github.io/posts/2015-08-Understanding-LSTMs\n",
    "\n"
   ]
  },
  {
   "cell_type": "markdown",
   "metadata": {
    "deletable": true,
    "editable": true
   },
   "source": [
    "# Prerequisites\n",
    "\n",
    "Familiarity with MXNet, Python, Pandas, Numpy, basics of LSTM networks. It's recommended that you know the basics of RNNs and LSTMs to proceed.\n",
    "\n",
    "To complete this tutorial, you need:\n",
    "- [MXNet](http://mxnet.io) version 0.10+\n",
    "- Python 2.7 or greater and the following libraries for Python:\n",
    "    - numpy - ndarrays \n",
    "    - pandas - to easily get our dataset\n",
    "    - Matplotlib - for visualization\n",
    "    - mpld3 - add zoom capability to matplotlib\n",
    "- [recommended] AWS ec2 p2 instance with Deep Learning AMI.\n",
    "\n",
    "For setting up an deep learning environment on AWS using Deep Learning AMI, please read [this post on AWS AI Blog](https://aws.amazon.com/blogs/ai/the-aws-deep-learning-ami-now-with-ubuntu/) for detailed instructions. "
   ]
  },
  {
   "cell_type": "markdown",
   "metadata": {
    "deletable": true,
    "editable": true
   },
   "source": [
    "# Prepare the Data\n",
    "\n",
    "Lets start by loading the dataset using pandas. The data has been recorded at almost constant intervals, for simplicity we assume constant intervals. Hence we only extract the time (column 1) and the cost of instance (current bid price) per hour (coulmn 5) which we'll later model as a sequence. As mentioned earlier, we'll ignore the fact that the spot prices may be dependent on other variables and external factors.\n",
    "\n",
    "The dataset is a CSV file with over 7000 data points collected over a period of 11 days containing for P2.XLarge in US-EAST-1 and has the following columns:\n",
    "Time, Instance type, OS, Availability Zone, Current Bid Price\n"
   ]
  },
  {
   "cell_type": "markdown",
   "metadata": {
    "deletable": true,
    "editable": true
   },
   "source": [
    "## Load and Visualize the dataset"
   ]
  },
  {
   "cell_type": "code",
   "execution_count": 2,
   "metadata": {
    "collapsed": false,
    "deletable": true,
    "editable": true
   },
   "outputs": [
    {
     "data": {
      "text/html": [
       "<div>\n",
       "<table border=\"1\" class=\"dataframe\">\n",
       "  <thead>\n",
       "    <tr style=\"text-align: right;\">\n",
       "      <th></th>\n",
       "      <th>date</th>\n",
       "      <th>cost ($)</th>\n",
       "    </tr>\n",
       "  </thead>\n",
       "  <tbody>\n",
       "    <tr>\n",
       "      <th>0</th>\n",
       "      <td>2017-05-08 21:42:56+00:00</td>\n",
       "      <td>0.2500</td>\n",
       "    </tr>\n",
       "    <tr>\n",
       "      <th>1</th>\n",
       "      <td>2017-05-08 21:41:01+00:00</td>\n",
       "      <td>0.2402</td>\n",
       "    </tr>\n",
       "    <tr>\n",
       "      <th>2</th>\n",
       "      <td>2017-05-08 21:40:05+00:00</td>\n",
       "      <td>0.2414</td>\n",
       "    </tr>\n",
       "    <tr>\n",
       "      <th>3</th>\n",
       "      <td>2017-05-08 21:42:56+00:00</td>\n",
       "      <td>0.2500</td>\n",
       "    </tr>\n",
       "    <tr>\n",
       "      <th>4</th>\n",
       "      <td>2017-05-08 21:41:01+00:00</td>\n",
       "      <td>0.2402</td>\n",
       "    </tr>\n",
       "  </tbody>\n",
       "</table>\n",
       "</div>"
      ],
      "text/plain": [
       "                        date  cost ($)\n",
       "0  2017-05-08 21:42:56+00:00    0.2500\n",
       "1  2017-05-08 21:41:01+00:00    0.2402\n",
       "2  2017-05-08 21:40:05+00:00    0.2414\n",
       "3  2017-05-08 21:42:56+00:00    0.2500\n",
       "4  2017-05-08 21:41:01+00:00    0.2402"
      ]
     },
     "metadata": {},
     "output_type": "display_data"
    },
    {
     "name": "stdout",
     "output_type": "stream",
     "text": [
      "(7183,) <type 'numpy.ndarray'>\n"
     ]
    },
    {
     "data": {
      "image/png": "[encoded data removed]",
      "text/plain": [
       "<matplotlib.figure.Figure at 0x107ff9350>"
      ]
     },
     "metadata": {},
     "output_type": "display_data"
    }
   ],
   "source": [
    "import dateutil.parser\n",
    "import pandas\n",
    "import numpy as np\n",
    "import matplotlib.pyplot as plt\n",
    "\n",
    "%matplotlib inline\n",
    "\n",
    "# enable for enhanced plotting\n",
    "#import mpld3\n",
    "#mpld3.enable_notebook()\n",
    "\n",
    "from IPython.display import display, HTML\n",
    "\n",
    "# Data format: Time, Instance type, OS, Availability Zone, Current Bid Price\n",
    "# 2017-05-08 20:14:04+00:00,p2.xlarge,Linux/UNIX,us-west-1b,0.482\n",
    "dataframe = pandas.read_csv('data/p2-east-1b.csv', usecols=[0, 4], engine='python', names=['date','cost ($)'])\n",
    "display(dataframe[:5])\n",
    "values = dataframe.values[::-1] # reverse to order the dataset chronologically\n",
    "ticks = map(dateutil.parser.parse, values[:,0]) # get time ticks\n",
    "dataset = values[:,1] # get spot instance prices\n",
    "print dataset.shape, type(dataset)\n",
    "plt.plot(ticks, dataset)\n",
    "plt.ylabel(\"cost in ($)\")\n",
    "plt.xlabel(\"date\")\n",
    "plt.show()\n",
    "dataset = dataset.astype(np.float32)"
   ]
  },
  {
   "cell_type": "markdown",
   "metadata": {
    "deletable": true,
    "editable": true
   },
   "source": [
    "## Data Preprocessing: Convert to Sequence, Normalize"
   ]
  },
  {
   "cell_type": "code",
   "execution_count": 5,
   "metadata": {
    "collapsed": false,
    "deletable": true,
    "editable": true
   },
   "outputs": [],
   "source": [
    "import numpy as np\n",
    "import mxnet as mx\n",
    "import logging\n",
    "import sys\n",
    "from sklearn.preprocessing import MinMaxScaler\n",
    "\n",
    "# Config the logging\n",
    "logging.basicConfig(stream=sys.stdout, level=logging.DEBUG)\n",
    "\n",
    "# define sequence length --> Tx = Tx-1, Tx-2 ; Window size = 2\n",
    "\n",
    "seq_len = 2\n",
    "timesteps = seq_len\n",
    "batch_size = 32\n",
    "data_dim = 5\n",
    "\n",
    "# normalize the dataset\n",
    "dataset = np.reshape(dataset, (len(dataset), 1))\n",
    "scaler = MinMaxScaler(feature_range=(0, 1))\n",
    "dataset = scaler.fit_transform(dataset)\n",
    "\n",
    "# select the closing price as the label\n",
    "x = dataset\n",
    "y = dataset[:, [-1]]\n",
    "\n",
    "dataX = []\n",
    "dataY = []\n",
    "\n",
    "# convert an array of values into a dataset matrix\n",
    "# reshape into X=t and Y=t+seq_len\n",
    "for i in range(0, len(y) - seq_len):\n",
    "    xx = x[i:i + seq_len]\n",
    "    yy = y[i + seq_len]\n",
    "    dataX.append(xx)\n",
    "    dataY.append(yy)\n",
    "    \n"
   ]
  },
  {
   "cell_type": "code",
   "execution_count": 6,
   "metadata": {
    "collapsed": false
   },
   "outputs": [
    {
     "name": "stdout",
     "output_type": "stream",
     "text": [
      "[[ 0.06241331]\n",
      " [ 0.06324551]] [ 0.0613037]\n"
     ]
    }
   ],
   "source": [
    "# Output looks like\n",
    "# Tx0, Tx1 => Tx2 \n",
    "# Tx1, Tx2 => Tx3\n",
    "\n",
    "print dataX[0], dataY[0] # note that it has seq_len number of elements"
   ]
  },
  {
   "cell_type": "markdown",
   "metadata": {
    "deletable": true,
    "editable": true
   },
   "source": [
    "## Split Dataset and Define Iterators"
   ]
  },
  {
   "cell_type": "code",
   "execution_count": 7,
   "metadata": {
    "collapsed": false,
    "deletable": true,
    "editable": true
   },
   "outputs": [],
   "source": [
    "# divide the data in to training set and test set\n",
    "train_size = int(len(dataY) * 0.7)\n",
    "test_size = len(dataY) - train_size\n",
    "trainX, testX = np.array(dataX[0:train_size]), np.array(\n",
    "    dataX[train_size:len(dataX)]) # continous sequence of datapoints\n",
    "trainY, testY = np.array(dataY[0:train_size]), np.array(\n",
    "    dataY[train_size:len(dataY)]) \n",
    "\n",
    "# create train and test iterators\n",
    "train_iter = mx.io.NDArrayIter(data=trainX, label=trainY,\n",
    "                                   data_name=\"data\", label_name=\"target\",\n",
    "                                   batch_size=batch_size,\n",
    "                                   shuffle=True)\n",
    "test_iter = mx.io.NDArrayIter(data=testX, label=testY,\n",
    "                                  data_name=\"data\", label_name=\"target\",\n",
    "                                  batch_size=batch_size)"
   ]
  },
  {
   "cell_type": "markdown",
   "metadata": {
    "deletable": true,
    "editable": true
   },
   "source": [
    "# Model Definition and Training"
   ]
  },
  {
   "cell_type": "code",
   "execution_count": 8,
   "metadata": {
    "collapsed": false,
    "deletable": true,
    "editable": true,
    "scrolled": true
   },
   "outputs": [
    {
     "name": "stdout",
     "output_type": "stream",
     "text": [
      "INFO:root:Epoch[0] Train-mse=0.023546\n",
      "INFO:root:Epoch[0] Time cost=0.283\n",
      "INFO:root:Epoch[0] Validation-mse=0.007350\n",
      "INFO:root:Epoch[1] Train-mse=0.002754\n",
      "INFO:root:Epoch[1] Time cost=0.286\n",
      "INFO:root:Epoch[1] Validation-mse=0.001235\n"
     ]
    }
   ],
   "source": [
    "# Define the LSTM Neural Network\n",
    "num_epochs = 2\n",
    "\n",
    "# Note that when unrolling, if 'merge_outputs' is set to True, \n",
    "# the 'outputs' is merged into a single symbol\n",
    "# In the layout, 'N' represents batch size, 'T' represents sequence length, \n",
    "# and 'C' represents the number of dimensions in hidden states.\n",
    "\n",
    "data = mx.sym.var(\"data\")  # Shape: (N, T, C)\n",
    "target = mx.sym.var(\"target\")  # Shape: (N, T, C)\n",
    "data = mx.sym.transpose(data, axes=(1, 0, 2))  # Shape: (T, N, C)\n",
    "\n",
    "lstm1 = mx.rnn.LSTMCell(num_hidden=5, prefix=\"lstm1_\")\n",
    "lstm2 = mx.rnn.LSTMCell(num_hidden=10, prefix=\"lstm2_\")\n",
    "\n",
    "L1, L1_states = lstm1.unroll(length=seq_len, inputs=data, \n",
    "                             merge_outputs=True,\n",
    "                             layout=\"TNC\")  # Shape: (T, N, 5)\n",
    "\n",
    "L1 = mx.sym.Dropout(L1, p=0.2)  # Shape: (T, N, 5)\n",
    "\n",
    "L2, L2_states = lstm2.unroll(length=seq_len, inputs=L1, \n",
    "                            merge_outputs=True,\n",
    "                            layout=\"TNC\")  # Shape: (T, N, 10)\n",
    "\n",
    "L2 = mx.sym.reshape(L2_states[0], shape=(-1, 0), reverse=True)  # Shape: (T * N, 10)\n",
    "pred = mx.sym.FullyConnected(L2, num_hidden=1, name=\"pred\")\n",
    "pred = mx.sym.LinearRegressionOutput(data=pred, label=target)\n",
    "\n",
    "model = mx.mod.Module(symbol=pred, data_names=['data'], \n",
    "                    label_names=['target'], context=mx.cpu(0))\n",
    "\n",
    "model.fit(train_data=train_iter, eval_data=test_iter,\n",
    "            initializer=mx.init.Xavier(rnd_type=\"gaussian\", magnitude=1),\n",
    "            optimizer=\"adam\",\n",
    "            optimizer_params={\"learning_rate\": 1E-3},\n",
    "            eval_metric=\"mse\", num_epoch=num_epochs)"
   ]
  },
  {
   "cell_type": "markdown",
   "metadata": {
    "deletable": true,
    "editable": true
   },
   "source": [
    "## Model Prediction and Visualization"
   ]
  },
  {
   "cell_type": "code",
   "execution_count": 16,
   "metadata": {
    "collapsed": false,
    "deletable": true,
    "editable": true
   },
   "outputs": [
    {
     "name": "stdout",
     "output_type": "stream",
     "text": [
      "Mean Square Loss: 0.00122688\n"
     ]
    },
    {
     "data": {
      "image/png": "[encoded data removed]",
      "text/plain": [
       "<matplotlib.figure.Figure at 0x1084392d0>"
      ]
     },
     "metadata": {},
     "output_type": "display_data"
    }
   ],
   "source": [
    "test_predict = model.predict(test_iter).asnumpy()\n",
    "mse = np.mean((test_predict - testY)**2)\n",
    "print \"Mean Square Loss:\", mse\n",
    "\n",
    "# shift the plot\n",
    "t_plot = np.empty_like(dataset)\n",
    "t_plot[:] = np.nan\n",
    "\n",
    "# lets convert the prediction back to real scale\n",
    "t_plot[len(trainY):-seq_len] = scaler.inverse_transform(test_predict)\n",
    "\n",
    "plt.close('all')\n",
    "fig = plt.figure()\n",
    "\n",
    "real_dataset = scaler.inverse_transform(dataset)\n",
    "\n",
    "plt.plot(ticks[len(trainX):], real_dataset[len(trainX):], \"b.\", label='Ground Truth')\n",
    "plt.plot(ticks, t_plot, \"r.\", label='Predicted')\n",
    "\n",
    "plt.ylabel(\"cost in ($)\")\n",
    "plt.xlabel(\"date\")\n",
    "plt.legend()\n",
    "plt.show()"
   ]
  },
  {
   "cell_type": "markdown",
   "metadata": {
    "collapsed": true,
    "deletable": true,
    "editable": true
   },
   "source": [
    "# Summary\n",
    "\n",
    "With just 2 epochs, our two layer LSTM seems to have learnt to predict the next value in the sequence given the previous values (equal to the sequence length). The mean square loss for the validation set is very small incidating high prediction accuracy, which is observed in the resulting graph as well."
   ]
  },
  {
   "cell_type": "markdown",
   "metadata": {
    "collapsed": true,
    "deletable": true,
    "editable": true
   },
   "source": [
    "# References\n",
    "\n",
    "Basic LSTM example by hunkim [Github](https://github.com/hunkim/DeepLearningZeroToAll/blob/master/mxnet/mxlab-12-4-rnn_deep_prediction.py)\n",
    "\n",
    "Understanding [LSTM's](http://colah.github.io/posts/2015-08-Understanding-LSTMs/)"
   ]
  }
 ],
 "metadata": {
  "kernelspec": {
   "display_name": "Python 2",
   "language": "python",
   "name": "python2"
  },
  "language_info": {
   "codemirror_mode": {
    "name": "ipython",
    "version": 2
   },
   "file_extension": ".py",
   "mimetype": "text/x-python",
   "name": "python",
   "nbconvert_exporter": "python",
   "pygments_lexer": "ipython2",
   "version": "2.7.11"
  }
 },
 "nbformat": 4,
 "nbformat_minor": 2
}
