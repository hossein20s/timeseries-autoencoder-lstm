{
 "cells": [
  {
   "cell_type": "code",
   "execution_count": null,
   "metadata": {},
   "outputs": [],
   "source": [
    "# Load in excel file with multiple sheets\n",
    "    # and map each excel sheet to an ordered dict (a dict of dataframes)\n",
    "# Convert date column in each dataframe in dict of dataframes \n",
    "    # to datetime object for matplotlib, and set date column as index"
   ]
  },
  {
   "cell_type": "code",
   "execution_count": 40,
   "metadata": {},
   "outputs": [],
   "source": [
    "# Imports (External)\n",
    "import numpy as np\n",
    "import pandas as pd\n",
    "import datetime as dt\n",
    "import xlrd\n",
    "import xlsxwriter\n",
    "from collections import OrderedDict\n",
    "\n",
    "import sys\n",
    "sys.path.append('../')  \n",
    "\n",
    "# # Visualization/plotting imports\n",
    "# import matplotlib as mpl\n",
    "# import matplotlib.pyplot as plt\n",
    "\n",
    "# # Machine learning imports\n",
    "# import sklearn\n",
    "# import tensorflow as tf\n",
    "# import keras\n",
    "\n",
    "# import pywt\n",
    "# from scipy import signal"
   ]
  },
  {
   "cell_type": "code",
   "execution_count": 41,
   "metadata": {},
   "outputs": [],
   "source": [
    "def dictmap_load(path):\n",
    "    # Load in excel file with multiple sheets\n",
    "    # and map each excel sheet to an ordered dict (a dict of dataframes)\n",
    "    raw_xlsx_file = pd.ExcelFile(path)\n",
    "    dict_dataframes = pd.read_excel(raw_xlsx_file,sheet_name = None)\n",
    "    return dict_dataframes"
   ]
  },
  {
   "cell_type": "code",
   "execution_count": 42,
   "metadata": {
    "scrolled": false
   },
   "outputs": [],
   "source": [
    "def dictmap_datetime(dict_dataframes):\n",
    "    # Convert date column in each dataframe in dict of dataframes \n",
    "    # to datetime object for matplotlib, and set date column as index\n",
    "    for dataframe in dict_dataframes:\n",
    "        dict_dataframes[dataframe]['date'] = pd.to_datetime(dict_dataframes[dataframe]['date'].astype(str), format='%Y%m%d')\n",
    "        dict_dataframes[dataframe] = dict_dataframes[dataframe].set_index('date')\n",
    "    return dict_dataframes"
   ]
  },
  {
   "cell_type": "code",
   "execution_count": 43,
   "metadata": {},
   "outputs": [],
   "source": [
    "dict_dataframes_index = dictmap_load(path = \"../data/interim/clean_data_index.xlsx\")   \n",
    "dict_dataframes_future = dictmap_load(path = \"../data/interim/clean_data_future.xlsx\")   \n",
    "dict_dataframes_index = dictmap_datetime(dict_dataframes_index)\n",
    "dict_dataframes_future = dictmap_datetime(dict_dataframes_future)"
   ]
  },
  {
   "cell_type": "code",
   "execution_count": 44,
   "metadata": {},
   "outputs": [
    {
     "name": "stdout",
     "output_type": "stream",
     "text": [
      "csi300 index data\n",
      "nifty 50 index data\n",
      "hangseng index data\n",
      "nikkei 225 index data\n",
      "s&p500 index data\n",
      "djia index data\n",
      "csi300 index future data\n",
      "nifty 50 index future data\n",
      "hangseng index future data\n",
      "nikkei 225 index future data\n",
      "s&p500 index future data\n",
      "djia index future data\n"
     ]
    }
   ],
   "source": [
    "print(\"\\n\".join(list(dict_dataframes_index.keys())))\n",
    "print(\"\\n\".join(list(dict_dataframes_future.keys())))"
   ]
  },
  {
   "cell_type": "code",
   "execution_count": 45,
   "metadata": {
    "scrolled": false
   },
   "outputs": [
    {
     "data": {
      "text/html": [
       "<div>\n",
       "<style scoped>\n",
       "    .dataframe tbody tr th:only-of-type {\n",
       "        vertical-align: middle;\n",
       "    }\n",
       "\n",
       "    .dataframe tbody tr th {\n",
       "        vertical-align: top;\n",
       "    }\n",
       "\n",
       "    .dataframe thead th {\n",
       "        text-align: right;\n",
       "    }\n",
       "</style>\n",
       "<table border=\"1\" class=\"dataframe\">\n",
       "  <thead>\n",
       "    <tr style=\"text-align: right;\">\n",
       "      <th></th>\n",
       "      <th>open</th>\n",
       "      <th>high</th>\n",
       "      <th>low</th>\n",
       "      <th>close</th>\n",
       "      <th>volume</th>\n",
       "      <th>us dollar index</th>\n",
       "      <th>shibor</th>\n",
       "      <th>macd</th>\n",
       "      <th>cci</th>\n",
       "      <th>atr</th>\n",
       "      <th>boll</th>\n",
       "      <th>ema20</th>\n",
       "      <th>ma10</th>\n",
       "      <th>mtm6</th>\n",
       "      <th>ma5</th>\n",
       "      <th>mtm12</th>\n",
       "      <th>roc</th>\n",
       "      <th>smi</th>\n",
       "      <th>wvad</th>\n",
       "    </tr>\n",
       "    <tr>\n",
       "      <th>date</th>\n",
       "      <th></th>\n",
       "      <th></th>\n",
       "      <th></th>\n",
       "      <th></th>\n",
       "      <th></th>\n",
       "      <th></th>\n",
       "      <th></th>\n",
       "      <th></th>\n",
       "      <th></th>\n",
       "      <th></th>\n",
       "      <th></th>\n",
       "      <th></th>\n",
       "      <th></th>\n",
       "      <th></th>\n",
       "      <th></th>\n",
       "      <th></th>\n",
       "      <th></th>\n",
       "      <th></th>\n",
       "      <th></th>\n",
       "    </tr>\n",
       "  </thead>\n",
       "  <tbody>\n",
       "    <tr>\n",
       "      <th>2008-07-01</th>\n",
       "      <td>2799.20</td>\n",
       "      <td>2809.38</td>\n",
       "      <td>2690.18</td>\n",
       "      <td>2698.35</td>\n",
       "      <td>288515.85</td>\n",
       "      <td>72.34</td>\n",
       "      <td>2.5006</td>\n",
       "      <td>-213.078565</td>\n",
       "      <td>-128.949052</td>\n",
       "      <td>119.200</td>\n",
       "      <td>3173.475692</td>\n",
       "      <td>3033.748201</td>\n",
       "      <td>2851.2504</td>\n",
       "      <td>-91.594</td>\n",
       "      <td>2851.3262</td>\n",
       "      <td>-280.770</td>\n",
       "      <td>-9.424605</td>\n",
       "      <td>-0.097927</td>\n",
       "      <td>-8.726278e+07</td>\n",
       "    </tr>\n",
       "    <tr>\n",
       "      <th>2008-07-02</th>\n",
       "      <td>2702.63</td>\n",
       "      <td>2745.94</td>\n",
       "      <td>2670.06</td>\n",
       "      <td>2699.60</td>\n",
       "      <td>279163.65</td>\n",
       "      <td>71.99</td>\n",
       "      <td>2.7238</td>\n",
       "      <td>-213.732249</td>\n",
       "      <td>-139.719688</td>\n",
       "      <td>75.875</td>\n",
       "      <td>3140.413385</td>\n",
       "      <td>3001.924277</td>\n",
       "      <td>2822.0828</td>\n",
       "      <td>-152.318</td>\n",
       "      <td>2797.3382</td>\n",
       "      <td>-252.645</td>\n",
       "      <td>-8.557733</td>\n",
       "      <td>-0.026497</td>\n",
       "      <td>-1.095493e+08</td>\n",
       "    </tr>\n",
       "  </tbody>\n",
       "</table>\n",
       "</div>"
      ],
      "text/plain": [
       "               open     high      low    close     volume  us dollar index  \\\n",
       "date                                                                         \n",
       "2008-07-01  2799.20  2809.38  2690.18  2698.35  288515.85            72.34   \n",
       "2008-07-02  2702.63  2745.94  2670.06  2699.60  279163.65            71.99   \n",
       "\n",
       "            shibor        macd         cci      atr         boll        ema20  \\\n",
       "date                                                                            \n",
       "2008-07-01  2.5006 -213.078565 -128.949052  119.200  3173.475692  3033.748201   \n",
       "2008-07-02  2.7238 -213.732249 -139.719688   75.875  3140.413385  3001.924277   \n",
       "\n",
       "                 ma10     mtm6        ma5    mtm12       roc       smi  \\\n",
       "date                                                                     \n",
       "2008-07-01  2851.2504  -91.594  2851.3262 -280.770 -9.424605 -0.097927   \n",
       "2008-07-02  2822.0828 -152.318  2797.3382 -252.645 -8.557733 -0.026497   \n",
       "\n",
       "                    wvad  \n",
       "date                      \n",
       "2008-07-01 -8.726278e+07  \n",
       "2008-07-02 -1.095493e+08  "
      ]
     },
     "execution_count": 45,
     "metadata": {},
     "output_type": "execute_result"
    }
   ],
   "source": [
    "dict_dataframes_index['csi300 index data'].head(2)"
   ]
  },
  {
   "cell_type": "code",
   "execution_count": 46,
   "metadata": {
    "scrolled": true
   },
   "outputs": [
    {
     "data": {
      "text/html": [
       "<div>\n",
       "<style scoped>\n",
       "    .dataframe tbody tr th:only-of-type {\n",
       "        vertical-align: middle;\n",
       "    }\n",
       "\n",
       "    .dataframe tbody tr th {\n",
       "        vertical-align: top;\n",
       "    }\n",
       "\n",
       "    .dataframe thead th {\n",
       "        text-align: right;\n",
       "    }\n",
       "</style>\n",
       "<table border=\"1\" class=\"dataframe\">\n",
       "  <thead>\n",
       "    <tr style=\"text-align: right;\">\n",
       "      <th></th>\n",
       "      <th>close</th>\n",
       "    </tr>\n",
       "    <tr>\n",
       "      <th>date</th>\n",
       "      <th></th>\n",
       "    </tr>\n",
       "  </thead>\n",
       "  <tbody>\n",
       "    <tr>\n",
       "      <th>2010-09-30</th>\n",
       "      <td>2953.4</td>\n",
       "    </tr>\n",
       "    <tr>\n",
       "      <th>2010-10-08</th>\n",
       "      <td>3054.2</td>\n",
       "    </tr>\n",
       "  </tbody>\n",
       "</table>\n",
       "</div>"
      ],
      "text/plain": [
       "             close\n",
       "date              \n",
       "2010-09-30  2953.4\n",
       "2010-10-08  3054.2"
      ]
     },
     "execution_count": 46,
     "metadata": {},
     "output_type": "execute_result"
    }
   ],
   "source": [
    "dict_dataframes_future['csi300 index future data'].head(2)"
   ]
  },
  {
   "cell_type": "code",
   "execution_count": 47,
   "metadata": {},
   "outputs": [
    {
     "name": "stdout",
     "output_type": "stream",
     "text": [
      "<class 'pandas.core.frame.DataFrame'>\n",
      "DatetimeIndex: 2010 entries, 2008-07-01 to 2016-09-30\n",
      "Data columns (total 19 columns):\n",
      "open               2010 non-null float64\n",
      "high               2010 non-null float64\n",
      "low                2010 non-null float64\n",
      "close              2010 non-null float64\n",
      "volume             2010 non-null float64\n",
      "us dollar index    2010 non-null float64\n",
      "shibor             2010 non-null float64\n",
      "macd               2010 non-null float64\n",
      "cci                2010 non-null float64\n",
      "atr                2010 non-null float64\n",
      "boll               2010 non-null float64\n",
      "ema20              2010 non-null float64\n",
      "ma10               2010 non-null float64\n",
      "mtm6               2010 non-null float64\n",
      "ma5                2010 non-null float64\n",
      "mtm12              2010 non-null float64\n",
      "roc                2010 non-null float64\n",
      "smi                2010 non-null float64\n",
      "wvad               2010 non-null float64\n",
      "dtypes: float64(19)\n",
      "memory usage: 314.1 KB\n"
     ]
    }
   ],
   "source": [
    "dict_dataframes_index['csi300 index data'].info()"
   ]
  },
  {
   "cell_type": "code",
   "execution_count": 48,
   "metadata": {},
   "outputs": [
    {
     "name": "stdout",
     "output_type": "stream",
     "text": [
      "<class 'pandas.core.frame.DataFrame'>\n",
      "DatetimeIndex: 1460 entries, 2010-09-30 to 2016-09-30\n",
      "Data columns (total 1 columns):\n",
      "close    1460 non-null float64\n",
      "dtypes: float64(1)\n",
      "memory usage: 22.8 KB\n"
     ]
    }
   ],
   "source": [
    "dict_dataframes_future['csi300 index future data'].info()"
   ]
  },
  {
   "cell_type": "code",
   "execution_count": null,
   "metadata": {},
   "outputs": [],
   "source": []
  },
  {
   "cell_type": "code",
   "execution_count": null,
   "metadata": {},
   "outputs": [],
   "source": []
  }
 ],
 "metadata": {
  "kernelspec": {
   "display_name": "Python 3",
   "language": "python",
   "name": "python3"
  },
  "language_info": {
   "codemirror_mode": {
    "name": "ipython",
    "version": 3
   },
   "file_extension": ".py",
   "mimetype": "text/x-python",
   "name": "python",
   "nbconvert_exporter": "python",
   "pygments_lexer": "ipython3",
   "version": "3.7.3"
  }
 },
 "nbformat": 4,
 "nbformat_minor": 2
}
