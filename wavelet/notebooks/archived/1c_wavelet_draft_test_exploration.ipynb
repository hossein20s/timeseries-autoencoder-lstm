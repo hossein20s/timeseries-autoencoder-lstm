{
 "cells": [
  {
   "cell_type": "code",
   "execution_count": 47,
   "metadata": {},
   "outputs": [],
   "source": [
    "# Imports (External)\n",
    "import numpy as np\n",
    "import pandas as pd\n",
    "import datetime as dt\n",
    "import xlrd\n",
    "import xlsxwriter\n",
    "from collections import OrderedDict\n",
    "\n",
    "import sys\n",
    "sys.path.append('../..')  \n",
    "\n",
    "# Visualization/plotting imports\n",
    "import matplotlib as mpl\n",
    "import matplotlib.pyplot as plt\n",
    "\n",
    "# Machine learning imports\n",
    "# import sklearn\n",
    "# import tensorflow as tf\n",
    "# import keras\n",
    "import pywt\n",
    "from pywt import wavedec, waverec\n",
    "from scipy import signal\n",
    "from statsmodels.robust import mad\n",
    "\n",
    "# Internal Imports\n",
    "from src.utils import dictmap_load"
   ]
  },
  {
   "cell_type": "code",
   "execution_count": 48,
   "metadata": {},
   "outputs": [],
   "source": [
    "dict_dataframes_index = dictmap_load(path = \"../../data/interim/clean_data_index.xlsx\")   \n",
    "#dict_dataframes_index['csi300 index data'].info()"
   ]
  },
  {
   "cell_type": "code",
   "execution_count": 49,
   "metadata": {
    "scrolled": false
   },
   "outputs": [
    {
     "data": {
      "text/html": [
       "<div>\n",
       "<style scoped>\n",
       "    .dataframe tbody tr th:only-of-type {\n",
       "        vertical-align: middle;\n",
       "    }\n",
       "\n",
       "    .dataframe tbody tr th {\n",
       "        vertical-align: top;\n",
       "    }\n",
       "\n",
       "    .dataframe thead th {\n",
       "        text-align: right;\n",
       "    }\n",
       "</style>\n",
       "<table border=\"1\" class=\"dataframe\">\n",
       "  <thead>\n",
       "    <tr style=\"text-align: right;\">\n",
       "      <th></th>\n",
       "      <th>open</th>\n",
       "      <th>high</th>\n",
       "      <th>low</th>\n",
       "      <th>close</th>\n",
       "      <th>volume</th>\n",
       "      <th>us dollar index</th>\n",
       "      <th>shibor</th>\n",
       "      <th>macd</th>\n",
       "      <th>cci</th>\n",
       "      <th>atr</th>\n",
       "      <th>boll</th>\n",
       "      <th>ema20</th>\n",
       "      <th>ma10</th>\n",
       "      <th>mtm6</th>\n",
       "      <th>ma5</th>\n",
       "      <th>mtm12</th>\n",
       "      <th>roc</th>\n",
       "      <th>smi</th>\n",
       "      <th>wvad</th>\n",
       "    </tr>\n",
       "  </thead>\n",
       "  <tbody>\n",
       "    <tr>\n",
       "      <th>0</th>\n",
       "      <td>2799.20</td>\n",
       "      <td>2809.38</td>\n",
       "      <td>2690.18</td>\n",
       "      <td>2698.35</td>\n",
       "      <td>288515.85</td>\n",
       "      <td>72.34</td>\n",
       "      <td>2.5006</td>\n",
       "      <td>-213.078565</td>\n",
       "      <td>-128.949052</td>\n",
       "      <td>119.200</td>\n",
       "      <td>3173.475692</td>\n",
       "      <td>3033.748201</td>\n",
       "      <td>2851.2504</td>\n",
       "      <td>-91.594</td>\n",
       "      <td>2851.3262</td>\n",
       "      <td>-280.770</td>\n",
       "      <td>-9.424605</td>\n",
       "      <td>-0.097927</td>\n",
       "      <td>-8.726278e+07</td>\n",
       "    </tr>\n",
       "    <tr>\n",
       "      <th>1</th>\n",
       "      <td>2702.63</td>\n",
       "      <td>2745.94</td>\n",
       "      <td>2670.06</td>\n",
       "      <td>2699.60</td>\n",
       "      <td>279163.65</td>\n",
       "      <td>71.99</td>\n",
       "      <td>2.7238</td>\n",
       "      <td>-213.732249</td>\n",
       "      <td>-139.719688</td>\n",
       "      <td>75.875</td>\n",
       "      <td>3140.413385</td>\n",
       "      <td>3001.924277</td>\n",
       "      <td>2822.0828</td>\n",
       "      <td>-152.318</td>\n",
       "      <td>2797.3382</td>\n",
       "      <td>-252.645</td>\n",
       "      <td>-8.557733</td>\n",
       "      <td>-0.026497</td>\n",
       "      <td>-1.095493e+08</td>\n",
       "    </tr>\n",
       "  </tbody>\n",
       "</table>\n",
       "</div>"
      ],
      "text/plain": [
       "      open     high      low    close     volume  us dollar index  shibor  \\\n",
       "0  2799.20  2809.38  2690.18  2698.35  288515.85            72.34  2.5006   \n",
       "1  2702.63  2745.94  2670.06  2699.60  279163.65            71.99  2.7238   \n",
       "\n",
       "         macd         cci      atr         boll        ema20       ma10  \\\n",
       "0 -213.078565 -128.949052  119.200  3173.475692  3033.748201  2851.2504   \n",
       "1 -213.732249 -139.719688   75.875  3140.413385  3001.924277  2822.0828   \n",
       "\n",
       "      mtm6        ma5    mtm12       roc       smi          wvad  \n",
       "0  -91.594  2851.3262 -280.770 -9.424605 -0.097927 -8.726278e+07  \n",
       "1 -152.318  2797.3382 -252.645 -8.557733 -0.026497 -1.095493e+08  "
      ]
     },
     "execution_count": 49,
     "metadata": {},
     "output_type": "execute_result"
    }
   ],
   "source": [
    "data = dict_dataframes_index['csi300 index data'].drop(['date'],axis=1,inplace=True)\n",
    "data = dict_dataframes_index['csi300 index data']\n",
    "data.head(2)"
   ]
  },
  {
   "cell_type": "code",
   "execution_count": 50,
   "metadata": {},
   "outputs": [
    {
     "data": {
      "text/plain": [
       "19"
      ]
     },
     "execution_count": 50,
     "metadata": {},
     "output_type": "execute_result"
    }
   ],
   "source": [
    "len(dict_dataframes_index['csi300 index data'].columns)"
   ]
  },
  {
   "cell_type": "code",
   "execution_count": 51,
   "metadata": {},
   "outputs": [],
   "source": [
    "# Multi-level wavelet transform\n",
    "    # https://pywavelets.readthedocs.io/en/latest/ref/dwt-discrete-wavelet-transform.html#pywt.wavedec\n",
    "w = pywt.Wavelet('haar')\n",
    "coeffs = wavedec(data, w, level=2,axis=1)\n",
    "cA2, cD2, cD1 = coeffs\n",
    "# cA = Approximation coefficients\n",
    "    # Approximation (low pass)\n",
    "# cD = Detail coefficient(s)\n",
    "    # Detail (high pass)\n",
    "    # Detail cofficients represent the high freq part of the signal  "
   ]
  },
  {
   "cell_type": "code",
   "execution_count": 52,
   "metadata": {
    "scrolled": true
   },
   "outputs": [
    {
     "name": "stdout",
     "output_type": "stream",
     "text": [
      "2010 2010 2010\n"
     ]
    }
   ],
   "source": [
    "print(len(cA2),len(cD2),len(cD1))"
   ]
  },
  {
   "cell_type": "code",
   "execution_count": 53,
   "metadata": {},
   "outputs": [
    {
     "data": {
      "text/html": [
       "<div>\n",
       "<style scoped>\n",
       "    .dataframe tbody tr th:only-of-type {\n",
       "        vertical-align: middle;\n",
       "    }\n",
       "\n",
       "    .dataframe tbody tr th {\n",
       "        vertical-align: top;\n",
       "    }\n",
       "\n",
       "    .dataframe thead th {\n",
       "        text-align: right;\n",
       "    }\n",
       "</style>\n",
       "<table border=\"1\" class=\"dataframe\">\n",
       "  <thead>\n",
       "    <tr style=\"text-align: right;\">\n",
       "      <th></th>\n",
       "      <th>0</th>\n",
       "      <th>1</th>\n",
       "      <th>2</th>\n",
       "      <th>3</th>\n",
       "      <th>4</th>\n",
       "    </tr>\n",
       "  </thead>\n",
       "  <tbody>\n",
       "    <tr>\n",
       "      <th>0</th>\n",
       "      <td>5498.555</td>\n",
       "      <td>144188.806018</td>\n",
       "      <td>3098.737421</td>\n",
       "      <td>2665.1063</td>\n",
       "      <td>-8.726279e+07</td>\n",
       "    </tr>\n",
       "    <tr>\n",
       "      <th>1</th>\n",
       "      <td>5409.115</td>\n",
       "      <td>139512.315776</td>\n",
       "      <td>3039.246487</td>\n",
       "      <td>2607.2290</td>\n",
       "      <td>-1.095493e+08</td>\n",
       "    </tr>\n",
       "    <tr>\n",
       "      <th>2</th>\n",
       "      <td>5420.015</td>\n",
       "      <td>228235.707397</td>\n",
       "      <td>3083.148915</td>\n",
       "      <td>2641.5633</td>\n",
       "      <td>-5.855737e+07</td>\n",
       "    </tr>\n",
       "    <tr>\n",
       "      <th>3</th>\n",
       "      <td>5496.465</td>\n",
       "      <td>189462.307019</td>\n",
       "      <td>3007.648359</td>\n",
       "      <td>2530.0121</td>\n",
       "      <td>-7.467504e+07</td>\n",
       "    </tr>\n",
       "    <tr>\n",
       "      <th>4</th>\n",
       "      <td>5634.485</td>\n",
       "      <td>263606.565496</td>\n",
       "      <td>3083.225194</td>\n",
       "      <td>2876.2001</td>\n",
       "      <td>-3.531151e+07</td>\n",
       "    </tr>\n",
       "  </tbody>\n",
       "</table>\n",
       "</div>"
      ],
      "text/plain": [
       "          0              1            2          3             4\n",
       "0  5498.555  144188.806018  3098.737421  2665.1063 -8.726279e+07\n",
       "1  5409.115  139512.315776  3039.246487  2607.2290 -1.095493e+08\n",
       "2  5420.015  228235.707397  3083.148915  2641.5633 -5.855737e+07\n",
       "3  5496.465  189462.307019  3007.648359  2530.0121 -7.467504e+07\n",
       "4  5634.485  263606.565496  3083.225194  2876.2001 -3.531151e+07"
      ]
     },
     "execution_count": 53,
     "metadata": {},
     "output_type": "execute_result"
    }
   ],
   "source": [
    "pd.DataFrame(cA2).head(5)"
   ]
  },
  {
   "cell_type": "code",
   "execution_count": 54,
   "metadata": {},
   "outputs": [
    {
     "data": {
      "text/html": [
       "<div>\n",
       "<style scoped>\n",
       "    .dataframe tbody tr th:only-of-type {\n",
       "        vertical-align: middle;\n",
       "    }\n",
       "\n",
       "    .dataframe tbody tr th {\n",
       "        vertical-align: top;\n",
       "    }\n",
       "\n",
       "    .dataframe thead th {\n",
       "        text-align: right;\n",
       "    }\n",
       "</style>\n",
       "<table border=\"1\" class=\"dataframe\">\n",
       "  <thead>\n",
       "    <tr style=\"text-align: right;\">\n",
       "      <th></th>\n",
       "      <th>0</th>\n",
       "      <th>1</th>\n",
       "      <th>2</th>\n",
       "      <th>3</th>\n",
       "      <th>4</th>\n",
       "      <th>5</th>\n",
       "      <th>6</th>\n",
       "      <th>7</th>\n",
       "      <th>8</th>\n",
       "      <th>9</th>\n",
       "    </tr>\n",
       "  </thead>\n",
       "  <tbody>\n",
       "    <tr>\n",
       "      <th>0</th>\n",
       "      <td>-7.198347</td>\n",
       "      <td>-5.777062</td>\n",
       "      <td>203960.361910</td>\n",
       "      <td>152.437489</td>\n",
       "      <td>-175.467877</td>\n",
       "      <td>98.802257</td>\n",
       "      <td>2080.905231</td>\n",
       "      <td>2214.726462</td>\n",
       "      <td>-6.594957</td>\n",
       "      <td>0.0</td>\n",
       "    </tr>\n",
       "    <tr>\n",
       "      <th>1</th>\n",
       "      <td>-30.624795</td>\n",
       "      <td>-20.887934</td>\n",
       "      <td>197347.605359</td>\n",
       "      <td>153.057540</td>\n",
       "      <td>-152.448466</td>\n",
       "      <td>97.926587</td>\n",
       "      <td>2103.218976</td>\n",
       "      <td>2156.663803</td>\n",
       "      <td>-6.032495</td>\n",
       "      <td>0.0</td>\n",
       "    </tr>\n",
       "  </tbody>\n",
       "</table>\n",
       "</div>"
      ],
      "text/plain": [
       "           0          1              2           3           4          5  \\\n",
       "0  -7.198347  -5.777062  203960.361910  152.437489 -175.467877  98.802257   \n",
       "1 -30.624795 -20.887934  197347.605359  153.057540 -152.448466  97.926587   \n",
       "\n",
       "             6            7         8    9  \n",
       "0  2080.905231  2214.726462 -6.594957  0.0  \n",
       "1  2103.218976  2156.663803 -6.032495  0.0  "
      ]
     },
     "execution_count": 54,
     "metadata": {},
     "output_type": "execute_result"
    }
   ],
   "source": [
    "pd.DataFrame(cD1).head(2)"
   ]
  },
  {
   "cell_type": "code",
   "execution_count": 55,
   "metadata": {
    "scrolled": true
   },
   "outputs": [
    {
     "data": {
      "text/html": [
       "<div>\n",
       "<style scoped>\n",
       "    .dataframe tbody tr th:only-of-type {\n",
       "        vertical-align: middle;\n",
       "    }\n",
       "\n",
       "    .dataframe tbody tr th {\n",
       "        vertical-align: top;\n",
       "    }\n",
       "\n",
       "    .dataframe thead th {\n",
       "        text-align: right;\n",
       "    }\n",
       "</style>\n",
       "<table border=\"1\" class=\"dataframe\">\n",
       "  <thead>\n",
       "    <tr style=\"text-align: right;\">\n",
       "      <th></th>\n",
       "      <th>0</th>\n",
       "      <th>1</th>\n",
       "      <th>2</th>\n",
       "      <th>3</th>\n",
       "      <th>4</th>\n",
       "    </tr>\n",
       "  </thead>\n",
       "  <tbody>\n",
       "    <tr>\n",
       "      <th>0</th>\n",
       "      <td>110.025</td>\n",
       "      <td>144399.383982</td>\n",
       "      <td>-3108.486472</td>\n",
       "      <td>94.5501</td>\n",
       "      <td>8.726278e+07</td>\n",
       "    </tr>\n",
       "    <tr>\n",
       "      <th>1</th>\n",
       "      <td>39.455</td>\n",
       "      <td>139723.324224</td>\n",
       "      <td>-3103.091175</td>\n",
       "      <td>62.5358</td>\n",
       "      <td>1.095493e+08</td>\n",
       "    </tr>\n",
       "  </tbody>\n",
       "</table>\n",
       "</div>"
      ],
      "text/plain": [
       "         0              1            2        3             4\n",
       "0  110.025  144399.383982 -3108.486472  94.5501  8.726278e+07\n",
       "1   39.455  139723.324224 -3103.091175  62.5358  1.095493e+08"
      ]
     },
     "execution_count": 55,
     "metadata": {},
     "output_type": "execute_result"
    }
   ],
   "source": [
    "pd.DataFrame(cD2).head(2)"
   ]
  },
  {
   "cell_type": "code",
   "execution_count": 56,
   "metadata": {
    "scrolled": true
   },
   "outputs": [],
   "source": [
    "#plt.plot(cA2);"
   ]
  },
  {
   "cell_type": "code",
   "execution_count": 57,
   "metadata": {},
   "outputs": [],
   "source": [
    "#plt.plot(cD1);"
   ]
  },
  {
   "cell_type": "code",
   "execution_count": 58,
   "metadata": {
    "scrolled": true
   },
   "outputs": [],
   "source": [
    "#plt.plot(cD2);"
   ]
  },
  {
   "cell_type": "code",
   "execution_count": 59,
   "metadata": {},
   "outputs": [],
   "source": [
    "#plt.plot(data);"
   ]
  },
  {
   "cell_type": "code",
   "execution_count": 61,
   "metadata": {},
   "outputs": [
    {
     "data": {
      "text/plain": [
       "2010"
      ]
     },
     "execution_count": 61,
     "metadata": {},
     "output_type": "execute_result"
    }
   ],
   "source": [
    "reconstructed_signal = pywt.waverec(coeffs, 'haar',axis=1)\n",
    "len(reconstructed_signal)"
   ]
  },
  {
   "cell_type": "code",
   "execution_count": 63,
   "metadata": {
    "scrolled": true
   },
   "outputs": [
    {
     "data": {
      "image/png": "[encoded data removed]",
      "text/plain": [
       "<Figure size 432x288 with 1 Axes>"
      ]
     },
     "metadata": {
      "needs_background": "light"
     },
     "output_type": "display_data"
    }
   ],
   "source": [
    "plt.plot(data);"
   ]
  },
  {
   "cell_type": "code",
   "execution_count": 62,
   "metadata": {},
   "outputs": [
    {
     "data": {
      "image/png": "[encoded data removed]",
      "text/plain": [
       "<Figure size 432x288 with 1 Axes>"
      ]
     },
     "metadata": {
      "needs_background": "light"
     },
     "output_type": "display_data"
    }
   ],
   "source": [
    "plt.plot(reconstructed_signal);"
   ]
  },
  {
   "cell_type": "code",
   "execution_count": 82,
   "metadata": {},
   "outputs": [
    {
     "data": {
      "text/html": [
       "<div>\n",
       "<style scoped>\n",
       "    .dataframe tbody tr th:only-of-type {\n",
       "        vertical-align: middle;\n",
       "    }\n",
       "\n",
       "    .dataframe tbody tr th {\n",
       "        vertical-align: top;\n",
       "    }\n",
       "\n",
       "    .dataframe thead th {\n",
       "        text-align: right;\n",
       "    }\n",
       "</style>\n",
       "<table border=\"1\" class=\"dataframe\">\n",
       "  <thead>\n",
       "    <tr style=\"text-align: right;\">\n",
       "      <th></th>\n",
       "      <th>0</th>\n",
       "      <th>1</th>\n",
       "      <th>2</th>\n",
       "      <th>3</th>\n",
       "      <th>4</th>\n",
       "      <th>5</th>\n",
       "      <th>6</th>\n",
       "      <th>7</th>\n",
       "      <th>8</th>\n",
       "      <th>9</th>\n",
       "      <th>10</th>\n",
       "      <th>11</th>\n",
       "      <th>12</th>\n",
       "      <th>13</th>\n",
       "      <th>14</th>\n",
       "      <th>15</th>\n",
       "      <th>16</th>\n",
       "      <th>17</th>\n",
       "      <th>18</th>\n",
       "    </tr>\n",
       "  </thead>\n",
       "  <tbody>\n",
       "    <tr>\n",
       "      <th>0</th>\n",
       "      <td>2799.20</td>\n",
       "      <td>2809.38</td>\n",
       "      <td>2690.18</td>\n",
       "      <td>2698.35</td>\n",
       "      <td>288515.85</td>\n",
       "      <td>72.34</td>\n",
       "      <td>2.5006</td>\n",
       "      <td>-213.078565</td>\n",
       "      <td>-128.949052</td>\n",
       "      <td>119.200</td>\n",
       "      <td>3173.475692</td>\n",
       "      <td>3033.748201</td>\n",
       "      <td>2851.2504</td>\n",
       "      <td>-91.594</td>\n",
       "      <td>2851.3262</td>\n",
       "      <td>-280.770</td>\n",
       "      <td>-9.424605</td>\n",
       "      <td>-0.097927</td>\n",
       "      <td>-8.726278e+07</td>\n",
       "    </tr>\n",
       "    <tr>\n",
       "      <th>1</th>\n",
       "      <td>2702.63</td>\n",
       "      <td>2745.94</td>\n",
       "      <td>2670.06</td>\n",
       "      <td>2699.60</td>\n",
       "      <td>279163.65</td>\n",
       "      <td>71.99</td>\n",
       "      <td>2.7238</td>\n",
       "      <td>-213.732249</td>\n",
       "      <td>-139.719688</td>\n",
       "      <td>75.875</td>\n",
       "      <td>3140.413385</td>\n",
       "      <td>3001.924277</td>\n",
       "      <td>2822.0828</td>\n",
       "      <td>-152.318</td>\n",
       "      <td>2797.3382</td>\n",
       "      <td>-252.645</td>\n",
       "      <td>-8.557733</td>\n",
       "      <td>-0.026497</td>\n",
       "      <td>-1.095493e+08</td>\n",
       "    </tr>\n",
       "  </tbody>\n",
       "</table>\n",
       "</div>"
      ],
      "text/plain": [
       "        0        1        2        3          4      5       6           7   \\\n",
       "0  2799.20  2809.38  2690.18  2698.35  288515.85  72.34  2.5006 -213.078565   \n",
       "1  2702.63  2745.94  2670.06  2699.60  279163.65  71.99  2.7238 -213.732249   \n",
       "\n",
       "           8        9            10           11         12       13  \\\n",
       "0 -128.949052  119.200  3173.475692  3033.748201  2851.2504  -91.594   \n",
       "1 -139.719688   75.875  3140.413385  3001.924277  2822.0828 -152.318   \n",
       "\n",
       "          14       15        16        17            18  \n",
       "0  2851.3262 -280.770 -9.424605 -0.097927 -8.726278e+07  \n",
       "1  2797.3382 -252.645 -8.557733 -0.026497 -1.095493e+08  "
      ]
     },
     "execution_count": 82,
     "metadata": {},
     "output_type": "execute_result"
    }
   ],
   "source": [
    "pd.DataFrame(reconstructed_signal).head(2)"
   ]
  },
  {
   "cell_type": "code",
   "execution_count": 83,
   "metadata": {
    "scrolled": true
   },
   "outputs": [
    {
     "data": {
      "text/html": [
       "<div>\n",
       "<style scoped>\n",
       "    .dataframe tbody tr th:only-of-type {\n",
       "        vertical-align: middle;\n",
       "    }\n",
       "\n",
       "    .dataframe tbody tr th {\n",
       "        vertical-align: top;\n",
       "    }\n",
       "\n",
       "    .dataframe thead th {\n",
       "        text-align: right;\n",
       "    }\n",
       "</style>\n",
       "<table border=\"1\" class=\"dataframe\">\n",
       "  <thead>\n",
       "    <tr style=\"text-align: right;\">\n",
       "      <th></th>\n",
       "      <th>open</th>\n",
       "      <th>high</th>\n",
       "      <th>low</th>\n",
       "      <th>close</th>\n",
       "      <th>volume</th>\n",
       "      <th>us dollar index</th>\n",
       "      <th>shibor</th>\n",
       "      <th>macd</th>\n",
       "      <th>cci</th>\n",
       "      <th>atr</th>\n",
       "      <th>boll</th>\n",
       "      <th>ema20</th>\n",
       "      <th>ma10</th>\n",
       "      <th>mtm6</th>\n",
       "      <th>ma5</th>\n",
       "      <th>mtm12</th>\n",
       "      <th>roc</th>\n",
       "      <th>smi</th>\n",
       "      <th>wvad</th>\n",
       "    </tr>\n",
       "  </thead>\n",
       "  <tbody>\n",
       "    <tr>\n",
       "      <th>0</th>\n",
       "      <td>2799.20</td>\n",
       "      <td>2809.38</td>\n",
       "      <td>2690.18</td>\n",
       "      <td>2698.35</td>\n",
       "      <td>288515.85</td>\n",
       "      <td>72.34</td>\n",
       "      <td>2.5006</td>\n",
       "      <td>-213.078565</td>\n",
       "      <td>-128.949052</td>\n",
       "      <td>119.200</td>\n",
       "      <td>3173.475692</td>\n",
       "      <td>3033.748201</td>\n",
       "      <td>2851.2504</td>\n",
       "      <td>-91.594</td>\n",
       "      <td>2851.3262</td>\n",
       "      <td>-280.770</td>\n",
       "      <td>-9.424605</td>\n",
       "      <td>-0.097927</td>\n",
       "      <td>-8.726278e+07</td>\n",
       "    </tr>\n",
       "    <tr>\n",
       "      <th>1</th>\n",
       "      <td>2702.63</td>\n",
       "      <td>2745.94</td>\n",
       "      <td>2670.06</td>\n",
       "      <td>2699.60</td>\n",
       "      <td>279163.65</td>\n",
       "      <td>71.99</td>\n",
       "      <td>2.7238</td>\n",
       "      <td>-213.732249</td>\n",
       "      <td>-139.719688</td>\n",
       "      <td>75.875</td>\n",
       "      <td>3140.413385</td>\n",
       "      <td>3001.924277</td>\n",
       "      <td>2822.0828</td>\n",
       "      <td>-152.318</td>\n",
       "      <td>2797.3382</td>\n",
       "      <td>-252.645</td>\n",
       "      <td>-8.557733</td>\n",
       "      <td>-0.026497</td>\n",
       "      <td>-1.095493e+08</td>\n",
       "    </tr>\n",
       "  </tbody>\n",
       "</table>\n",
       "</div>"
      ],
      "text/plain": [
       "      open     high      low    close     volume  us dollar index  shibor  \\\n",
       "0  2799.20  2809.38  2690.18  2698.35  288515.85            72.34  2.5006   \n",
       "1  2702.63  2745.94  2670.06  2699.60  279163.65            71.99  2.7238   \n",
       "\n",
       "         macd         cci      atr         boll        ema20       ma10  \\\n",
       "0 -213.078565 -128.949052  119.200  3173.475692  3033.748201  2851.2504   \n",
       "1 -213.732249 -139.719688   75.875  3140.413385  3001.924277  2822.0828   \n",
       "\n",
       "      mtm6        ma5    mtm12       roc       smi          wvad  \n",
       "0  -91.594  2851.3262 -280.770 -9.424605 -0.097927 -8.726278e+07  \n",
       "1 -152.318  2797.3382 -252.645 -8.557733 -0.026497 -1.095493e+08  "
      ]
     },
     "execution_count": 83,
     "metadata": {},
     "output_type": "execute_result"
    }
   ],
   "source": [
    "data.head(2)"
   ]
  },
  {
   "cell_type": "code",
   "execution_count": 84,
   "metadata": {},
   "outputs": [],
   "source": [
    "# http://connor-johnson.com/2016/01/24/using-pywavelets-to-remove-high-frequency-noise/\n",
    "def waveletSmooth( x, wavelet=\"haar\", level=1, declevel=3):\n",
    "    # calculate the wavelet coefficients\n",
    "    coeff = pywt.wavedec( x, wavelet, mode=\"per\",level=declevel,axis=0 )\n",
    "    # calculate a threshold\n",
    "    sigma = mad(coeff[-level])\n",
    "    uthresh = sigma * np.sqrt( 2*np.log( len( x ) ) )\n",
    "    coeff[1:] = ( pywt.threshold( i, value=uthresh, mode=\"soft\" ) for i in coeff[1:] )\n",
    "    # reconstruct the signal using the thresholded coefficients\n",
    "    y = pywt.waverec( coeff, wavelet, mode=\"per\",axis=0 )\n",
    "    f, ax = plt.subplots(figsize=(8,6))\n",
    "    plt.plot( x, color=\"b\", alpha=0.5)\n",
    "    plt.plot( y, color=\"r\")\n",
    "    ax.set_xlim((0,len(y)))\n",
    "    return y"
   ]
  },
  {
   "cell_type": "code",
   "execution_count": 85,
   "metadata": {},
   "outputs": [],
   "source": [
    "# handles, labels = plt.gca().get_legend_handles_labels()\n",
    "# by_label = OrderedDict(zip(labels, handles))\n",
    "# plt.legend(by_label.values(), by_label.keys())"
   ]
  },
  {
   "cell_type": "code",
   "execution_count": 86,
   "metadata": {},
   "outputs": [
    {
     "data": {
      "image/png": "[encoded data removed]",
      "text/plain": [
       "<Figure size 576x432 with 1 Axes>"
      ]
     },
     "metadata": {
      "needs_background": "light"
     },
     "output_type": "display_data"
    }
   ],
   "source": [
    "waveletSmooth(data[:300]);"
   ]
  },
  {
   "cell_type": "code",
   "execution_count": 87,
   "metadata": {},
   "outputs": [
    {
     "data": {
      "image/png": "[encoded data removed]",
      "text/plain": [
       "<Figure size 576x432 with 1 Axes>"
      ]
     },
     "metadata": {
      "needs_background": "light"
     },
     "output_type": "display_data"
    }
   ],
   "source": [
    "waveletSmooth(data[:100]);"
   ]
  },
  {
   "cell_type": "code",
   "execution_count": 88,
   "metadata": {},
   "outputs": [
    {
     "data": {
      "image/png": "[encoded data removed]",
      "text/plain": [
       "<Figure size 576x432 with 1 Axes>"
      ]
     },
     "metadata": {
      "needs_background": "light"
     },
     "output_type": "display_data"
    }
   ],
   "source": [
    "waveletSmooth(data[:70]);"
   ]
  },
  {
   "cell_type": "code",
   "execution_count": 89,
   "metadata": {
    "scrolled": false
   },
   "outputs": [
    {
     "data": {
      "image/png": "[encoded data removed]",
      "text/plain": [
       "<Figure size 576x432 with 1 Axes>"
      ]
     },
     "metadata": {
      "needs_background": "light"
     },
     "output_type": "display_data"
    }
   ],
   "source": [
    "denoised_data = waveletSmooth(data);"
   ]
  },
  {
   "cell_type": "code",
   "execution_count": 90,
   "metadata": {},
   "outputs": [],
   "source": [
    "# print(w)\n",
    "# w.filter_bank == (w.dec_lo, w.dec_hi, w.rec_lo, w.rec_hi)\n",
    "# print(w.filter_bank)\n",
    "# # https://pywavelets.readthedocs.io/en/latest/ref/other-functions.html#pywt.orthogonal_filter_bank\n",
    "# #print(pywt.orthogonal_filter_bank([2,2]))"
   ]
  },
  {
   "cell_type": "code",
   "execution_count": null,
   "metadata": {},
   "outputs": [],
   "source": []
  }
 ],
 "metadata": {
  "kernelspec": {
   "display_name": "Python 3",
   "language": "python",
   "name": "python3"
  },
  "language_info": {
   "codemirror_mode": {
    "name": "ipython",
    "version": 3
   },
   "file_extension": ".py",
   "mimetype": "text/x-python",
   "name": "python",
   "nbconvert_exporter": "python",
   "pygments_lexer": "ipython3",
   "version": "3.7.3"
  }
 },
 "nbformat": 4,
 "nbformat_minor": 2
}
