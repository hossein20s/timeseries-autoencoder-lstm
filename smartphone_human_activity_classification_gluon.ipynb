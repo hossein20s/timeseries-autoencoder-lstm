{
 "cells": [
  {
   "cell_type": "markdown",
   "metadata": {},
   "source": [
    "# Gluon RNN Classifier for Human activity recognition\n",
    "\n",
    "Classify human activity based on smartphone accelerometer and gyroscope data with gluon. A handy extensible RNNClassifier Gluon is provided which makes it simple to use RNN for other problems. "
   ]
  },
  {
   "cell_type": "markdown",
   "metadata": {},
   "source": [
    "## Dataset\n",
    "\n",
    "Human Activity Recognition Using Smartphones Data Set \n",
    "\n",
    "https://archive.ics.uci.edu/ml/datasets/human+activity+recognition+using+smartphones\n",
    "\n",
    "The experiments have been carried out with a group of 30 volunteers within an age bracket of 19-48 years. Each person performed six activities (WALKING, WALKING_UPSTAIRS, WALKING_DOWNSTAIRS, SITTING, STANDING, LAYING) wearing a smartphone (Samsung Galaxy S II) on the waist. Using its embedded accelerometer and gyroscope, we captured 3-axial linear acceleration and 3-axial angular velocity at a constant rate of 50Hz. The experiments have been video-recorded to label the data manually. The obtained dataset has been randomly partitioned into two sets, where 70% of the volunteers was selected for generating the training data and 30% the test data. \n",
    "\n",
    "The sensor signals (accelerometer and gyroscope) were pre-processed by applying noise filters and then sampled in fixed-width sliding windows of 2.56 sec and 50% overlap (128 readings/window). The sensor acceleration signal, which has gravitational and body motion components, was separated using a Butterworth low-pass filter into body acceleration and gravity. The gravitational force is assumed to have only low frequency components, therefore a filter with 0.3 Hz cutoff frequency was used. From each window, a vector of features was obtained by calculating variables from the time and frequency domain."
   ]
  },
  {
   "cell_type": "markdown",
   "metadata": {},
   "source": [
    "## Overview\n",
    "\n",
    "Follow this link to see a video of how the data was collected:\n",
    "\n",
    "<p align=\"center\">\n",
    "  <a href=\"http://www.youtube.com/watch?feature=player_embedded&v=XOEN9W05_4A\n",
    "\" target=\"_blank\"><img src=\"http://img.youtube.com/vi/XOEN9W05_4A/0.jpg\" \n",
    "alt=\"Video of the experiment\" width=\"400\" height=\"300\" border=\"10\" /></a>\n",
    "  <a href=\"https://youtu.be/XOEN9W05_4A\"><center>[Watch video]</center></a>\n",
    "</p>"
   ]
  },
  {
   "cell_type": "code",
   "execution_count": 21,
   "metadata": {
    "pycharm": {
     "is_executing": false
    }
   },
   "outputs": [],
   "source": [
    "# CODE\n",
    "\n",
    "import numpy as np\n",
    "from docutils.utils.math.latex2mathml import mx\n",
    "from mxnet_rnn_util import BaseRNNClassifier\n",
    "\n",
    "INPUT_SIGNAL_TYPES = [\n",
    "    \"body_acc_x_\",\n",
    "    \"body_acc_y_\",\n",
    "    \"body_acc_z_\",\n",
    "    \"body_gyro_x_\",\n",
    "    \"body_gyro_y_\",\n",
    "    \"body_gyro_z_\",\n",
    "    \"total_acc_x_\",\n",
    "    \"total_acc_y_\",\n",
    "    \"total_acc_z_\"\n",
    "]\n",
    "\n",
    "LABELS = [\n",
    "    \"WALKING\", \n",
    "    \"WALKING_UPSTAIRS\", \n",
    "    \"WALKING_DOWNSTAIRS\", \n",
    "    \"SITTING\", \n",
    "    \"STANDING\", \n",
    "    \"LAYING\"\n",
    "] "
   ]
  },
  {
   "cell_type": "markdown",
   "metadata": {
    "collapsed": true
   },
   "source": [
    "## Data preparation\n",
    "\n",
    "You can download the dataset and unzip it with its existing folder structure from https://archive.ics.uci.edu/ml/datasets/human+activity+recognition+using+smartphones\n",
    "\n",
    "** To make it easier, its been provided in the data/ folder **"
   ]
  },
  {
   "cell_type": "code",
   "execution_count": 22,
   "metadata": {
    "pycharm": {
     "is_executing": false
    }
   },
   "outputs": [
    {
     "data": {
      "text/plain": [
       "(7352, 128, 9)"
      ]
     },
     "execution_count": 22,
     "metadata": {},
     "output_type": "execute_result"
    }
   ],
   "source": [
    "### Load Data\n",
    "train = [\"data/har_data/train/%strain.txt\" % signal for signal in INPUT_SIGNAL_TYPES]\n",
    "test = [\"data/har_data/test/%stest.txt\" % signal for signal in INPUT_SIGNAL_TYPES]\n",
    "\n",
    "def load_data(files):\n",
    "    arr = []\n",
    "    for fname in files:\n",
    "        with open(fname, 'r') as f:\n",
    "            rows = [row.replace('  ', ' ').strip().split(' ') for row in f]\n",
    "            arr.append([np.array(ele, dtype=np.float32) for ele in rows])\n",
    "    return np.transpose(np.array(arr), (1, 2, 0))\n",
    "\n",
    "X_train = load_data(train)\n",
    "X_test = load_data(test)\n",
    "\n",
    "X_train.shape"
   ]
  },
  {
   "cell_type": "markdown",
   "metadata": {},
   "source": [
    "### Load training labels"
   ]
  },
  {
   "cell_type": "code",
   "execution_count": 23,
   "metadata": {
    "pycharm": {
     "is_executing": false
    }
   },
   "outputs": [
    {
     "data": {
      "text/plain": [
       "((7352,), (2947,))"
      ]
     },
     "execution_count": 23,
     "metadata": {},
     "output_type": "execute_result"
    }
   ],
   "source": [
    "import pandas as pd\n",
    "\n",
    "y_train_path = \"data/har_data/train/y_train.txt\"\n",
    "\n",
    "df = pd.read_csv(y_train_path, names=[\"labels\"])\n",
    "y_train = np.asarray(list(df.to_dict()['labels'].values())).astype('float32')\n",
    "\n",
    "y_test_path = \"data/har_data/test/y_test.txt\"\n",
    "df = pd.read_csv(y_test_path, names=[\"labels\"])\n",
    "y_test = np.asarray(list(df.to_dict()['labels'].values())).astype('float32')\n",
    "\n",
    "y_train.shape, y_test.shape"
   ]
  },
  {
   "cell_type": "markdown",
   "metadata": {},
   "source": [
    "### A Gluon RNN Helper class has been provided here to help extend and reuse the same code for other problems"
   ]
  },
  {
   "cell_type": "code",
   "execution_count": 25,
   "metadata": {
    "pycharm": {
     "is_executing": false
    }
   },
   "outputs": [],
   "source": [
    "# RNN Helper class\n"
   ]
  },
  {
   "cell_type": "markdown",
   "metadata": {},
   "source": [
    "### Network definition and training"
   ]
  },
  {
   "cell_type": "code",
   "execution_count": 26,
   "metadata": {
    "pycharm": {
     "is_executing": true
    }
   },
   "outputs": [
    {
     "name": "stdout",
     "output_type": "stream",
     "text": [
      "Data type: <class 'list'> <class 'list'> numpy <class 'numpy.ndarray'>\n",
      "Data type: <class 'list'> <class 'list'> numpy\n",
      "Sizes 1 32 64 cpu(0)\n",
      "[Epoch 0] [Batch 0/229] Loss: 1.77536, Batch acc: 0.15625\n",
      "[Epoch 0] [Batch 100/229] Loss: 1.40763, Batch acc: 0.53125\n",
      "[Epoch 0] [Batch 200/229] Loss: 1.19701, Batch acc: 0.37500\n",
      "Epoch 0. Loss: 1.10811 Train Acc: ('accuracy', 0.4542849344978166) Test Acc: ('accuracy', 0.42697010869565216)\n",
      "[Epoch 1] [Batch 0/229] Loss: 0.65015, Batch acc: 0.43750\n",
      "[Epoch 1] [Batch 100/229] Loss: 0.69905, Batch acc: 0.59375\n",
      "[Epoch 1] [Batch 200/229] Loss: 0.65364, Batch acc: 0.53125\n",
      "Epoch 1. Loss: 0.64143 Train Acc: ('accuracy', 0.5739628820960698) Test Acc: ('accuracy', 0.5431385869565217)\n",
      "[Epoch 2] [Batch 0/229] Loss: 0.50857, Batch acc: 0.46875\n",
      "[Epoch 2] [Batch 100/229] Loss: 0.50067, Batch acc: 0.46875\n",
      "[Epoch 2] [Batch 200/229] Loss: 0.43946, Batch acc: 0.68750\n",
      "Epoch 2. Loss: 0.41712 Train Acc: ('accuracy', 0.6209061135371179) Test Acc: ('accuracy', 0.5237771739130435)\n",
      "[Epoch 3] [Batch 0/229] Loss: 0.59193, Batch acc: 0.65625\n",
      "[Epoch 3] [Batch 100/229] Loss: 0.51272, Batch acc: 0.71875\n",
      "[Epoch 3] [Batch 200/229] Loss: 0.42572, Batch acc: 0.62500\n",
      "Epoch 3. Loss: 0.41626 Train Acc: ('accuracy', 0.5301582969432315) Test Acc: ('accuracy', 0.4813179347826087)\n",
      "[Epoch 4] [Batch 0/229] Loss: 0.70927, Batch acc: 0.56250\n",
      "[Epoch 4] [Batch 100/229] Loss: 0.50463, Batch acc: 0.68750\n",
      "[Epoch 4] [Batch 200/229] Loss: 0.34381, Batch acc: 0.71875\n",
      "Epoch 4. Loss: 0.31329 Train Acc: ('accuracy', 0.7258460698689956) Test Acc: ('accuracy', 0.6993885869565217)\n",
      "[Epoch 5] [Batch 0/229] Loss: 0.15508, Batch acc: 0.75000\n",
      "[Epoch 5] [Batch 100/229] Loss: 0.21402, Batch acc: 0.81250\n",
      "[Epoch 5] [Batch 200/229] Loss: 0.22374, Batch acc: 0.59375\n",
      "Epoch 5. Loss: 0.21819 Train Acc: ('accuracy', 0.7373089519650655) Test Acc: ('accuracy', 0.7146739130434783)\n",
      "[Epoch 6] [Batch 0/229] Loss: 0.14209, Batch acc: 0.71875\n",
      "[Epoch 6] [Batch 100/229] Loss: 0.16707, Batch acc: 0.71875\n",
      "[Epoch 6] [Batch 200/229] Loss: 0.16512, Batch acc: 0.87500\n",
      "Epoch 6. Loss: 0.16402 Train Acc: ('accuracy', 0.7431768558951966) Test Acc: ('accuracy', 0.7231657608695652)\n",
      "[Epoch 7] [Batch 0/229] Loss: 0.07368, Batch acc: 0.75000\n",
      "[Epoch 7] [Batch 100/229] Loss: 0.12425, Batch acc: 0.75000\n",
      "[Epoch 7] [Batch 200/229] Loss: 0.13457, Batch acc: 0.65625\n",
      "Epoch 7. Loss: 0.13634 Train Acc: ('accuracy', 0.7607805676855895) Test Acc: ('accuracy', 0.7231657608695652)\n",
      "[Epoch 8] [Batch 0/229] Loss: 0.14569, Batch acc: 0.78125\n",
      "[Epoch 8] [Batch 100/229] Loss: 0.16714, Batch acc: 0.75000\n",
      "[Epoch 8] [Batch 200/229] Loss: 0.21551, Batch acc: 0.78125\n",
      "Epoch 8. Loss: 0.20249 Train Acc: ('accuracy', 0.732532751091703) Test Acc: ('accuracy', 0.6766304347826086)\n",
      "[Epoch 9] [Batch 0/229] Loss: 0.22438, Batch acc: 0.87500\n",
      "[Epoch 9] [Batch 100/229] Loss: 0.18562, Batch acc: 0.75000\n",
      "[Epoch 9] [Batch 200/229] Loss: 0.14912, Batch acc: 0.81250\n",
      "Epoch 9. Loss: 0.15022 Train Acc: ('accuracy', 0.7370360262008734) Test Acc: ('accuracy', 0.7170516304347826)\n",
      "[Epoch 10] [Batch 0/229] Loss: 0.07090, Batch acc: 0.81250\n",
      "[Epoch 10] [Batch 100/229] Loss: 0.12938, Batch acc: 0.62500\n",
      "[Epoch 10] [Batch 200/229] Loss: 0.14381, Batch acc: 0.75000\n",
      "Epoch 10. Loss: 0.13672 Train Acc: ('accuracy', 0.7635098253275109) Test Acc: ('accuracy', 0.717391304347826)\n",
      "[Epoch 11] [Batch 0/229] Loss: 0.08190, Batch acc: 0.87500\n",
      "[Epoch 11] [Batch 100/229] Loss: 0.11702, Batch acc: 0.84375\n",
      "[Epoch 11] [Batch 200/229] Loss: 0.13509, Batch acc: 0.68750\n",
      "Epoch 11. Loss: 0.14101 Train Acc: ('accuracy', 0.7580513100436681) Test Acc: ('accuracy', 0.7221467391304348)\n",
      "[Epoch 12] [Batch 0/229] Loss: 0.19183, Batch acc: 0.75000\n",
      "[Epoch 12] [Batch 100/229] Loss: 0.16733, Batch acc: 0.96875\n",
      "[Epoch 12] [Batch 200/229] Loss: 0.15420, Batch acc: 0.68750\n",
      "Epoch 12. Loss: 0.15084 Train Acc: ('accuracy', 0.7523198689956332) Test Acc: ('accuracy', 0.7204483695652174)\n",
      "[Epoch 13] [Batch 0/229] Loss: 0.09549, Batch acc: 0.81250\n",
      "[Epoch 13] [Batch 100/229] Loss: 0.12099, Batch acc: 0.78125\n",
      "[Epoch 13] [Batch 200/229] Loss: 0.16731, Batch acc: 0.75000\n",
      "Epoch 13. Loss: 0.16042 Train Acc: ('accuracy', 0.7628275109170306) Test Acc: ('accuracy', 0.7269021739130435)\n",
      "[Epoch 14] [Batch 0/229] Loss: 0.08837, Batch acc: 0.75000\n",
      "[Epoch 14] [Batch 100/229] Loss: 0.11302, Batch acc: 0.75000\n",
      "[Epoch 14] [Batch 200/229] Loss: 0.18187, Batch acc: 0.68750\n",
      "Epoch 14. Loss: 0.17093 Train Acc: ('accuracy', 0.757778384279476) Test Acc: ('accuracy', 0.7177309782608695)\n",
      "[Epoch 15] [Batch 0/229] Loss: 0.15911, Batch acc: 0.56250\n",
      "[Epoch 15] [Batch 100/229] Loss: 0.15323, Batch acc: 0.59375\n",
      "[Epoch 15] [Batch 200/229] Loss: 0.13916, Batch acc: 0.68750\n",
      "Epoch 15. Loss: 0.13236 Train Acc: ('accuracy', 0.7528657205240175) Test Acc: ('accuracy', 0.7340353260869565)\n",
      "[Epoch 16] [Batch 0/229] Loss: 0.02768, Batch acc: 0.75000\n",
      "[Epoch 16] [Batch 100/229] Loss: 0.08514, Batch acc: 0.78125\n",
      "[Epoch 16] [Batch 200/229] Loss: 0.11229, Batch acc: 0.84375\n",
      "Epoch 16. Loss: 0.11489 Train Acc: ('accuracy', 0.7659661572052402) Test Acc: ('accuracy', 0.7299592391304348)\n",
      "[Epoch 17] [Batch 0/229] Loss: 0.20887, Batch acc: 0.84375\n",
      "[Epoch 17] [Batch 100/229] Loss: 0.16300, Batch acc: 0.78125\n",
      "[Epoch 17] [Batch 200/229] Loss: 0.13798, Batch acc: 0.81250\n",
      "Epoch 17. Loss: 0.13599 Train Acc: ('accuracy', 0.7656932314410481) Test Acc: ('accuracy', 0.7238451086956522)\n",
      "[Epoch 18] [Batch 0/229] Loss: 0.07195, Batch acc: 0.81250\n",
      "[Epoch 18] [Batch 100/229] Loss: 0.10172, Batch acc: 0.96875\n",
      "[Epoch 18] [Batch 200/229] Loss: 0.10781, Batch acc: 0.68750\n",
      "Epoch 18. Loss: 0.11095 Train Acc: ('accuracy', 0.7673307860262009) Test Acc: ('accuracy', 0.7309782608695652)\n",
      "[Epoch 19] [Batch 0/229] Loss: 0.07647, Batch acc: 0.78125\n",
      "[Epoch 19] [Batch 100/229] Loss: 0.09681, Batch acc: 0.81250\n",
      "[Epoch 19] [Batch 200/229] Loss: 0.12313, Batch acc: 0.93750\n",
      "Epoch 19. Loss: 0.12224 Train Acc: ('accuracy', 0.7680131004366813) Test Acc: ('accuracy', 0.7275815217391305)\n",
      "[Epoch 20] [Batch 0/229] Loss: 0.15364, Batch acc: 0.75000\n",
      "[Epoch 20] [Batch 100/229] Loss: 0.12541, Batch acc: 0.81250\n",
      "[Epoch 20] [Batch 200/229] Loss: 0.12589, Batch acc: 0.75000\n",
      "Epoch 20. Loss: 0.12466 Train Acc: ('accuracy', 0.7613264192139738) Test Acc: ('accuracy', 0.7421875)\n",
      "[Epoch 21] [Batch 0/229] Loss: 0.14916, Batch acc: 0.81250\n",
      "[Epoch 21] [Batch 100/229] Loss: 0.12981, Batch acc: 0.78125\n",
      "[Epoch 21] [Batch 200/229] Loss: 0.12013, Batch acc: 0.84375\n",
      "Epoch 21. Loss: 0.11760 Train Acc: ('accuracy', 0.763782751091703) Test Acc: ('accuracy', 0.733016304347826)\n",
      "[Epoch 22] [Batch 0/229] Loss: 0.02774, Batch acc: 0.93750\n",
      "[Epoch 22] [Batch 100/229] Loss: 0.07873, Batch acc: 0.62500\n",
      "[Epoch 22] [Batch 200/229] Loss: 0.10659, Batch acc: 0.90625\n",
      "Epoch 22. Loss: 0.11272 Train Acc: ('accuracy', 0.7671943231441049) Test Acc: ('accuracy', 0.7350543478260869)\n",
      "[Epoch 23] [Batch 0/229] Loss: 0.07226, Batch acc: 0.81250\n",
      "[Epoch 23] [Batch 100/229] Loss: 0.19274, Batch acc: 0.62500\n",
      "[Epoch 23] [Batch 200/229] Loss: 0.22081, Batch acc: 0.75000\n",
      "Epoch 23. Loss: 0.21212 Train Acc: ('accuracy', 0.7592794759825328) Test Acc: ('accuracy', 0.7143342391304348)\n",
      "[Epoch 24] [Batch 0/229] Loss: 0.09101, Batch acc: 0.87500\n",
      "[Epoch 24] [Batch 100/229] Loss: 0.12434, Batch acc: 0.81250\n",
      "[Epoch 24] [Batch 200/229] Loss: 0.12162, Batch acc: 0.78125\n",
      "Epoch 24. Loss: 0.11029 Train Acc: ('accuracy', 0.7677401746724891) Test Acc: ('accuracy', 0.7248641304347826)\n"
     ]
    }
   ],
   "source": [
    "ctx = mx.cpu() # .gpu(0) #change context to execute on CPU\n",
    "model = BaseRNNClassifier(ctx)\n",
    "model.build_model(n_out=len(LABELS), rnn_size=64, n_layer=1)\n",
    "model.compile_model()\n",
    "train_loss, train_acc, test_acc = model.fit([X_train, y_train], [X_test, y_test], batch_size=32, epochs=25)"
   ]
  },
  {
   "cell_type": "markdown",
   "metadata": {},
   "source": [
    "#### Lets plot accuracy and loss over each epoch"
   ]
  },
  {
   "cell_type": "code",
   "execution_count": 27,
   "metadata": {
    "pycharm": {
     "is_executing": true
    }
   },
   "outputs": [
    {
     "data": {
      "image/png": "[encoded data removed]",
      "text/plain": [
       "<Figure size 432x288 with 1 Axes>"
      ]
     },
     "metadata": {
      "needs_background": "light"
     },
     "output_type": "display_data"
    }
   ],
   "source": [
    "%matplotlib inline\n",
    "import matplotlib.pyplot as plt\n",
    "\n",
    "plt.plot(train_loss, label=\"loss\")\n",
    "plt.plot(train_acc, label=\"train\")\n",
    "plt.plot(test_acc, label=\"validation\")\n",
    "plt.legend()\n",
    "plt.show()"
   ]
  },
  {
   "cell_type": "code",
   "execution_count": 29,
   "metadata": {
    "pycharm": {
     "is_executing": false
    }
   },
   "outputs": [
    {
     "data": {
      "text/plain": "<Figure size 432x288 with 1 Axes>",
      "image/png": "[encoded data removed]"
     },
     "metadata": {
      "needs_background": "light"
     },
     "output_type": "display_data"
    }
   ],
   "source": [
    "# Loss plot\n",
    "\n",
    "plt.plot(train_loss, label=\"loss\")\n",
    "plt.legend()\n",
    "plt.show()"
   ]
  },
  {
   "cell_type": "code",
   "execution_count": 30,
   "outputs": [],
   "source": [
    "!mkdir models\n",
    "model.save_parameters('models/model.params')"
   ],
   "metadata": {
    "collapsed": false,
    "pycharm": {
     "name": "#%%\n",
     "is_executing": false
    }
   }
  },
  {
   "cell_type": "markdown",
   "metadata": {},
   "source": [
    "## Excercise \n",
    "\n",
    "1. Build the confusion matrix \n",
    "2. Try plotting the misclassified samples\n",
    "3. Can we use a CNN to solve this problem? "
   ]
  }
 ],
 "metadata": {
  "kernelspec": {
   "display_name": "PyCharm (timeseries-autoencoder-lstm)",
   "language": "python",
   "name": "pycharm-f4521f13"
  },
  "language_info": {
   "codemirror_mode": {
    "name": "ipython",
    "version": 3
   },
   "file_extension": ".py",
   "mimetype": "text/x-python",
   "name": "python",
   "nbconvert_exporter": "python",
   "pygments_lexer": "ipython3",
   "version": "3.6.8"
  },
  "pycharm": {
   "stem_cell": {
    "cell_type": "raw",
    "source": [],
    "metadata": {
     "collapsed": false
    }
   }
  }
 },
 "nbformat": 4,
 "nbformat_minor": 2
}