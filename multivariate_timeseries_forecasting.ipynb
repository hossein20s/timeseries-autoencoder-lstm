{
 "cells": [
  {
   "cell_type": "markdown",
   "metadata": {},
   "source": [
    "# Multivariate time series forecasting reference with Apache MXNet and Gluon \n",
    "\n",
    "\n",
    "This notebook draws heavy inspiration from [link](https://machinelearningmastery.com/multivariate-time-series-forecasting-lstms-keras/) and tries to recreate the results with `Apache MXNet` and `Gluon`. The aim of this notebook is to show how multivariate timeseries modeling can be done with Apache MXNet and Gluon. Don't forget to review the very handy `reusable` Gluon Regression class."
   ]
  },
  {
   "cell_type": "markdown",
   "metadata": {},
   "source": [
    "## Problem Description\n",
    "We are forecasting the air pollution with data recorded at the US embassy in Beijing, China for five years.\n",
    "\n",
    "\n",
    "<p style=\"font-weight:bold\">Dataset Attribution:</p> “PM2.5 data of US Embassy in Beijing”\n",
    "(https://archive.ics.uci.edu/ml/datasets/Beijing+PM2.5+Data)\n",
    "\n",
    "<p style=\"font-weight:bold\">Dataset Description:</p>\n",
    "``\n",
    "No: row number\n",
    "year: year of data in this row \n",
    "month: month of data in this row \n",
    "day: day of data in this row \n",
    "hour: hour of data in this row \n",
    "pm2.5: PM2.5 concentration (ug/m^3) \n",
    "DEWP: Dew Point (â„ƒ) \n",
    "TEMP: Temperature (â„ƒ) \n",
    "PRES: Pressure (hPa) \n",
    "cbwd: Combined wind direction \n",
    "Iws: Cumulated wind speed (m/s) \n",
    "Is: Cumulated hours of snow \n",
    "Ir: Cumulated hours of rain\n",
    "``"
   ]
  },
  {
   "cell_type": "markdown",
   "metadata": {},
   "source": [
    "### Set-up: Import Required Notebook Libraries\n",
    "<p>This Notebook requires a few basic Python libraries including <a href=\"http://pandas.pydata.org/\">`pandas`</a>, <a href=\"http://www.numpy.org/\">`numpy`</a>, <a href=\"https://mxnet.incubator.apache.org/\">`mxnet`</a>, <a href=\"https://docs.python.org/2/library/datetime.html\">`datetime`</a>, <a href=\"scikit-learn.org\"> `scikit-learn` </a> and <a href=\"https://matplotlib.org/\">`matplotlib`</a>.</p>"
   ]
  },
  {
   "cell_type": "markdown",
   "metadata": {},
   "source": [
    "# Load Dataset and clean it up"
   ]
  },
  {
   "cell_type": "code",
   "execution_count": null,
   "metadata": {
    "collapsed": false
   },
   "outputs": [],
   "source": [
    "from datetime import datetime\n",
    "\n",
    "import pandas as pd\n",
    "from keras import Sequential\n",
    "from keras.layers import Dense, LSTM\n",
    "from matplotlib import pyplot\n",
    "\n",
    "def parse(x):\n",
    "    return datetime.strptime(x, '%Y %m %d %H')\n",
    "\n",
    "org_col_names=[\"No\", \"year\",\"month\", \"day\", \"hour\", \"pm2.5\", \"DEWP\",\"TEMP\", \"PRES\", \"cbwd\", \"Iws\", \"Is\", \"Ir\"]\n",
    "col_names = ['pollution', 'dew', 'temp', 'pressure', 'w_dir', 'w_speed', 'snow', 'rain']         \n",
    "dataset = pd.read_csv('PRSA_data_2010.1.1-2014.12.31.csv',  \n",
    "                    index_col=0,\n",
    "                    date_parser=parse,\n",
    "                    parse_dates=[['year', 'month', 'day', 'hour']])\n",
    "\n",
    "# Data cleansing\n",
    "dataset.drop('No', axis=1, inplace=True)\n",
    "dataset.columns = col_names\n",
    "dataset['pollution'].fillna(0, inplace=True)\n",
    "dataset = dataset[24:] # drop the first day\n",
    "print(dataset.head(5))\n",
    "dataset.to_csv('pollution.csv') # save new CSV"
   ]
  },
  {
   "cell_type": "markdown",
   "metadata": {},
   "source": [
    "```\n",
    "No: row number\n",
    "year: year of data in this row\n",
    "month: month of data in this row\n",
    "day: day of data in this row\n",
    "hour: hour of data in this row\n",
    "pm2.5: PM2.5 concentration\n",
    "DEWP: Dew Point\n",
    "TEMP: Temperature\n",
    "PRES: Pressure\n",
    "cbwd: Combined wind direction\n",
    "Iws: Cumulated wind speed\n",
    "Is: Cumulated hours of snow\n",
    "Ir: Cumulated hours of rain\n",
    "```"
   ]
  },
  {
   "cell_type": "code",
   "execution_count": 8,
   "metadata": {
    "collapsed": false
   },
   "outputs": [
    {
     "data": {
      "text/html": [
       "<div>\n",
       "<table border=\"1\" class=\"dataframe\">\n",
       "  <thead>\n",
       "    <tr style=\"text-align: right;\">\n",
       "      <th></th>\n",
       "      <th>pollution</th>\n",
       "      <th>dew</th>\n",
       "      <th>temp</th>\n",
       "      <th>press</th>\n",
       "      <th>wnd_spd</th>\n",
       "      <th>snow</th>\n",
       "      <th>rain</th>\n",
       "    </tr>\n",
       "  </thead>\n",
       "  <tbody>\n",
       "    <tr>\n",
       "      <th>count</th>\n",
       "      <td>43800.000000</td>\n",
       "      <td>43800.000000</td>\n",
       "      <td>43800.000000</td>\n",
       "      <td>43800.000000</td>\n",
       "      <td>43800.000000</td>\n",
       "      <td>43800.000000</td>\n",
       "      <td>43800.000000</td>\n",
       "    </tr>\n",
       "    <tr>\n",
       "      <th>mean</th>\n",
       "      <td>94.013516</td>\n",
       "      <td>1.828516</td>\n",
       "      <td>12.459041</td>\n",
       "      <td>1016.447306</td>\n",
       "      <td>23.894307</td>\n",
       "      <td>0.052763</td>\n",
       "      <td>0.195023</td>\n",
       "    </tr>\n",
       "    <tr>\n",
       "      <th>std</th>\n",
       "      <td>92.252276</td>\n",
       "      <td>14.429326</td>\n",
       "      <td>12.193384</td>\n",
       "      <td>10.271411</td>\n",
       "      <td>50.022729</td>\n",
       "      <td>0.760582</td>\n",
       "      <td>1.416247</td>\n",
       "    </tr>\n",
       "    <tr>\n",
       "      <th>min</th>\n",
       "      <td>0.000000</td>\n",
       "      <td>-40.000000</td>\n",
       "      <td>-19.000000</td>\n",
       "      <td>991.000000</td>\n",
       "      <td>0.450000</td>\n",
       "      <td>0.000000</td>\n",
       "      <td>0.000000</td>\n",
       "    </tr>\n",
       "    <tr>\n",
       "      <th>25%</th>\n",
       "      <td>24.000000</td>\n",
       "      <td>-10.000000</td>\n",
       "      <td>2.000000</td>\n",
       "      <td>1008.000000</td>\n",
       "      <td>1.790000</td>\n",
       "      <td>0.000000</td>\n",
       "      <td>0.000000</td>\n",
       "    </tr>\n",
       "    <tr>\n",
       "      <th>50%</th>\n",
       "      <td>68.000000</td>\n",
       "      <td>2.000000</td>\n",
       "      <td>14.000000</td>\n",
       "      <td>1016.000000</td>\n",
       "      <td>5.370000</td>\n",
       "      <td>0.000000</td>\n",
       "      <td>0.000000</td>\n",
       "    </tr>\n",
       "    <tr>\n",
       "      <th>75%</th>\n",
       "      <td>132.250000</td>\n",
       "      <td>15.000000</td>\n",
       "      <td>23.000000</td>\n",
       "      <td>1025.000000</td>\n",
       "      <td>21.910000</td>\n",
       "      <td>0.000000</td>\n",
       "      <td>0.000000</td>\n",
       "    </tr>\n",
       "    <tr>\n",
       "      <th>max</th>\n",
       "      <td>994.000000</td>\n",
       "      <td>28.000000</td>\n",
       "      <td>42.000000</td>\n",
       "      <td>1046.000000</td>\n",
       "      <td>585.600000</td>\n",
       "      <td>27.000000</td>\n",
       "      <td>36.000000</td>\n",
       "    </tr>\n",
       "  </tbody>\n",
       "</table>\n",
       "</div>"
      ],
      "text/plain": [
       "          pollution           dew          temp         press       wnd_spd  \\\n",
       "count  43800.000000  43800.000000  43800.000000  43800.000000  43800.000000   \n",
       "mean      94.013516      1.828516     12.459041   1016.447306     23.894307   \n",
       "std       92.252276     14.429326     12.193384     10.271411     50.022729   \n",
       "min        0.000000    -40.000000    -19.000000    991.000000      0.450000   \n",
       "25%       24.000000    -10.000000      2.000000   1008.000000      1.790000   \n",
       "50%       68.000000      2.000000     14.000000   1016.000000      5.370000   \n",
       "75%      132.250000     15.000000     23.000000   1025.000000     21.910000   \n",
       "max      994.000000     28.000000     42.000000   1046.000000    585.600000   \n",
       "\n",
       "               snow          rain  \n",
       "count  43800.000000  43800.000000  \n",
       "mean       0.052763      0.195023  \n",
       "std        0.760582      1.416247  \n",
       "min        0.000000      0.000000  \n",
       "25%        0.000000      0.000000  \n",
       "50%        0.000000      0.000000  \n",
       "75%        0.000000      0.000000  \n",
       "max       27.000000     36.000000  "
      ]
     },
     "execution_count": 8,
     "metadata": {},
     "output_type": "execute_result"
    }
   ],
   "source": [
    "#Lets load the processed dataset\n",
    "import numpy as np\n",
    "%matplotlib inline\n",
    "import matplotlib.pyplot as plt\n",
    "\n",
    "\n",
    "# load dataset\n",
    "df = pd.read_csv('pollution.csv', header=0, index_col=0)\n",
    "df.describe()"
   ]
  },
  {
   "cell_type": "code",
   "execution_count": 9,
   "metadata": {
    "collapsed": false
   },
   "outputs": [
    {
     "data": {
      "text/plain": [
       "['pollution', 'dew', 'temp', 'press', 'wnd_dir', 'wnd_spd', 'snow', 'rain']"
      ]
     },
     "execution_count": 9,
     "metadata": {},
     "output_type": "execute_result"
    }
   ],
   "source": [
    "dataset_columns = df.columns.tolist()\n",
    "dataset_columns"
   ]
  },
  {
   "cell_type": "code",
   "execution_count": 10,
   "metadata": {
    "collapsed": false
   },
   "outputs": [
    {
     "name": "stderr",
     "output_type": "stream",
     "text": [
      "/usr/local/lib/python2.7/site-packages/ipykernel/__main__.py:3: FutureWarning: \n",
      "The default value for 'return_type' will change to 'axes' in a future release.\n",
      " To use the future behavior now, set return_type='axes'.\n",
      " To keep the previous behavior and silence this warning, set return_type='dict'.\n",
      "  app.launch_new_instance()\n"
     ]
    },
    {
     "data": {
      "text/plain": [
       "{'boxes': [<matplotlib.lines.Line2D at 0x10f15b850>,\n",
       "  <matplotlib.lines.Line2D at 0x10e677ed0>,\n",
       "  <matplotlib.lines.Line2D at 0x10e69dcd0>,\n",
       "  <matplotlib.lines.Line2D at 0x10e6d3910>,\n",
       "  <matplotlib.lines.Line2D at 0x10e6f5550>,\n",
       "  <matplotlib.lines.Line2D at 0x10eed2550>,\n",
       "  <matplotlib.lines.Line2D at 0x10f420b10>],\n",
       " 'caps': [<matplotlib.lines.Line2D at 0x10f16a750>,\n",
       "  <matplotlib.lines.Line2D at 0x10f16ad90>,\n",
       "  <matplotlib.lines.Line2D at 0x10e68f390>,\n",
       "  <matplotlib.lines.Line2D at 0x10e68f9d0>,\n",
       "  <matplotlib.lines.Line2D at 0x10e6a7f90>,\n",
       "  <matplotlib.lines.Line2D at 0x10e6c7610>,\n",
       "  <matplotlib.lines.Line2D at 0x10e6dfbd0>,\n",
       "  <matplotlib.lines.Line2D at 0x10e6eb250>,\n",
       "  <matplotlib.lines.Line2D at 0x10dd31ed0>,\n",
       "  <matplotlib.lines.Line2D at 0x10dd27f90>,\n",
       "  <matplotlib.lines.Line2D at 0x10f4161d0>,\n",
       "  <matplotlib.lines.Line2D at 0x10f416810>,\n",
       "  <matplotlib.lines.Line2D at 0x10f42fdd0>,\n",
       "  <matplotlib.lines.Line2D at 0x10f43a450>],\n",
       " 'fliers': [<matplotlib.lines.Line2D at 0x10e677a50>,\n",
       "  <matplotlib.lines.Line2D at 0x10e69d690>,\n",
       "  <matplotlib.lines.Line2D at 0x10e6d32d0>,\n",
       "  <matplotlib.lines.Line2D at 0x10e6ebed0>,\n",
       "  <matplotlib.lines.Line2D at 0x10eed2e90>,\n",
       "  <matplotlib.lines.Line2D at 0x10f4204d0>,\n",
       "  <matplotlib.lines.Line2D at 0x10f446110>],\n",
       " 'means': [],\n",
       " 'medians': [<matplotlib.lines.Line2D at 0x10e677410>,\n",
       "  <matplotlib.lines.Line2D at 0x10e69d050>,\n",
       "  <matplotlib.lines.Line2D at 0x10e6c7c50>,\n",
       "  <matplotlib.lines.Line2D at 0x10e6eb890>,\n",
       "  <matplotlib.lines.Line2D at 0x10eedb190>,\n",
       "  <matplotlib.lines.Line2D at 0x10f416e50>,\n",
       "  <matplotlib.lines.Line2D at 0x10f43aa90>],\n",
       " 'whiskers': [<matplotlib.lines.Line2D at 0x10f15ba10>,\n",
       "  <matplotlib.lines.Line2D at 0x10f16a110>,\n",
       "  <matplotlib.lines.Line2D at 0x10e6826d0>,\n",
       "  <matplotlib.lines.Line2D at 0x10e682d10>,\n",
       "  <matplotlib.lines.Line2D at 0x10e6a7310>,\n",
       "  <matplotlib.lines.Line2D at 0x10e6a7950>,\n",
       "  <matplotlib.lines.Line2D at 0x10e6d3f10>,\n",
       "  <matplotlib.lines.Line2D at 0x10e6df590>,\n",
       "  <matplotlib.lines.Line2D at 0x10e6f5b50>,\n",
       "  <matplotlib.lines.Line2D at 0x10dd3a350>,\n",
       "  <matplotlib.lines.Line2D at 0x10e702510>,\n",
       "  <matplotlib.lines.Line2D at 0x10e702b50>,\n",
       "  <matplotlib.lines.Line2D at 0x10f42f150>,\n",
       "  <matplotlib.lines.Line2D at 0x10f42f790>]}"
      ]
     },
     "execution_count": 10,
     "metadata": {},
     "output_type": "execute_result"
    },
    {
     "data": {
      "image/png": "[encoded data removed]",
      "text/plain": [
       "<matplotlib.figure.Figure at 0x10e3006d0>"
      ]
     },
     "metadata": {},
     "output_type": "display_data"
    }
   ],
   "source": [
    "#Box plot\n",
    "pd.options.display.mpl_style = False\n",
    "df.boxplot()"
   ]
  },
  {
   "cell_type": "markdown",
   "metadata": {},
   "source": [
    "From the data looks like the wind speed has the largest standard deviation along with pollution. Lets see how these parameters interact with each other by plotting a correlation matrix."
   ]
  },
  {
   "cell_type": "code",
   "execution_count": 14,
   "metadata": {
    "collapsed": false
   },
   "outputs": [
    {
     "data": {
      "image/png": "[encoded data removed]",
      "text/plain": [
       "<matplotlib.figure.Figure at 0x11034dc10>"
      ]
     },
     "metadata": {},
     "output_type": "display_data"
    }
   ],
   "source": [
    "cor_cols = ['pollution', 'wnd_spd', 'rain', 'snow', 'temp']\n",
    "\n",
    "plt.matshow(df.loc[:, cor_cols].corr())\n",
    "plt.xticks(range(len(cor_cols)), cor_cols)\n",
    "plt.yticks(range(len(cor_cols)), cor_cols)\n",
    "plt.colorbar()\n",
    "plt.show()"
   ]
  },
  {
   "cell_type": "markdown",
   "metadata": {},
   "source": [
    "There isn't much here, windspeed is weak (0.2) negatively correlated with pollution which makes sense as wind can cause pollution particles to disperse. None of the other params are correlated in a meaningful manner. This makes the problem more challenging for any statistical based approach. Hence lets use deep learning to forecast pollution count given these variables like temperature, wind speed, rain, snow etc.\n",
    "\n",
    "Also to dive deeper lets take a look at pairwise scatter matrix for more insights."
   ]
  },
  {
   "cell_type": "markdown",
   "metadata": {},
   "source": [
    "### Data Processing"
   ]
  },
  {
   "cell_type": "code",
   "execution_count": 17,
   "metadata": {
    "collapsed": false
   },
   "outputs": [
    {
     "data": {
      "text/plain": [
       "array([ 2.,  2.,  2., ...,  1.,  1.,  1.], dtype=float32)"
      ]
     },
     "execution_count": 17,
     "metadata": {},
     "output_type": "execute_result"
    }
   ],
   "source": [
    "from sklearn.preprocessing import LabelEncoder\n",
    "\n",
    "# Encode non categorical values\n",
    "values = df.values\n",
    "encoder = LabelEncoder()\n",
    "values[:,4] = encoder.fit_transform(values[:,4])\n",
    "values = values.astype('float32')\n",
    "values[:,4]"
   ]
  },
  {
   "cell_type": "code",
   "execution_count": 18,
   "metadata": {
    "collapsed": true
   },
   "outputs": [],
   "source": [
    "from sklearn.preprocessing import MinMaxScaler\n",
    "\n",
    "scaler = MinMaxScaler(feature_range=(0, 1))\n",
    "scaled_dataset = scaler.fit_transform(values)"
   ]
  },
  {
   "cell_type": "code",
   "execution_count": 19,
   "metadata": {
    "collapsed": false
   },
   "outputs": [
    {
     "name": "stdout",
     "output_type": "stream",
     "text": [
      "8 (43800, 8)\n",
      "   pollution(t-1)  dew(t-1)  temp(t-1)  press(t-1)  wnd_dir(t-1)  \\\n",
      "1        0.129779  0.352941   0.245902    0.527273      0.666667   \n",
      "2        0.148893  0.367647   0.245902    0.527273      0.666667   \n",
      "3        0.159960  0.426471   0.229508    0.545454      0.666667   \n",
      "4        0.182093  0.485294   0.229508    0.563637      0.666667   \n",
      "5        0.138833  0.485294   0.229508    0.563637      0.666667   \n",
      "\n",
      "   wnd_spd(t-1)  snow(t-1)  rain(t-1)  pollution(t)  \n",
      "1      0.002290   0.000000        0.0      0.148893  \n",
      "2      0.003811   0.000000        0.0      0.159960  \n",
      "3      0.005332   0.000000        0.0      0.182093  \n",
      "4      0.008391   0.037037        0.0      0.138833  \n",
      "5      0.009912   0.074074        0.0      0.109658  \n"
     ]
    }
   ],
   "source": [
    "# Generate the sequences\n",
    "df = pd.DataFrame(scaled_dataset)\n",
    "cols = []\n",
    "col_names = []\n",
    "\n",
    "n_in = 1\n",
    "n_out = 1\n",
    "    \n",
    "n_vars = scaled_dataset.shape[1] # number of variables; here we have 8 variables\n",
    "print(n_vars, scaled_dataset.shape)\n",
    "\n",
    "# input sequence (t-n, ... t-1)\n",
    "for i in range(n_in, 0, -1):\n",
    "    cols.append(df.shift(i))\n",
    "    col_names += [('%s(t-%d)' % (dataset_columns[j], i)) for j in range(n_vars)]\n",
    "\n",
    "# Lets forcecast pollution values\n",
    "# forecast sequence (t, t+1, ... t+n)\n",
    "cols.append(df.shift(0))\n",
    "col_names += [('%s(t)' % dataset_columns[j]) for j in range(n_vars)]\n",
    "#print(col_names, len(col_names)\n",
    "\n",
    "all_values = pd.concat(cols, axis=1)\n",
    "all_values.columns = col_names\n",
    "all_values.dropna(inplace=True) #drop NaN\n",
    "    \n",
    "# Only forecasting one variable(pollution) next day, so drop the rest\n",
    "all_values.drop(all_values.columns[range(9,16)], axis=1, inplace=True)\n",
    "print(all_values.head())"
   ]
  },
  {
   "cell_type": "code",
   "execution_count": 21,
   "metadata": {
    "collapsed": false
   },
   "outputs": [
    {
     "name": "stdout",
     "output_type": "stream",
     "text": [
      "Dataset Shape:  (43799, 9)\n",
      "[[ 0.12977867  0.35294122  0.24590163  0.52727318  0.66666669  0.00229001\n",
      "   0.          0.        ]] 0.148893\n"
     ]
    }
   ],
   "source": [
    "# Next, arrange the data as sequences for training and prediction\n",
    "\n",
    "seq_len = 1  # sequence length or time step\n",
    "print(\"Dataset Shape: \", all_values.values.shape)\n",
    "\n",
    "X = all_values.values[:,:-1] # extract the last column pollution which is our target variable \n",
    "y = all_values.values[:,-1] # extract the last column  pollution which is our target variable \n",
    "\n",
    "dataX = []; dataY = []\n",
    "for i in range(0, len(y) - seq_len):\n",
    "    _x = X[i: i+seq_len]\n",
    "    _y = y[i: i+seq_len]\n",
    "    _y = _y[-1] # pick last one as the forecast target\n",
    "    dataX.append(_x)\n",
    "    dataY.append(_y)\n",
    "    \n",
    "print(dataX[0], dataY[0])"
   ]
  },
  {
   "cell_type": "code",
   "execution_count": 23,
   "metadata": {
    "collapsed": false
   },
   "outputs": [
    {
     "data": {
      "text/plain": [
       "((8760, 8), (8760,))"
      ]
     },
     "execution_count": 23,
     "metadata": {},
     "output_type": "execute_result"
    }
   ],
   "source": [
    "# lets keep the orginal X and y for testing purposes later\n",
    "n_train_hours = 365 * 24\n",
    "\n",
    "o_test_X, o_test_y = X[:n_train_hours], y[:n_train_hours]\n",
    "o_test_X.shape, o_test_y.shape"
   ]
  },
  {
   "cell_type": "code",
   "execution_count": 24,
   "metadata": {
    "collapsed": false
   },
   "outputs": [
    {
     "name": "stdout",
     "output_type": "stream",
     "text": [
      "(35038, 1, 8) (35038,) (8760, 1, 8) (8760,)\n"
     ]
    }
   ],
   "source": [
    "# split into train and test sets\n",
    "n_train_hours = 365 * 24\n",
    "\n",
    "dataX = np.array(dataX)\n",
    "dataY = np.array(dataY)\n",
    "\n",
    "#3D [samples, timesteps, features]\n",
    "train_X, train_y = dataX[n_train_hours:], dataY[n_train_hours:]\n",
    "test_X, test_y = dataX[:n_train_hours], dataY[:n_train_hours]\n",
    "\n",
    "print(train_X.shape, train_y.shape, test_X.shape, test_y.shape)"
   ]
  },
  {
   "cell_type": "markdown",
   "metadata": {},
   "source": [
    "# Keras model"
   ]
  },
  {
   "cell_type": "code",
   "execution_count": null,
   "metadata": {
    "collapsed": false
   },
   "outputs": [],
   "source": [
    "# design network\n",
    "model = Sequential()\n",
    "model.add(LSTM(50, input_shape=(train_X.shape[1], train_X.shape[2])))\n",
    "model.add(Dense(1))\n",
    "model.compile(loss='mae', optimizer='adam')\n",
    "# fit network\n",
    "history = model.fit(train_X, train_y, nb_epoch=5, \n",
    "                    batch_size=72, validation_data=(test_X, test_y), verbose=2, shuffle=False)\n",
    "\n",
    "# plot history\n",
    "pyplot.plot(history.history['loss'], label='train')\n",
    "pyplot.plot(history.history['val_loss'], label='test')\n",
    "pyplot.legend()\n",
    "pyplot.show()"
   ]
  },
  {
   "cell_type": "markdown",
   "metadata": {},
   "source": [
    "# MXNet Symbolic model -- LSTM"
   ]
  },
  {
   "cell_type": "code",
   "execution_count": 25,
   "metadata": {
    "collapsed": false
   },
   "outputs": [],
   "source": [
    "import mxnet as mx\n",
    "batch_size = 72\n",
    "\n",
    "train_iter = mx.io.NDArrayIter(data=train_X, label=train_y,\n",
    "                                   data_name=\"data\", label_name=\"target\",\n",
    "                                   batch_size=batch_size,\n",
    "                                   shuffle=True)\n",
    "test_iter = mx.io.NDArrayIter(data=test_X, label=test_y,\n",
    "                                  data_name=\"data\", label_name=\"target\",\n",
    "                                  batch_size=batch_size)"
   ]
  },
  {
   "cell_type": "code",
   "execution_count": 26,
   "metadata": {
    "collapsed": false
   },
   "outputs": [
    {
     "name": "stderr",
     "output_type": "stream",
     "text": [
      "INFO:root:Epoch[0] Batch [100]\tSpeed: 33522.36 samples/sec\tmae=0.068627\n",
      "INFO:root:Epoch[0] Batch [200]\tSpeed: 30171.62 samples/sec\tmae=0.061740\n",
      "INFO:root:Epoch[0] Batch [300]\tSpeed: 46810.34 samples/sec\tmae=0.048034\n",
      "INFO:root:Epoch[0] Batch [400]\tSpeed: 45065.85 samples/sec\tmae=0.035110\n",
      "INFO:root:Epoch[0] Train-mae=0.027237\n",
      "INFO:root:Epoch[0] Time cost=0.923\n",
      "INFO:root:Epoch[0] Validation-mae=0.021806\n",
      "INFO:root:Epoch[1] Batch [100]\tSpeed: 45014.87 samples/sec\tmae=0.025499\n",
      "INFO:root:Epoch[1] Batch [200]\tSpeed: 44778.38 samples/sec\tmae=0.023631\n",
      "INFO:root:Epoch[1] Batch [300]\tSpeed: 42953.03 samples/sec\tmae=0.023732\n",
      "INFO:root:Epoch[1] Batch [400]\tSpeed: 44880.80 samples/sec\tmae=0.022941\n",
      "INFO:root:Epoch[1] Train-mae=0.022609\n",
      "INFO:root:Epoch[1] Time cost=0.805\n",
      "INFO:root:Epoch[1] Validation-mae=0.017790\n",
      "INFO:root:Epoch[2] Batch [100]\tSpeed: 45098.09 samples/sec\tmae=0.022231\n",
      "INFO:root:Epoch[2] Batch [200]\tSpeed: 44617.42 samples/sec\tmae=0.021972\n",
      "INFO:root:Epoch[2] Batch [300]\tSpeed: 39491.86 samples/sec\tmae=0.021692\n",
      "INFO:root:Epoch[2] Batch [400]\tSpeed: 44106.85 samples/sec\tmae=0.021726\n",
      "INFO:root:Epoch[2] Train-mae=0.021117\n",
      "INFO:root:Epoch[2] Time cost=0.813\n",
      "INFO:root:Epoch[2] Validation-mae=0.018386\n",
      "INFO:root:Epoch[3] Batch [100]\tSpeed: 36840.52 samples/sec\tmae=0.021796\n",
      "INFO:root:Epoch[3] Batch [200]\tSpeed: 45891.14 samples/sec\tmae=0.020781\n",
      "INFO:root:Epoch[3] Batch [300]\tSpeed: 44346.17 samples/sec\tmae=0.021276\n",
      "INFO:root:Epoch[3] Batch [400]\tSpeed: 44173.95 samples/sec\tmae=0.020689\n",
      "INFO:root:Epoch[3] Train-mae=0.021111\n",
      "INFO:root:Epoch[3] Time cost=0.827\n",
      "INFO:root:Epoch[3] Validation-mae=0.018965\n",
      "INFO:root:Epoch[4] Batch [100]\tSpeed: 38625.78 samples/sec\tmae=0.020565\n",
      "INFO:root:Epoch[4] Batch [200]\tSpeed: 40700.27 samples/sec\tmae=0.020609\n",
      "INFO:root:Epoch[4] Batch [300]\tSpeed: 40062.07 samples/sec\tmae=0.021107\n",
      "INFO:root:Epoch[4] Batch [400]\tSpeed: 40480.13 samples/sec\tmae=0.020550\n",
      "INFO:root:Epoch[4] Train-mae=0.020375\n",
      "INFO:root:Epoch[4] Time cost=0.872\n",
      "INFO:root:Epoch[4] Validation-mae=0.016829\n",
      "INFO:root:Epoch[5] Batch [100]\tSpeed: 40427.68 samples/sec\tmae=0.020313\n",
      "INFO:root:Epoch[5] Batch [200]\tSpeed: 42018.32 samples/sec\tmae=0.019854\n",
      "INFO:root:Epoch[5] Batch [300]\tSpeed: 40181.47 samples/sec\tmae=0.020547\n",
      "INFO:root:Epoch[5] Batch [400]\tSpeed: 42751.03 samples/sec\tmae=0.020206\n",
      "INFO:root:Epoch[5] Train-mae=0.020125\n",
      "INFO:root:Epoch[5] Time cost=0.855\n",
      "INFO:root:Epoch[5] Validation-mae=0.015852\n",
      "INFO:root:Epoch[6] Batch [100]\tSpeed: 38462.36 samples/sec\tmae=0.020302\n",
      "INFO:root:Epoch[6] Batch [200]\tSpeed: 42050.44 samples/sec\tmae=0.019447\n",
      "INFO:root:Epoch[6] Batch [300]\tSpeed: 40831.85 samples/sec\tmae=0.020595\n",
      "INFO:root:Epoch[6] Batch [400]\tSpeed: 42191.62 samples/sec\tmae=0.020198\n",
      "INFO:root:Epoch[6] Train-mae=0.020158\n",
      "INFO:root:Epoch[6] Time cost=0.859\n",
      "INFO:root:Epoch[6] Validation-mae=0.020148\n",
      "INFO:root:Epoch[7] Batch [100]\tSpeed: 36639.56 samples/sec\tmae=0.020504\n",
      "INFO:root:Epoch[7] Batch [200]\tSpeed: 39119.84 samples/sec\tmae=0.019879\n",
      "INFO:root:Epoch[7] Batch [300]\tSpeed: 40538.93 samples/sec\tmae=0.020161\n",
      "INFO:root:Epoch[7] Batch [400]\tSpeed: 43743.19 samples/sec\tmae=0.019903\n",
      "INFO:root:Epoch[7] Train-mae=0.019786\n",
      "INFO:root:Epoch[7] Time cost=0.900\n",
      "INFO:root:Epoch[7] Validation-mae=0.017070\n",
      "INFO:root:Epoch[8] Batch [100]\tSpeed: 33243.60 samples/sec\tmae=0.020112\n",
      "INFO:root:Epoch[8] Batch [200]\tSpeed: 41884.05 samples/sec\tmae=0.019551\n",
      "INFO:root:Epoch[8] Batch [300]\tSpeed: 44309.60 samples/sec\tmae=0.020270\n",
      "INFO:root:Epoch[8] Batch [400]\tSpeed: 42479.64 samples/sec\tmae=0.020014\n",
      "INFO:root:Epoch[8] Train-mae=0.019363\n",
      "INFO:root:Epoch[8] Time cost=0.882\n",
      "INFO:root:Epoch[8] Validation-mae=0.017055\n",
      "INFO:root:Epoch[9] Batch [100]\tSpeed: 40945.39 samples/sec\tmae=0.019967\n",
      "INFO:root:Epoch[9] Batch [200]\tSpeed: 40587.42 samples/sec\tmae=0.019401\n",
      "INFO:root:Epoch[9] Batch [300]\tSpeed: 44070.35 samples/sec\tmae=0.020046\n",
      "INFO:root:Epoch[9] Batch [400]\tSpeed: 39210.96 samples/sec\tmae=0.019537\n",
      "INFO:root:Epoch[9] Train-mae=0.019428\n",
      "INFO:root:Epoch[9] Time cost=0.864\n",
      "INFO:root:Epoch[9] Validation-mae=0.017244\n",
      "INFO:root:Epoch[10] Batch [100]\tSpeed: 34737.63 samples/sec\tmae=0.020192\n",
      "INFO:root:Epoch[10] Batch [200]\tSpeed: 45315.79 samples/sec\tmae=0.019462\n",
      "INFO:root:Epoch[10] Batch [300]\tSpeed: 40456.92 samples/sec\tmae=0.019828\n",
      "INFO:root:Epoch[10] Batch [400]\tSpeed: 42015.81 samples/sec\tmae=0.019612\n",
      "INFO:root:Epoch[10] Train-mae=0.019277\n",
      "INFO:root:Epoch[10] Time cost=0.879\n",
      "INFO:root:Epoch[10] Validation-mae=0.017234\n",
      "INFO:root:Epoch[11] Batch [100]\tSpeed: 37215.62 samples/sec\tmae=0.019843\n",
      "INFO:root:Epoch[11] Batch [200]\tSpeed: 37443.66 samples/sec\tmae=0.018924\n",
      "INFO:root:Epoch[11] Batch [300]\tSpeed: 40013.82 samples/sec\tmae=0.019528\n",
      "INFO:root:Epoch[11] Batch [400]\tSpeed: 41839.78 samples/sec\tmae=0.019199\n",
      "INFO:root:Epoch[11] Train-mae=0.019407\n",
      "INFO:root:Epoch[11] Time cost=0.899\n",
      "INFO:root:Epoch[11] Validation-mae=0.016419\n",
      "INFO:root:Epoch[12] Batch [100]\tSpeed: 35399.45 samples/sec\tmae=0.020140\n",
      "INFO:root:Epoch[12] Batch [200]\tSpeed: 39495.99 samples/sec\tmae=0.019195\n",
      "INFO:root:Epoch[12] Batch [300]\tSpeed: 44763.58 samples/sec\tmae=0.019753\n",
      "INFO:root:Epoch[12] Batch [400]\tSpeed: 41039.65 samples/sec\tmae=0.019073\n",
      "INFO:root:Epoch[12] Train-mae=0.019312\n",
      "INFO:root:Epoch[12] Time cost=0.883\n",
      "INFO:root:Epoch[12] Validation-mae=0.016869\n",
      "INFO:root:Epoch[13] Batch [100]\tSpeed: 40305.62 samples/sec\tmae=0.019546\n",
      "INFO:root:Epoch[13] Batch [200]\tSpeed: 38989.93 samples/sec\tmae=0.019304\n",
      "INFO:root:Epoch[13] Batch [300]\tSpeed: 40290.57 samples/sec\tmae=0.019054\n",
      "INFO:root:Epoch[13] Batch [400]\tSpeed: 38719.88 samples/sec\tmae=0.019083\n",
      "INFO:root:Epoch[13] Train-mae=0.019457\n",
      "INFO:root:Epoch[13] Time cost=0.894\n",
      "INFO:root:Epoch[13] Validation-mae=0.016304\n",
      "INFO:root:Epoch[14] Batch [100]\tSpeed: 37413.88 samples/sec\tmae=0.019307\n",
      "INFO:root:Epoch[14] Batch [200]\tSpeed: 38670.35 samples/sec\tmae=0.019121\n",
      "INFO:root:Epoch[14] Batch [300]\tSpeed: 41803.12 samples/sec\tmae=0.020221\n",
      "INFO:root:Epoch[14] Batch [400]\tSpeed: 45357.79 samples/sec\tmae=0.019527\n",
      "INFO:root:Epoch[14] Train-mae=0.019048\n",
      "INFO:root:Epoch[14] Time cost=0.874\n",
      "INFO:root:Epoch[14] Validation-mae=0.016649\n",
      "INFO:root:Epoch[15] Batch [100]\tSpeed: 34861.75 samples/sec\tmae=0.019437\n",
      "INFO:root:Epoch[15] Batch [200]\tSpeed: 38087.57 samples/sec\tmae=0.018721\n",
      "INFO:root:Epoch[15] Batch [300]\tSpeed: 41490.90 samples/sec\tmae=0.019371\n",
      "INFO:root:Epoch[15] Batch [400]\tSpeed: 41061.19 samples/sec\tmae=0.019096\n",
      "INFO:root:Epoch[15] Train-mae=0.019105\n",
      "INFO:root:Epoch[15] Time cost=0.918\n",
      "INFO:root:Epoch[15] Validation-mae=0.015704\n",
      "INFO:root:Epoch[16] Batch [100]\tSpeed: 34581.46 samples/sec\tmae=0.019120\n",
      "INFO:root:Epoch[16] Batch [200]\tSpeed: 40119.02 samples/sec\tmae=0.018615\n",
      "INFO:root:Epoch[16] Batch [300]\tSpeed: 41058.40 samples/sec\tmae=0.019422\n",
      "INFO:root:Epoch[16] Batch [400]\tSpeed: 39729.13 samples/sec\tmae=0.018921\n",
      "INFO:root:Epoch[16] Train-mae=0.018918\n",
      "INFO:root:Epoch[16] Time cost=0.910\n",
      "INFO:root:Epoch[16] Validation-mae=0.016937\n",
      "INFO:root:Epoch[17] Batch [100]\tSpeed: 38748.45 samples/sec\tmae=0.019240\n",
      "INFO:root:Epoch[17] Batch [200]\tSpeed: 39727.88 samples/sec\tmae=0.018928\n",
      "INFO:root:Epoch[17] Batch [300]\tSpeed: 39339.32 samples/sec\tmae=0.019143\n",
      "INFO:root:Epoch[17] Batch [400]\tSpeed: 40478.99 samples/sec\tmae=0.018638\n",
      "INFO:root:Epoch[17] Train-mae=0.018947\n",
      "INFO:root:Epoch[17] Time cost=0.895\n",
      "INFO:root:Epoch[17] Validation-mae=0.017239\n",
      "INFO:root:Epoch[18] Batch [100]\tSpeed: 34949.42 samples/sec\tmae=0.019086\n",
      "INFO:root:Epoch[18] Batch [200]\tSpeed: 41728.26 samples/sec\tmae=0.018621\n",
      "INFO:root:Epoch[18] Batch [300]\tSpeed: 37770.88 samples/sec\tmae=0.018871\n",
      "INFO:root:Epoch[18] Batch [400]\tSpeed: 45698.02 samples/sec\tmae=0.018414\n",
      "INFO:root:Epoch[18] Train-mae=0.018534\n",
      "INFO:root:Epoch[18] Time cost=0.868\n",
      "INFO:root:Epoch[18] Validation-mae=0.017190\n",
      "INFO:root:Epoch[19] Batch [100]\tSpeed: 43133.40 samples/sec\tmae=0.018645\n",
      "INFO:root:Epoch[19] Batch [200]\tSpeed: 41546.96 samples/sec\tmae=0.018110\n",
      "INFO:root:Epoch[19] Batch [300]\tSpeed: 48446.05 samples/sec\tmae=0.019093\n",
      "INFO:root:Epoch[19] Batch [400]\tSpeed: 43716.09 samples/sec\tmae=0.018166\n",
      "INFO:root:Epoch[19] Train-mae=0.018185\n",
      "INFO:root:Epoch[19] Time cost=0.802\n",
      "INFO:root:Epoch[19] Validation-mae=0.017419\n",
      "INFO:root:Epoch[20] Batch [100]\tSpeed: 44580.34 samples/sec\tmae=0.018830\n",
      "INFO:root:Epoch[20] Batch [200]\tSpeed: 47573.12 samples/sec\tmae=0.017907\n",
      "INFO:root:Epoch[20] Batch [300]\tSpeed: 45941.20 samples/sec\tmae=0.018626\n",
      "INFO:root:Epoch[20] Batch [400]\tSpeed: 46475.36 samples/sec\tmae=0.018086\n",
      "INFO:root:Epoch[20] Train-mae=0.017862\n",
      "INFO:root:Epoch[20] Time cost=0.786\n",
      "INFO:root:Epoch[20] Validation-mae=0.017603\n",
      "INFO:root:Epoch[21] Batch [100]\tSpeed: 43871.43 samples/sec\tmae=0.018323\n",
      "INFO:root:Epoch[21] Batch [200]\tSpeed: 46612.23 samples/sec\tmae=0.017789\n",
      "INFO:root:Epoch[21] Batch [300]\tSpeed: 46537.45 samples/sec\tmae=0.018277\n",
      "INFO:root:Epoch[21] Batch [400]\tSpeed: 45782.61 samples/sec\tmae=0.017500\n",
      "INFO:root:Epoch[21] Train-mae=0.017357\n",
      "INFO:root:Epoch[21] Time cost=0.777\n",
      "INFO:root:Epoch[21] Validation-mae=0.017156\n",
      "INFO:root:Epoch[22] Batch [100]\tSpeed: 41696.34 samples/sec\tmae=0.018057\n",
      "INFO:root:Epoch[22] Batch [200]\tSpeed: 42501.94 samples/sec\tmae=0.017566\n",
      "INFO:root:Epoch[22] Batch [300]\tSpeed: 44782.23 samples/sec\tmae=0.018224\n",
      "INFO:root:Epoch[22] Batch [400]\tSpeed: 44882.73 samples/sec\tmae=0.017477\n",
      "INFO:root:Epoch[22] Train-mae=0.017225\n",
      "INFO:root:Epoch[22] Time cost=0.811\n",
      "INFO:root:Epoch[22] Validation-mae=0.018545\n",
      "INFO:root:Epoch[23] Batch [100]\tSpeed: 43897.58 samples/sec\tmae=0.018225\n",
      "INFO:root:Epoch[23] Batch [200]\tSpeed: 47157.77 samples/sec\tmae=0.017607\n",
      "INFO:root:Epoch[23] Batch [300]\tSpeed: 43714.26 samples/sec\tmae=0.017798\n",
      "INFO:root:Epoch[23] Batch [400]\tSpeed: 45193.45 samples/sec\tmae=0.017294\n",
      "INFO:root:Epoch[23] Train-mae=0.017043\n",
      "INFO:root:Epoch[23] Time cost=0.790\n",
      "INFO:root:Epoch[23] Validation-mae=0.018556\n",
      "INFO:root:Epoch[24] Batch [100]\tSpeed: 41053.94 samples/sec\tmae=0.017834\n",
      "INFO:root:Epoch[24] Batch [200]\tSpeed: 39991.77 samples/sec\tmae=0.017146\n",
      "INFO:root:Epoch[24] Batch [300]\tSpeed: 45027.02 samples/sec\tmae=0.017595\n",
      "INFO:root:Epoch[24] Batch [400]\tSpeed: 44644.27 samples/sec\tmae=0.016895\n",
      "INFO:root:Epoch[24] Train-mae=0.016967\n",
      "INFO:root:Epoch[24] Time cost=0.830\n",
      "INFO:root:Epoch[24] Validation-mae=0.019497\n"
     ]
    }
   ],
   "source": [
    "import logging\n",
    "logging.getLogger().setLevel(logging.INFO)\n",
    "\n",
    "ctx = [mx.cpu(i) for i in range(1)]\n",
    "\n",
    "# Define the LSTM Neural Network\n",
    "num_epochs = 25\n",
    "\n",
    "# Note that when unrolling, if 'merge_outputs' is set to True, \n",
    "# the 'outputs' is merged into a single symbol\n",
    "# In the layout, 'N' represents batch size, 'T' represents sequence length, \n",
    "# and 'C' represents the number of dimensions in hidden states.\n",
    "\n",
    "data = mx.sym.var(\"data\")  # Shape: (N, T, C)\n",
    "target = mx.sym.var(\"target\")  # Shape: (N, T, C)\n",
    "data = mx.sym.transpose(data, axes=(1, 0, 2))  # Shape: (T, N, C)\n",
    "\n",
    "if  isinstance(ctx,list):\n",
    "    c_ctx = ctx[0]   \n",
    "else:\n",
    "    c_ctx = ctx\n",
    "    \n",
    "if c_ctx.device_type == 'cpu':\n",
    "    lstm1 = mx.rnn.LSTMCell(num_hidden=5, prefix=\"lstm1_\")\n",
    "    lstm2 = mx.rnn.LSTMCell(num_hidden=10, prefix=\"lstm2_\")\n",
    "else:\n",
    "    # FusedRNNCell\n",
    "    lstm1 = mx.rnn.FusedRNNCell(num_hidden=5, mode=\"lstm\", prefix=\"lstm1_\")\n",
    "    lstm2 = mx.rnn.FusedRNNCell(num_hidden=10, mode=\"lstm\", prefix=\"lstm2_\",\n",
    "                                    get_next_state=True)\n",
    "\n",
    "L1, L1_states = lstm1.unroll(length=seq_len, inputs=data, \n",
    "                             merge_outputs=True,\n",
    "                             layout=\"TNC\")  # Shape: (T, N, 5)\n",
    "\n",
    "L1 = mx.sym.Dropout(L1, p=0.2)  # Shape: (T, N, 5)\n",
    "\n",
    "L2, L2_states = lstm2.unroll(length=seq_len, inputs=L1, \n",
    "                            merge_outputs=True,\n",
    "                            layout=\"TNC\")  # Shape: (T, N, 10)\n",
    "\n",
    "L2 = mx.sym.reshape(L2_states[0], shape=(-1, 0), reverse=True)  # Shape: (T * N, 10)\n",
    "pred = mx.sym.FullyConnected(L2, num_hidden=1, name=\"pred\")\n",
    "pred = mx.sym.LinearRegressionOutput(data=pred, label=target)\n",
    "\n",
    "model = mx.mod.Module(symbol=pred, data_names=['data'], \n",
    "                    label_names=['target'], context=ctx)\n",
    "\n",
    "model.fit(train_data=train_iter, eval_data=test_iter,\n",
    "            initializer=mx.init.Xavier(rnd_type=\"gaussian\", magnitude=1),\n",
    "            optimizer=\"adam\",\n",
    "            optimizer_params={\"learning_rate\": 1E-3},\n",
    "            batch_end_callback=mx.callback.Speedometer(batch_size, 100),\n",
    "            eval_metric=\"mae\", num_epoch=num_epochs)"
   ]
  },
  {
   "cell_type": "markdown",
   "metadata": {},
   "source": [
    "### Lets do some predictions"
   ]
  },
  {
   "cell_type": "code",
   "execution_count": 27,
   "metadata": {
    "collapsed": false
   },
   "outputs": [
    {
     "name": "stdout",
     "output_type": "stream",
     "text": [
      "-0.000793553\n",
      "(8760, 1) (8760, 1, 8) (8760, 0, 8)\n",
      "(8760, 8)\n",
      "Test RMSE: 33.193\n"
     ]
    }
   ],
   "source": [
    "import math\n",
    "from sklearn.metrics import mean_squared_error\n",
    "\n",
    "# Prediction\n",
    "yhat = model.predict(test_iter).asnumpy()\n",
    "print(np.mean((yhat - test_y)))\n",
    "\n",
    "print(yhat.shape, test_X.shape, test_X[:, 1:].shape)\n",
    "p_test_X = test_X.reshape((test_X.shape[0], test_X.shape[2]))\n",
    "p_test_X.shape\n",
    "\n",
    "inv_yhat = np.concatenate((yhat, p_test_X[:, 1:]), axis=1)\n",
    "print(inv_yhat.shape)\n",
    "\n",
    "inv_yhat = scaler.inverse_transform(inv_yhat)\n",
    "inv_yhat = inv_yhat[:,0]\n",
    "\n",
    "# scale back\n",
    "scaled_test_y = test_y.reshape((len(test_y), 1))\n",
    "inv_y = np.concatenate((scaled_test_y, p_test_X[:, 1:]), axis=1)\n",
    "inv_y = scaler.inverse_transform(inv_y)\n",
    "inv_y = inv_y[:,0]\n",
    "\n",
    "# calculate RMSE\n",
    "rmse = math.sqrt(mean_squared_error(inv_y, inv_yhat))\n",
    "print('Test RMSE: %.3f' % rmse)"
   ]
  },
  {
   "cell_type": "code",
   "execution_count": 28,
   "metadata": {
    "collapsed": false
   },
   "outputs": [
    {
     "name": "stdout",
     "output_type": "stream",
     "text": [
      "actual    [ 148.  159.  181.  138.  109.]\n",
      "predicted [126.1, 142.0, 153.0, 173.0, 137.6]\n"
     ]
    }
   ],
   "source": [
    "print(\"actual   \", inv_y[:5])\n",
    "print(\"predicted\", [round(v,1) for v in inv_yhat[:5]])"
   ]
  },
  {
   "cell_type": "markdown",
   "metadata": {},
   "source": [
    "# Multi Layer Perceptron baseline"
   ]
  },
  {
   "cell_type": "code",
   "execution_count": 266,
   "metadata": {
    "collapsed": false
   },
   "outputs": [
    {
     "name": "stderr",
     "output_type": "stream",
     "text": [
      "INFO:root:Epoch[0] Batch [100]\tSpeed: 54128.39 samples/sec\tmae=0.099886\n",
      "INFO:root:Epoch[0] Batch [200]\tSpeed: 53993.20 samples/sec\tmae=0.040477\n",
      "INFO:root:Epoch[0] Batch [300]\tSpeed: 68374.86 samples/sec\tmae=0.022522\n",
      "INFO:root:Epoch[0] Batch [400]\tSpeed: 66013.77 samples/sec\tmae=0.017587\n",
      "INFO:root:Epoch[0] Train-mae=0.017038\n",
      "INFO:root:Epoch[0] Time cost=0.579\n",
      "INFO:root:Epoch[0] Validation-mae=0.017052\n",
      "INFO:root:Epoch[1] Batch [100]\tSpeed: 47257.47 samples/sec\tmae=0.016468\n",
      "INFO:root:Epoch[1] Batch [200]\tSpeed: 71434.29 samples/sec\tmae=0.015770\n",
      "INFO:root:Epoch[1] Batch [300]\tSpeed: 66885.17 samples/sec\tmae=0.015061\n",
      "INFO:root:Epoch[1] Batch [400]\tSpeed: 69751.84 samples/sec\tmae=0.014963\n",
      "INFO:root:Epoch[1] Train-mae=0.015260\n",
      "INFO:root:Epoch[1] Time cost=0.591\n",
      "INFO:root:Epoch[1] Validation-mae=0.015513\n",
      "INFO:root:Epoch[2] Batch [100]\tSpeed: 45073.86 samples/sec\tmae=0.015185\n",
      "INFO:root:Epoch[2] Batch [200]\tSpeed: 62771.36 samples/sec\tmae=0.014842\n",
      "INFO:root:Epoch[2] Batch [300]\tSpeed: 65685.67 samples/sec\tmae=0.014281\n",
      "INFO:root:Epoch[2] Batch [400]\tSpeed: 64183.11 samples/sec\tmae=0.014315\n",
      "INFO:root:Epoch[2] Train-mae=0.014802\n",
      "INFO:root:Epoch[2] Time cost=0.615\n",
      "INFO:root:Epoch[2] Validation-mae=0.014950\n",
      "INFO:root:Epoch[3] Batch [100]\tSpeed: 51570.02 samples/sec\tmae=0.014641\n",
      "INFO:root:Epoch[3] Batch [200]\tSpeed: 52402.51 samples/sec\tmae=0.014554\n",
      "INFO:root:Epoch[3] Batch [300]\tSpeed: 42982.50 samples/sec\tmae=0.013927\n",
      "INFO:root:Epoch[3] Batch [400]\tSpeed: 64530.10 samples/sec\tmae=0.014034\n",
      "INFO:root:Epoch[3] Train-mae=0.014629\n",
      "INFO:root:Epoch[3] Time cost=0.664\n",
      "INFO:root:Epoch[3] Validation-mae=0.014739\n",
      "INFO:root:Epoch[4] Batch [100]\tSpeed: 54274.51 samples/sec\tmae=0.014478\n",
      "INFO:root:Epoch[4] Batch [200]\tSpeed: 47594.49 samples/sec\tmae=0.014492\n",
      "INFO:root:Epoch[4] Batch [300]\tSpeed: 51546.78 samples/sec\tmae=0.013845\n",
      "INFO:root:Epoch[4] Batch [400]\tSpeed: 47954.24 samples/sec\tmae=0.013916\n",
      "INFO:root:Epoch[4] Train-mae=0.014561\n",
      "INFO:root:Epoch[4] Time cost=0.686\n",
      "INFO:root:Epoch[4] Validation-mae=0.014690\n",
      "INFO:root:Epoch[5] Batch [100]\tSpeed: 57003.53 samples/sec\tmae=0.014497\n",
      "INFO:root:Epoch[5] Batch [200]\tSpeed: 68305.89 samples/sec\tmae=0.014448\n",
      "INFO:root:Epoch[5] Batch [300]\tSpeed: 58785.15 samples/sec\tmae=0.013852\n",
      "INFO:root:Epoch[5] Batch [400]\tSpeed: 59732.68 samples/sec\tmae=0.013894\n",
      "INFO:root:Epoch[5] Train-mae=0.014524\n",
      "INFO:root:Epoch[5] Time cost=0.593\n",
      "INFO:root:Epoch[5] Validation-mae=0.014794\n",
      "INFO:root:Epoch[6] Batch [100]\tSpeed: 52711.30 samples/sec\tmae=0.014533\n",
      "INFO:root:Epoch[6] Batch [200]\tSpeed: 58846.55 samples/sec\tmae=0.014470\n",
      "INFO:root:Epoch[6] Batch [300]\tSpeed: 69000.55 samples/sec\tmae=0.013851\n",
      "INFO:root:Epoch[6] Batch [400]\tSpeed: 62545.67 samples/sec\tmae=0.013883\n",
      "INFO:root:Epoch[6] Train-mae=0.014516\n",
      "INFO:root:Epoch[6] Time cost=0.587\n",
      "INFO:root:Epoch[6] Validation-mae=0.014900\n",
      "INFO:root:Epoch[7] Batch [100]\tSpeed: 45241.52 samples/sec\tmae=0.014550\n",
      "INFO:root:Epoch[7] Batch [200]\tSpeed: 59963.96 samples/sec\tmae=0.014485\n",
      "INFO:root:Epoch[7] Batch [300]\tSpeed: 68802.16 samples/sec\tmae=0.013849\n",
      "INFO:root:Epoch[7] Batch [400]\tSpeed: 44948.60 samples/sec\tmae=0.013867\n",
      "INFO:root:Epoch[7] Train-mae=0.014506\n",
      "INFO:root:Epoch[7] Time cost=0.670\n",
      "INFO:root:Epoch[7] Validation-mae=0.014904\n",
      "INFO:root:Epoch[8] Batch [100]\tSpeed: 47813.85 samples/sec\tmae=0.014540\n",
      "INFO:root:Epoch[8] Batch [200]\tSpeed: 53581.45 samples/sec\tmae=0.014494\n",
      "INFO:root:Epoch[8] Batch [300]\tSpeed: 51004.48 samples/sec\tmae=0.013860\n",
      "INFO:root:Epoch[8] Batch [400]\tSpeed: 47208.79 samples/sec\tmae=0.013839\n",
      "INFO:root:Epoch[8] Train-mae=0.014493\n",
      "INFO:root:Epoch[8] Time cost=0.697\n",
      "INFO:root:Epoch[8] Validation-mae=0.014924\n",
      "INFO:root:Epoch[9] Batch [100]\tSpeed: 47009.05 samples/sec\tmae=0.014534\n",
      "INFO:root:Epoch[9] Batch [200]\tSpeed: 52420.06 samples/sec\tmae=0.014511\n",
      "INFO:root:Epoch[9] Batch [300]\tSpeed: 54268.37 samples/sec\tmae=0.013831\n",
      "INFO:root:Epoch[9] Batch [400]\tSpeed: 58642.00 samples/sec\tmae=0.013823\n",
      "INFO:root:Epoch[9] Train-mae=0.014482\n",
      "INFO:root:Epoch[9] Time cost=0.716\n",
      "INFO:root:Epoch[9] Validation-mae=0.014889\n"
     ]
    }
   ],
   "source": [
    "#MLP\n",
    "num_epochs = 10\n",
    "data = mx.sym.Variable('data')\n",
    "target = mx.sym.var(\"target\")\n",
    "data = mx.sym.Flatten(data=data)\n",
    "fc1  = mx.sym.FullyConnected(data=data, name='fc1', num_hidden=32)\n",
    "act1 = mx.sym.Activation(data=fc1, name='relu1', act_type=\"relu\")\n",
    "fc2  = mx.sym.FullyConnected(data=act1, name='fc2', num_hidden=1)\n",
    "mlp = mx.sym.LinearRegressionOutput(data=fc2, label=target)\n",
    "\n",
    "mlp_model = mx.mod.Module(symbol=mlp, data_names=['data'], \n",
    "                    label_names=['target'], context=ctx)\n",
    "\n",
    "mlp_model.fit(train_data=train_iter, eval_data=test_iter,\n",
    "            initializer=mx.init.Xavier(rnd_type=\"gaussian\", magnitude=1),\n",
    "            optimizer=\"adam\",\n",
    "            optimizer_params={\"learning_rate\": 1E-3},\n",
    "            batch_end_callback=mx.callback.Speedometer(batch_size, 100),\n",
    "            eval_metric=\"mae\", num_epoch=num_epochs)"
   ]
  },
  {
   "cell_type": "code",
   "execution_count": 268,
   "metadata": {
    "collapsed": false
   },
   "outputs": [
    {
     "name": "stdout",
     "output_type": "stream",
     "text": [
      "8760 [ 0.13542168]\n",
      "0.00219827\n",
      "(8760, 1) (8760, 1, 8) (8760, 0, 8)\n",
      "(8760, 8)\n",
      "(8760, 8) <type 'numpy.ndarray'>\n",
      "Test RMSE: 30.499\n"
     ]
    }
   ],
   "source": [
    "# Prediction\n",
    "\n",
    "yhat = mlp_model.predict(test_iter).asnumpy()\n",
    "print(len(yhat), yhat[0])\n",
    "print(np.mean((yhat - test_y)))\n",
    "\n",
    "print(yhat.shape, test_X.shape, test_X[:, 1:].shape)\n",
    "\n",
    "p_test_X = test_X.reshape((test_X.shape[0], test_X.shape[2]))\n",
    "print(p_test_X.shape)\n",
    "\n",
    "inv_yhat = np.concatenate((yhat, p_test_X[:, 1:]), axis=1)\n",
    "print(inv_yhat.shape, type(inv_yhat))\n",
    "\n",
    "inv_yhat = scaler.inverse_transform(inv_yhat)\n",
    "inv_yhat = inv_yhat[:,0]\n",
    "\n",
    "# scale back\n",
    "test_y = test_y.reshape((len(test_y), 1))\n",
    "inv_y = np.concatenate((test_y, p_test_X[:, 1:]), axis=1)\n",
    "inv_y = scaler.inverse_transform(inv_y)\n",
    "inv_y = inv_y[:,0]\n",
    "\n",
    "# calculate RMSE\n",
    "rmse = math.sqrt(mean_squared_error(inv_y, inv_yhat))\n",
    "print('Test RMSE: %.3f' % rmse)"
   ]
  },
  {
   "cell_type": "markdown",
   "metadata": {},
   "source": [
    "MLP for this use case sort of does the trick, We'll need to find the right params for LSTM, I'll leave that as a fun exercise to the reader"
   ]
  },
  {
   "cell_type": "code",
   "execution_count": 310,
   "metadata": {
    "collapsed": false
   },
   "outputs": [],
   "source": [
    "# Plot accuracy\n",
    "import matplotlib.pyplot as plt\n",
    "import re\n",
    "\n",
    "def show_plot(log_tr, log_val):\n",
    "    idx = np.arange(len(log_tr))\n",
    "\n",
    "    plt.figure(figsize=(8, 6))\n",
    "    plt.xlabel(\"Epoch\")\n",
    "    plt.ylabel(\"loss\")\n",
    "    plt.plot(idx, log_tr, 'o', linestyle='-', color=\"r\",\n",
    "             label=\"Train loss\")\n",
    "    if log_val is not None:\n",
    "        plt.plot(idx, log_val, 'o', linestyle='-', color=\"b\",\n",
    "             label=\"Val loss\")\n",
    "    plt.legend()\n",
    "    plt.show()    \n",
    "\n",
    "def plot_mxnet_curves(log_output, metric='accuracy'):\n",
    "    TR_RE = re.compile('.*?]\\sTrain-%s=([\\d\\.]+)' % metric)\n",
    "    VA_RE = re.compile('.*?]\\sValidation-%s=([\\d\\.]+)' % metric)\n",
    "    \n",
    "    log_tr = [float(x) for x in TR_RE.findall(log_output)]\n",
    "    log_val = [float(x) for x in VA_RE.findall(log_output)]\n",
    "    show_plot(log_tr, log_val)"
   ]
  },
  {
   "cell_type": "markdown",
   "metadata": {
    "collapsed": true
   },
   "source": [
    "# Gluon Code"
   ]
  },
  {
   "cell_type": "code",
   "execution_count": 303,
   "metadata": {
    "collapsed": false
   },
   "outputs": [],
   "source": [
    "import mxnet as mx\n",
    "import numpy as np\n",
    "\n",
    "from mxnet import nd, autograd\n",
    "\n",
    "\n",
    "def get_data(batch, iter_type):\n",
    "    ''' get data and label from the iterator/dataloader '''\n",
    "    if iter_type == 'mxiter':\n",
    "        X_train = batch.data[0].as_in_context(ctx)\n",
    "        Y_train = batch.label[0].as_in_context(ctx)\n",
    "    else:\n",
    "        X_train = batch[0].as_in_context(ctx)\n",
    "        Y_train = batch[1].as_in_context(ctx)\n",
    "\n",
    "    return X_train, Y_train\n",
    "    \n",
    "class BaseRNNRegressor(mx.gluon.Block):\n",
    "    def __init__(self, ctx):\n",
    "        super(BaseRNNRegressor, self).__init__()\n",
    "        self.ctx = ctx\n",
    "        self.rnn = None\n",
    "        self.rnn_size = None\n",
    "        \n",
    "    #@override \n",
    "    def build_model(self, rnn_type='lstm', rnn_size=128, n_layer=1, n_out=1):\n",
    "        self.rnn_size = rnn_size\n",
    "        self.n_layer = n_layer\n",
    "        self.net = mx.gluon.rnn.LSTM(rnn_size, n_layer, 'NTC')\n",
    "        self.output = mx.gluon.nn.Dense(n_out)\n",
    "\n",
    "    #@override \n",
    "    def forward(self, inp, hidden):\n",
    "        rnn_out, hidden = self.net(inp, hidden)\n",
    "        #simplify\n",
    "        logits = self.output(rnn_out.reshape((-1, self.rnn_size)))\n",
    "        return logits, hidden\n",
    "        \n",
    "    def detach(self, arrs):\n",
    "        return [arr.detach() for arr in arrs]\n",
    "\n",
    "    def compile_model(self, optimizer='adam', lr=1E-3):\n",
    "        self.collect_params().initialize(mx.init.Xavier(), ctx=self.ctx)\n",
    "        self.loss = mx.gluon.loss.L1Loss()\n",
    "        self.optimizer = mx.gluon.Trainer(self.collect_params(), \n",
    "                                    optimizer, {'learning_rate': lr})\n",
    "\n",
    "\n",
    "    def evaluate_accuracy(self, data_iterator, metric='mae', iter_type='mxiter'):\n",
    "        met = mx.metric.MAE()\n",
    "        for i, batch in enumerate(data_iterator):\n",
    "            data, label = get_data(batch, iter_type)\n",
    "            preds = self.net(data)\n",
    "            met.update(labels=label, preds=preds)\n",
    "        return met.get()\n",
    "    \n",
    "    def fit(self, train_data, test_data, epochs):\n",
    "        moving_loss = 0.\n",
    "        train_loss = []\n",
    "        val_loss = []\n",
    "        iter_type = 'numpy'\n",
    "        \n",
    "        # Can take MX NDArrayIter, or DataLoader\n",
    "        if isinstance(train_data, mx.io.NDArrayIter):\n",
    "            train_iter = train_data\n",
    "            #total_batches = train_iter.num_data // train_iter.batch_size\n",
    "            test_iter = test_data\n",
    "            iter_type = 'mxiter'\n",
    "\n",
    "        elif isinstance(train_data, list):\n",
    "            if isinstance(train_data[0], np.ndarray) and isinstance(train_data[1], np.ndarray):\n",
    "                X, y = train_data[0], train_data[1]\n",
    "                #print(type(test_data[0])\n",
    "                #if isinstance(test_data[0], np.ndarray):\n",
    "                #    raise ValueError(\"need test array to be numpy array\")\n",
    "                tX, ty = test_data[0], test_data[1]\n",
    "                train_iter = mx.gluon.data.DataLoader(mx.gluon.data.ArrayDataset(X, y), \n",
    "                                    batch_size=batch_size, shuffle=True, last_batch='discard')\n",
    "                test_iter = mx.gluon.data.DataLoader(mx.gluon.data.ArrayDataset(tX, ty), \n",
    "                                    batch_size=batch_size, shuffle=False, last_batch='discard')\n",
    "                #total_batches = len(X) // batch_size\n",
    "        else:\n",
    "            raise Exception(\"pass mxnet ndarray or numpy array\")\n",
    "\n",
    "        print(\"data type:\", type(train_data), type(test_data), iter_type)\n",
    "\n",
    "        init_state = mx.nd.zeros((1, batch_size, self.rnn_size), ctx)\n",
    "        hidden = [init_state] * 2\n",
    "        \n",
    "        for e in range(epochs):\n",
    "            if isinstance(train_iter, mx.io.NDArrayIter): train_iter.reset()\n",
    "            yhat = []\n",
    "            for i, batch in enumerate(train_iter):\n",
    "                data, label = get_data(batch, iter_type)\n",
    "                with autograd.record(train_mode=True):\n",
    "                    Y_pred, hidden = self.forward(data, hidden)\n",
    "                    hidden = self.detach(hidden)\n",
    "                    loss = self.loss(Y_pred, label) \n",
    "                    yhat.extend(Y_pred)\n",
    "                loss.backward()                                        \n",
    "                self.optimizer.step(batch_size)\n",
    "\n",
    "                if i == 0:\n",
    "                    moving_loss = nd.mean(loss).asscalar()\n",
    "                else:\n",
    "                    moving_loss = .99 * moving_loss + .01 * mx.nd.mean(loss).asscalar()\n",
    "            train_loss.append(moving_loss)\n",
    "            # TODO: add prediction?\n",
    "            \n",
    "            test_err = self.evaluate_accuracy(test_iter, iter_type=iter_type)\n",
    "            val_loss.append(test_err[1])\n",
    "            print(\"Epoch %s. Loss: %.10f Test MAE: %s\" % (e, moving_loss, test_err))\n",
    "        return train_loss, val_loss"
   ]
  },
  {
   "cell_type": "code",
   "execution_count": 304,
   "metadata": {
    "collapsed": false
   },
   "outputs": [
    {
     "name": "stdout",
     "output_type": "stream",
     "text": [
      "data type: <type 'list'> <type 'list'> numpy\n",
      "Epoch 0. Loss: 0.0430312322 Test MAE: ('mae', 0.12320409051610633)\n",
      "Epoch 1. Loss: 0.0212265480 Test MAE: ('mae', 0.13827456228630142)\n",
      "Epoch 2. Loss: 0.0149335518 Test MAE: ('mae', 0.14551130130542703)\n",
      "Epoch 3. Loss: 0.0138093784 Test MAE: ('mae', 0.15244989452870278)\n",
      "Epoch 4. Loss: 0.0135432033 Test MAE: ('mae', 0.15450714865332579)\n",
      "Epoch 5. Loss: 0.0135373886 Test MAE: ('mae', 0.15562485157113867)\n",
      "Epoch 6. Loss: 0.0134379411 Test MAE: ('mae', 0.1552719621995276)\n",
      "Epoch 7. Loss: 0.0134300791 Test MAE: ('mae', 0.15571429846242996)\n",
      "Epoch 8. Loss: 0.0132749386 Test MAE: ('mae', 0.15693603227781991)\n",
      "Epoch 9. Loss: 0.0134212607 Test MAE: ('mae', 0.15684805119192774)\n"
     ]
    }
   ],
   "source": [
    "ctx = mx.cpu()\n",
    "model = BaseRNNRegressor(ctx)\n",
    "model.build_model('lstm', rnn_size=seq_len, n_layer=1, n_out=1)\n",
    "model.compile_model(optimizer='adam')\n",
    "t_loss, v_loss = model.fit([train_X, train_y], [test_X, test_y], epochs=10)"
   ]
  },
  {
   "cell_type": "code",
   "execution_count": 309,
   "metadata": {
    "collapsed": false
   },
   "outputs": [
    {
     "data": {
      "image/png": "[encoded data removed]",
      "text/plain": [
       "<matplotlib.figure.Figure at 0x118e49090>"
      ]
     },
     "metadata": {},
     "output_type": "display_data"
    }
   ],
   "source": [
    "# Show the plot\n",
    "show_plot(t_loss, None)"
   ]
  },
  {
   "cell_type": "code",
   "execution_count": 34,
   "metadata": {
    "collapsed": false,
    "scrolled": true
   },
   "outputs": [
    {
     "name": "stdout",
     "output_type": "stream",
     "text": [
      "Epoch 0. Loss: 0.0696829086686, Train_acc 0, Test_acc 0\n",
      "Epoch 1. Loss: 0.0677475116669, Train_acc 0, Test_acc 0\n"
     ]
    }
   ],
   "source": [
    "# Running Fit function with an iterator\n",
    "model.fit(train_iter, test_iter, epochs=2)"
   ]
  }
 ],
 "metadata": {
  "kernelspec": {
   "name": "pycharm-f4521f13",
   "language": "python",
   "display_name": "PyCharm (timeseries-autoencoder-lstm)"
  },
  "language_info": {
   "codemirror_mode": {
    "name": "ipython",
    "version": 2
   },
   "file_extension": ".py",
   "mimetype": "text/x-python",
   "name": "python",
   "nbconvert_exporter": "python",
   "pygments_lexer": "ipython2",
   "version": "2.7.11"
  },
  "pycharm": {
   "stem_cell": {
    "cell_type": "raw",
    "source": [],
    "metadata": {
     "collapsed": false
    }
   }
  }
 },
 "nbformat": 4,
 "nbformat_minor": 1
}