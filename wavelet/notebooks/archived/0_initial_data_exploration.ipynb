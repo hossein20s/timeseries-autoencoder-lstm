{
 "cells": [
  {
   "cell_type": "markdown",
   "metadata": {},
   "source": [
    "# wsae-lstm\n",
    "Source article:\n",
    "- https://journals.plos.org/plosone/article?id=10.1371/journal.pone.0180944\n",
    "\n",
    "Source article raw data:\n",
    "- https://figshare.com/articles/Raw_Data/5028110"
   ]
  },
  {
   "cell_type": "code",
   "execution_count": 62,
   "metadata": {},
   "outputs": [],
   "source": [
    "# Data preprocessing"
   ]
  },
  {
   "cell_type": "code",
   "execution_count": 63,
   "metadata": {},
   "outputs": [],
   "source": [
    "# Imports (External)\n",
    "import numpy as np\n",
    "import pandas as pd\n",
    "import datetime as dt\n",
    "\n",
    "from collections import OrderedDict\n",
    "import xlrd\n",
    "import xlsxwriter\n",
    "import copy\n",
    "    # copy.deepcopy - needed for non-shallow copy of odict object\n",
    "\n",
    "# Visualization/plotting imports\n",
    "import matplotlib as mpl\n",
    "import matplotlib.pyplot as plt\n",
    "\n",
    "# Machine learning imports\n",
    "import sklearn\n",
    "import tensorflow as tf\n",
    "import keras\n",
    "\n",
    "import pywt\n",
    "from scipy import signal"
   ]
  },
  {
   "cell_type": "code",
   "execution_count": 64,
   "metadata": {},
   "outputs": [],
   "source": [
    "# Imports (Internal)"
   ]
  },
  {
   "cell_type": "code",
   "execution_count": 65,
   "metadata": {},
   "outputs": [],
   "source": [
    "# Clean data import\n",
    "    # Load in excel file and map each excel sheet to an ordered dict\n",
    "    \n",
    "raw_xlsx_file = pd.ExcelFile(\"data/clean_data.xlsx\")\n",
    "dict_dataframes =pd.read_excel(raw_xlsx_file,sheet_name = None)"
   ]
  },
  {
   "cell_type": "code",
   "execution_count": 66,
   "metadata": {},
   "outputs": [
    {
     "name": "stdout",
     "output_type": "stream",
     "text": [
      "csi300 index data\n",
      "csi300 index future data\n",
      "nifty 50 index data\n",
      "nifty 50 index future data\n",
      "hangseng index data\n",
      "hangseng index future data\n",
      "nikkei 225 index data\n",
      "nikkei 225 index future data\n",
      "s&p500 index data\n",
      "s&p500 index future data\n",
      "djia index data\n",
      "djia index future data\n"
     ]
    }
   ],
   "source": [
    "print(\"\\n\".join(list(dict_dataframes.keys())))"
   ]
  },
  {
   "cell_type": "code",
   "execution_count": null,
   "metadata": {},
   "outputs": [],
   "source": [
    "#Fig 7. Continuous dataset arrangement for training, validating and testing during the whole sample period:\n",
    "\n",
    "#![fig%207%20dataset%20arrangement%20for%20train%20validate%20test.PNG](attachment:fig%207%20dataset%20arrangement%20for%20train%20validate%20test.PNG)"
   ]
  },
  {
   "cell_type": "code",
   "execution_count": null,
   "metadata": {},
   "outputs": [],
   "source": [
    "#Table 2. Time interval of the six prediction years\n",
    "#![table%202%20time%20interval%20of%206%20six%20year%20prediction.PNG](attachment:table%202%20time%20interval%20of%206%20six%20year%20prediction.PNG)"
   ]
  },
  {
   "cell_type": "markdown",
   "metadata": {},
   "source": [
    "Model inputs:\n",
    "\n",
    "1. Microeconomic variables \n",
    "    - OHLC data (Panel A)\n",
    "    - Technicator indicators (Panel B)\n",
    "3. Macroeconomic variables \n",
    "    - US Dollar Index, HIBOR (Panel C)"
   ]
  },
  {
   "cell_type": "markdown",
   "metadata": {},
   "source": [
    "**Panel A variables:** \n",
    "- OHLC, H/L price, volume\n",
    "\n",
    "**Panel B variables:**\n",
    "- MACD, CCI, ATR, BOLL, EMA20, MA5/MA10, MTM5/MTM12, ROC, SMI, WVAD\n",
    "\n",
    "**Panel C variables:**\n",
    "- US Dollar Index, HIBOR \n",
    "\n",
    "Panel A variables (OHLC) and Panel B variables (Technical Indicators) can all be calculated/recreated for bitcoin and other crypto (or even stocks/forex)\n",
    "\n",
    "Panel C variables (Exchange rate and Interest rates) are macroeconomic variables I'd have to find a replacement, substitute, or rough equivalent (if possible) for crypto, possibly even something like the stablecoin exchange premium or overall marketcap per currency/ticker"
   ]
  },
  {
   "cell_type": "code",
   "execution_count": 67,
   "metadata": {
    "scrolled": true
   },
   "outputs": [
    {
     "name": "stdout",
     "output_type": "stream",
     "text": [
      "csi300 index data\n",
      "csi300 index future data\n",
      "nifty 50 index data\n",
      "nifty 50 index future data\n",
      "hangseng index data\n",
      "hangseng index future data\n",
      "nikkei 225 index data\n",
      "nikkei 225 index future data\n",
      "s&p500 index data\n",
      "s&p500 index future data\n",
      "djia index data\n",
      "djia index future data\n"
     ]
    }
   ],
   "source": [
    "#dict_dataframes.keys()\n",
    "print(\"\\n\".join(list(dict_dataframes.keys())))"
   ]
  },
  {
   "cell_type": "code",
   "execution_count": 68,
   "metadata": {},
   "outputs": [],
   "source": [
    "# Create new dict of dataframes for futures\n",
    "dict_dataframes_future =  copy.deepcopy(dict_dataframes)\n",
    "# Create new dict of dataframes for index data\n",
    "dict_dataframes_index =  copy.deepcopy(dict_dataframes)"
   ]
  },
  {
   "cell_type": "code",
   "execution_count": 69,
   "metadata": {},
   "outputs": [
    {
     "name": "stdout",
     "output_type": "stream",
     "text": [
      "csi300 index future data\n",
      "nifty 50 index future data\n",
      "hangseng index future data\n",
      "nikkei 225 index future data\n",
      "s&p500 index future data\n",
      "djia index future data\n"
     ]
    }
   ],
   "source": [
    "# Remove index data from futures dict of dataframes\n",
    "del dict_dataframes_future['csi300 index data']\n",
    "del dict_dataframes_future['nifty 50 index data']\n",
    "del dict_dataframes_future['hangseng index data']\n",
    "del dict_dataframes_future['s&p500 index data']\n",
    "del dict_dataframes_future['nikkei 225 index data']\n",
    "del dict_dataframes_future['djia index data']\n",
    "\n",
    "print(\"\\n\".join(list(dict_dataframes_future.keys())))"
   ]
  },
  {
   "cell_type": "code",
   "execution_count": 70,
   "metadata": {
    "scrolled": false
   },
   "outputs": [
    {
     "name": "stdout",
     "output_type": "stream",
     "text": [
      "csi300 index data\n",
      "nifty 50 index data\n",
      "hangseng index data\n",
      "nikkei 225 index data\n",
      "s&p500 index data\n",
      "djia index data\n"
     ]
    }
   ],
   "source": [
    "# Remove futures data from index dict of dataframes\n",
    "del dict_dataframes_index['csi300 index future data']\n",
    "del dict_dataframes_index['nifty 50 index future data']\n",
    "del dict_dataframes_index['hangseng index future data']\n",
    "del dict_dataframes_index['s&p500 index future data']\n",
    "del dict_dataframes_index['nikkei 225 index future data']\n",
    "del dict_dataframes_index['djia index future data']\n",
    "\n",
    "print(\"\\n\".join(list(dict_dataframes_index.keys())))"
   ]
  },
  {
   "cell_type": "code",
   "execution_count": 71,
   "metadata": {},
   "outputs": [
    {
     "data": {
      "text/plain": [
       "odict_keys(['csi300 index future data', 'nifty 50 index future data', 'hangseng index future data', 'nikkei 225 index future data', 's&p500 index future data', 'djia index future data'])"
      ]
     },
     "execution_count": 71,
     "metadata": {},
     "output_type": "execute_result"
    }
   ],
   "source": [
    "dict_dataframes_future.keys()"
   ]
  },
  {
   "cell_type": "code",
   "execution_count": 72,
   "metadata": {},
   "outputs": [
    {
     "data": {
      "text/plain": [
       "odict_keys(['csi300 index data', 'nifty 50 index data', 'hangseng index data', 'nikkei 225 index data', 's&p500 index data', 'djia index data'])"
      ]
     },
     "execution_count": 72,
     "metadata": {},
     "output_type": "execute_result"
    }
   ],
   "source": [
    "dict_dataframes_index.keys()"
   ]
  },
  {
   "cell_type": "code",
   "execution_count": 73,
   "metadata": {},
   "outputs": [],
   "source": [
    "# Visual analysis of data before train/test/split"
   ]
  },
  {
   "cell_type": "code",
   "execution_count": 74,
   "metadata": {
    "scrolled": false
   },
   "outputs": [
    {
     "data": {
      "text/html": [
       "<div>\n",
       "<style scoped>\n",
       "    .dataframe tbody tr th:only-of-type {\n",
       "        vertical-align: middle;\n",
       "    }\n",
       "\n",
       "    .dataframe tbody tr th {\n",
       "        vertical-align: top;\n",
       "    }\n",
       "\n",
       "    .dataframe thead th {\n",
       "        text-align: right;\n",
       "    }\n",
       "</style>\n",
       "<table border=\"1\" class=\"dataframe\">\n",
       "  <thead>\n",
       "    <tr style=\"text-align: right;\">\n",
       "      <th></th>\n",
       "      <th>date</th>\n",
       "      <th>open</th>\n",
       "      <th>high</th>\n",
       "      <th>low</th>\n",
       "      <th>close</th>\n",
       "      <th>volume</th>\n",
       "      <th>us dollar index</th>\n",
       "      <th>shibor</th>\n",
       "      <th>macd</th>\n",
       "      <th>cci</th>\n",
       "      <th>atr</th>\n",
       "      <th>boll</th>\n",
       "      <th>ema20</th>\n",
       "      <th>ma10</th>\n",
       "      <th>mtm6</th>\n",
       "      <th>ma5</th>\n",
       "      <th>mtm12</th>\n",
       "      <th>roc</th>\n",
       "      <th>smi</th>\n",
       "      <th>wvad</th>\n",
       "    </tr>\n",
       "  </thead>\n",
       "  <tbody>\n",
       "    <tr>\n",
       "      <th>0</th>\n",
       "      <td>20080701</td>\n",
       "      <td>2799.20</td>\n",
       "      <td>2809.38</td>\n",
       "      <td>2690.18</td>\n",
       "      <td>2698.35</td>\n",
       "      <td>288515.85</td>\n",
       "      <td>72.34</td>\n",
       "      <td>2.5006</td>\n",
       "      <td>-213.078565</td>\n",
       "      <td>-128.949052</td>\n",
       "      <td>119.200</td>\n",
       "      <td>3173.475692</td>\n",
       "      <td>3033.748201</td>\n",
       "      <td>2851.2504</td>\n",
       "      <td>-91.594</td>\n",
       "      <td>2851.3262</td>\n",
       "      <td>-280.770</td>\n",
       "      <td>-9.424605</td>\n",
       "      <td>-0.097927</td>\n",
       "      <td>-8.726278e+07</td>\n",
       "    </tr>\n",
       "    <tr>\n",
       "      <th>1</th>\n",
       "      <td>20080702</td>\n",
       "      <td>2702.63</td>\n",
       "      <td>2745.94</td>\n",
       "      <td>2670.06</td>\n",
       "      <td>2699.60</td>\n",
       "      <td>279163.65</td>\n",
       "      <td>71.99</td>\n",
       "      <td>2.7238</td>\n",
       "      <td>-213.732249</td>\n",
       "      <td>-139.719688</td>\n",
       "      <td>75.875</td>\n",
       "      <td>3140.413385</td>\n",
       "      <td>3001.924277</td>\n",
       "      <td>2822.0828</td>\n",
       "      <td>-152.318</td>\n",
       "      <td>2797.3382</td>\n",
       "      <td>-252.645</td>\n",
       "      <td>-8.557733</td>\n",
       "      <td>-0.026497</td>\n",
       "      <td>-1.095493e+08</td>\n",
       "    </tr>\n",
       "    <tr>\n",
       "      <th>2</th>\n",
       "      <td>20080703</td>\n",
       "      <td>2654.48</td>\n",
       "      <td>2807.68</td>\n",
       "      <td>2617.26</td>\n",
       "      <td>2760.61</td>\n",
       "      <td>456603.05</td>\n",
       "      <td>72.73</td>\n",
       "      <td>2.5762</td>\n",
       "      <td>-206.941406</td>\n",
       "      <td>-112.113057</td>\n",
       "      <td>190.424</td>\n",
       "      <td>3109.044731</td>\n",
       "      <td>2978.942155</td>\n",
       "      <td>2820.8364</td>\n",
       "      <td>-208.925</td>\n",
       "      <td>2753.2792</td>\n",
       "      <td>-82.064</td>\n",
       "      <td>-2.886857</td>\n",
       "      <td>-0.031251</td>\n",
       "      <td>-5.855737e+07</td>\n",
       "    </tr>\n",
       "    <tr>\n",
       "      <th>3</th>\n",
       "      <td>20080704</td>\n",
       "      <td>2751.21</td>\n",
       "      <td>2783.85</td>\n",
       "      <td>2716.02</td>\n",
       "      <td>2741.85</td>\n",
       "      <td>379050.10</td>\n",
       "      <td>72.71</td>\n",
       "      <td>2.5632</td>\n",
       "      <td>-200.759162</td>\n",
       "      <td>-81.997539</td>\n",
       "      <td>67.825</td>\n",
       "      <td>3073.107115</td>\n",
       "      <td>2956.362140</td>\n",
       "      <td>2810.0548</td>\n",
       "      <td>-239.055</td>\n",
       "      <td>2738.4454</td>\n",
       "      <td>-249.421</td>\n",
       "      <td>-8.338289</td>\n",
       "      <td>-0.017237</td>\n",
       "      <td>-7.467503e+07</td>\n",
       "    </tr>\n",
       "    <tr>\n",
       "      <th>4</th>\n",
       "      <td>20080707</td>\n",
       "      <td>2747.61</td>\n",
       "      <td>2890.99</td>\n",
       "      <td>2747.61</td>\n",
       "      <td>2882.76</td>\n",
       "      <td>527320.24</td>\n",
       "      <td>72.71</td>\n",
       "      <td>2.5679</td>\n",
       "      <td>-182.386907</td>\n",
       "      <td>21.707767</td>\n",
       "      <td>149.133</td>\n",
       "      <td>3046.256923</td>\n",
       "      <td>2949.352699</td>\n",
       "      <td>2819.3370</td>\n",
       "      <td>66.742</td>\n",
       "      <td>2756.6342</td>\n",
       "      <td>109.687</td>\n",
       "      <td>3.955427</td>\n",
       "      <td>0.010701</td>\n",
       "      <td>-3.531151e+07</td>\n",
       "    </tr>\n",
       "  </tbody>\n",
       "</table>\n",
       "</div>"
      ],
      "text/plain": [
       "       date     open     high      low    close     volume  us dollar index  \\\n",
       "0  20080701  2799.20  2809.38  2690.18  2698.35  288515.85            72.34   \n",
       "1  20080702  2702.63  2745.94  2670.06  2699.60  279163.65            71.99   \n",
       "2  20080703  2654.48  2807.68  2617.26  2760.61  456603.05            72.73   \n",
       "3  20080704  2751.21  2783.85  2716.02  2741.85  379050.10            72.71   \n",
       "4  20080707  2747.61  2890.99  2747.61  2882.76  527320.24            72.71   \n",
       "\n",
       "   shibor        macd         cci      atr         boll        ema20  \\\n",
       "0  2.5006 -213.078565 -128.949052  119.200  3173.475692  3033.748201   \n",
       "1  2.7238 -213.732249 -139.719688   75.875  3140.413385  3001.924277   \n",
       "2  2.5762 -206.941406 -112.113057  190.424  3109.044731  2978.942155   \n",
       "3  2.5632 -200.759162  -81.997539   67.825  3073.107115  2956.362140   \n",
       "4  2.5679 -182.386907   21.707767  149.133  3046.256923  2949.352699   \n",
       "\n",
       "        ma10     mtm6        ma5    mtm12       roc       smi          wvad  \n",
       "0  2851.2504  -91.594  2851.3262 -280.770 -9.424605 -0.097927 -8.726278e+07  \n",
       "1  2822.0828 -152.318  2797.3382 -252.645 -8.557733 -0.026497 -1.095493e+08  \n",
       "2  2820.8364 -208.925  2753.2792  -82.064 -2.886857 -0.031251 -5.855737e+07  \n",
       "3  2810.0548 -239.055  2738.4454 -249.421 -8.338289 -0.017237 -7.467503e+07  \n",
       "4  2819.3370   66.742  2756.6342  109.687  3.955427  0.010701 -3.531151e+07  "
      ]
     },
     "execution_count": 74,
     "metadata": {},
     "output_type": "execute_result"
    }
   ],
   "source": [
    "dict_dataframes_index['csi300 index data'].head()"
   ]
  },
  {
   "cell_type": "code",
   "execution_count": 75,
   "metadata": {},
   "outputs": [],
   "source": [
    "# Convert date column to datetime object for matplotlib\n",
    "dict_dataframes_index['csi300 index data']['date'] = pd.to_datetime(dict_dataframes_index['csi300 index data']['date'].astype(str), format='%Y%m%d')\n",
    "# Set date as index\n",
    "dict_dataframes_index['csi300 index data'] = dict_dataframes_index['csi300 index data'].set_index('date')"
   ]
  },
  {
   "cell_type": "code",
   "execution_count": 76,
   "metadata": {
    "scrolled": false
   },
   "outputs": [
    {
     "data": {
      "text/html": [
       "<div>\n",
       "<style scoped>\n",
       "    .dataframe tbody tr th:only-of-type {\n",
       "        vertical-align: middle;\n",
       "    }\n",
       "\n",
       "    .dataframe tbody tr th {\n",
       "        vertical-align: top;\n",
       "    }\n",
       "\n",
       "    .dataframe thead th {\n",
       "        text-align: right;\n",
       "    }\n",
       "</style>\n",
       "<table border=\"1\" class=\"dataframe\">\n",
       "  <thead>\n",
       "    <tr style=\"text-align: right;\">\n",
       "      <th></th>\n",
       "      <th>open</th>\n",
       "      <th>high</th>\n",
       "      <th>low</th>\n",
       "      <th>close</th>\n",
       "      <th>volume</th>\n",
       "      <th>us dollar index</th>\n",
       "      <th>shibor</th>\n",
       "      <th>macd</th>\n",
       "      <th>cci</th>\n",
       "      <th>atr</th>\n",
       "      <th>boll</th>\n",
       "      <th>ema20</th>\n",
       "      <th>ma10</th>\n",
       "      <th>mtm6</th>\n",
       "      <th>ma5</th>\n",
       "      <th>mtm12</th>\n",
       "      <th>roc</th>\n",
       "      <th>smi</th>\n",
       "      <th>wvad</th>\n",
       "    </tr>\n",
       "    <tr>\n",
       "      <th>date</th>\n",
       "      <th></th>\n",
       "      <th></th>\n",
       "      <th></th>\n",
       "      <th></th>\n",
       "      <th></th>\n",
       "      <th></th>\n",
       "      <th></th>\n",
       "      <th></th>\n",
       "      <th></th>\n",
       "      <th></th>\n",
       "      <th></th>\n",
       "      <th></th>\n",
       "      <th></th>\n",
       "      <th></th>\n",
       "      <th></th>\n",
       "      <th></th>\n",
       "      <th></th>\n",
       "      <th></th>\n",
       "      <th></th>\n",
       "    </tr>\n",
       "  </thead>\n",
       "  <tbody>\n",
       "    <tr>\n",
       "      <th>2008-07-01</th>\n",
       "      <td>2799.20</td>\n",
       "      <td>2809.38</td>\n",
       "      <td>2690.18</td>\n",
       "      <td>2698.35</td>\n",
       "      <td>288515.85</td>\n",
       "      <td>72.34</td>\n",
       "      <td>2.5006</td>\n",
       "      <td>-213.078565</td>\n",
       "      <td>-128.949052</td>\n",
       "      <td>119.200</td>\n",
       "      <td>3173.475692</td>\n",
       "      <td>3033.748201</td>\n",
       "      <td>2851.2504</td>\n",
       "      <td>-91.594</td>\n",
       "      <td>2851.3262</td>\n",
       "      <td>-280.770</td>\n",
       "      <td>-9.424605</td>\n",
       "      <td>-0.097927</td>\n",
       "      <td>-8.726278e+07</td>\n",
       "    </tr>\n",
       "    <tr>\n",
       "      <th>2008-07-02</th>\n",
       "      <td>2702.63</td>\n",
       "      <td>2745.94</td>\n",
       "      <td>2670.06</td>\n",
       "      <td>2699.60</td>\n",
       "      <td>279163.65</td>\n",
       "      <td>71.99</td>\n",
       "      <td>2.7238</td>\n",
       "      <td>-213.732249</td>\n",
       "      <td>-139.719688</td>\n",
       "      <td>75.875</td>\n",
       "      <td>3140.413385</td>\n",
       "      <td>3001.924277</td>\n",
       "      <td>2822.0828</td>\n",
       "      <td>-152.318</td>\n",
       "      <td>2797.3382</td>\n",
       "      <td>-252.645</td>\n",
       "      <td>-8.557733</td>\n",
       "      <td>-0.026497</td>\n",
       "      <td>-1.095493e+08</td>\n",
       "    </tr>\n",
       "    <tr>\n",
       "      <th>2008-07-03</th>\n",
       "      <td>2654.48</td>\n",
       "      <td>2807.68</td>\n",
       "      <td>2617.26</td>\n",
       "      <td>2760.61</td>\n",
       "      <td>456603.05</td>\n",
       "      <td>72.73</td>\n",
       "      <td>2.5762</td>\n",
       "      <td>-206.941406</td>\n",
       "      <td>-112.113057</td>\n",
       "      <td>190.424</td>\n",
       "      <td>3109.044731</td>\n",
       "      <td>2978.942155</td>\n",
       "      <td>2820.8364</td>\n",
       "      <td>-208.925</td>\n",
       "      <td>2753.2792</td>\n",
       "      <td>-82.064</td>\n",
       "      <td>-2.886857</td>\n",
       "      <td>-0.031251</td>\n",
       "      <td>-5.855737e+07</td>\n",
       "    </tr>\n",
       "    <tr>\n",
       "      <th>2008-07-04</th>\n",
       "      <td>2751.21</td>\n",
       "      <td>2783.85</td>\n",
       "      <td>2716.02</td>\n",
       "      <td>2741.85</td>\n",
       "      <td>379050.10</td>\n",
       "      <td>72.71</td>\n",
       "      <td>2.5632</td>\n",
       "      <td>-200.759162</td>\n",
       "      <td>-81.997539</td>\n",
       "      <td>67.825</td>\n",
       "      <td>3073.107115</td>\n",
       "      <td>2956.362140</td>\n",
       "      <td>2810.0548</td>\n",
       "      <td>-239.055</td>\n",
       "      <td>2738.4454</td>\n",
       "      <td>-249.421</td>\n",
       "      <td>-8.338289</td>\n",
       "      <td>-0.017237</td>\n",
       "      <td>-7.467503e+07</td>\n",
       "    </tr>\n",
       "    <tr>\n",
       "      <th>2008-07-07</th>\n",
       "      <td>2747.61</td>\n",
       "      <td>2890.99</td>\n",
       "      <td>2747.61</td>\n",
       "      <td>2882.76</td>\n",
       "      <td>527320.24</td>\n",
       "      <td>72.71</td>\n",
       "      <td>2.5679</td>\n",
       "      <td>-182.386907</td>\n",
       "      <td>21.707767</td>\n",
       "      <td>149.133</td>\n",
       "      <td>3046.256923</td>\n",
       "      <td>2949.352699</td>\n",
       "      <td>2819.3370</td>\n",
       "      <td>66.742</td>\n",
       "      <td>2756.6342</td>\n",
       "      <td>109.687</td>\n",
       "      <td>3.955427</td>\n",
       "      <td>0.010701</td>\n",
       "      <td>-3.531151e+07</td>\n",
       "    </tr>\n",
       "  </tbody>\n",
       "</table>\n",
       "</div>"
      ],
      "text/plain": [
       "               open     high      low    close     volume  us dollar index  \\\n",
       "date                                                                         \n",
       "2008-07-01  2799.20  2809.38  2690.18  2698.35  288515.85            72.34   \n",
       "2008-07-02  2702.63  2745.94  2670.06  2699.60  279163.65            71.99   \n",
       "2008-07-03  2654.48  2807.68  2617.26  2760.61  456603.05            72.73   \n",
       "2008-07-04  2751.21  2783.85  2716.02  2741.85  379050.10            72.71   \n",
       "2008-07-07  2747.61  2890.99  2747.61  2882.76  527320.24            72.71   \n",
       "\n",
       "            shibor        macd         cci      atr         boll        ema20  \\\n",
       "date                                                                            \n",
       "2008-07-01  2.5006 -213.078565 -128.949052  119.200  3173.475692  3033.748201   \n",
       "2008-07-02  2.7238 -213.732249 -139.719688   75.875  3140.413385  3001.924277   \n",
       "2008-07-03  2.5762 -206.941406 -112.113057  190.424  3109.044731  2978.942155   \n",
       "2008-07-04  2.5632 -200.759162  -81.997539   67.825  3073.107115  2956.362140   \n",
       "2008-07-07  2.5679 -182.386907   21.707767  149.133  3046.256923  2949.352699   \n",
       "\n",
       "                 ma10     mtm6        ma5    mtm12       roc       smi  \\\n",
       "date                                                                     \n",
       "2008-07-01  2851.2504  -91.594  2851.3262 -280.770 -9.424605 -0.097927   \n",
       "2008-07-02  2822.0828 -152.318  2797.3382 -252.645 -8.557733 -0.026497   \n",
       "2008-07-03  2820.8364 -208.925  2753.2792  -82.064 -2.886857 -0.031251   \n",
       "2008-07-04  2810.0548 -239.055  2738.4454 -249.421 -8.338289 -0.017237   \n",
       "2008-07-07  2819.3370   66.742  2756.6342  109.687  3.955427  0.010701   \n",
       "\n",
       "                    wvad  \n",
       "date                      \n",
       "2008-07-01 -8.726278e+07  \n",
       "2008-07-02 -1.095493e+08  \n",
       "2008-07-03 -5.855737e+07  \n",
       "2008-07-04 -7.467503e+07  \n",
       "2008-07-07 -3.531151e+07  "
      ]
     },
     "execution_count": 76,
     "metadata": {},
     "output_type": "execute_result"
    }
   ],
   "source": [
    "dict_dataframes_index['csi300 index data'].head()"
   ]
  },
  {
   "cell_type": "code",
   "execution_count": 79,
   "metadata": {
    "scrolled": true
   },
   "outputs": [
    {
     "data": {
      "image/png": "[encoded data removed]",
      "text/plain": [
       "<Figure size 432x288 with 1 Axes>"
      ]
     },
     "metadata": {
      "needs_background": "light"
     },
     "output_type": "display_data"
    }
   ],
   "source": [
    "plt.title('csi300 index data')\n",
    "plt.plot(dict_dataframes_index['csi300 index data'].index,dict_dataframes_index['csi300 index data']['close'])\n",
    "plt.ylabel('close')\n",
    "plt.xlabel('date')\n",
    "plt.show()"
   ]
  },
  {
   "cell_type": "code",
   "execution_count": 80,
   "metadata": {},
   "outputs": [],
   "source": [
    "# scikit-learn data preprocess"
   ]
  },
  {
   "cell_type": "code",
   "execution_count": 81,
   "metadata": {},
   "outputs": [
    {
     "data": {
      "text/plain": [
       "array([[ 2.00807010e+07,  2.79920000e+03,  2.80938000e+03, ...,\n",
       "        -9.42460467e+00, -9.79268693e-02, -8.72627838e+07],\n",
       "       [ 2.00807020e+07,  2.70263000e+03,  2.74594000e+03, ...,\n",
       "        -8.55773341e+00, -2.64972904e-02, -1.09549319e+08],\n",
       "       [ 2.00807030e+07,  2.65448000e+03,  2.80768000e+03, ...,\n",
       "        -2.88685731e+00, -3.12513598e-02, -5.85573695e+07],\n",
       "       ...,\n",
       "       [ 2.01609280e+07,  3.24364700e+03,  3.24364700e+03, ...,\n",
       "        -3.25412539e+00, -9.03054995e-03, -1.52809487e+08],\n",
       "       [ 2.01609290e+07,  3.23485700e+03,  3.25776680e+03, ...,\n",
       "        -2.21988015e+00,  1.74378066e-03, -8.96478826e+07],\n",
       "       [ 2.01609300e+07,  3.24017750e+03,  3.26094050e+03, ...,\n",
       "        -2.85646040e-01, -3.01533114e-03, -4.81545298e+07]])"
      ]
     },
     "execution_count": 81,
     "metadata": {},
     "output_type": "execute_result"
    }
   ],
   "source": [
    "# Index value for train test split check\n",
    "X=dict_dataframes['csi300 index data'].values\n",
    "X"
   ]
  },
  {
   "cell_type": "code",
   "execution_count": 82,
   "metadata": {},
   "outputs": [
    {
     "data": {
      "text/plain": [
       "Index(['open', 'high', 'low', 'close', 'volume', 'us dollar index', 'shibor',\n",
       "       'macd', 'cci', 'atr', 'boll', 'ema20', 'ma10', 'mtm6', 'ma5', 'mtm12',\n",
       "       'roc', 'smi', 'wvad'],\n",
       "      dtype='object')"
      ]
     },
     "execution_count": 82,
     "metadata": {},
     "output_type": "execute_result"
    }
   ],
   "source": [
    "#print(\"\\n\".join(list(dict_dataframes_index['csi300 index data'].columns)))\n",
    "dict_dataframes_index['csi300 index data'].columns"
   ]
  },
  {
   "cell_type": "code",
   "execution_count": 83,
   "metadata": {
    "scrolled": true
   },
   "outputs": [
    {
     "data": {
      "text/html": [
       "<div>\n",
       "<style scoped>\n",
       "    .dataframe tbody tr th:only-of-type {\n",
       "        vertical-align: middle;\n",
       "    }\n",
       "\n",
       "    .dataframe tbody tr th {\n",
       "        vertical-align: top;\n",
       "    }\n",
       "\n",
       "    .dataframe thead th {\n",
       "        text-align: right;\n",
       "    }\n",
       "</style>\n",
       "<table border=\"1\" class=\"dataframe\">\n",
       "  <thead>\n",
       "    <tr style=\"text-align: right;\">\n",
       "      <th></th>\n",
       "      <th>0</th>\n",
       "      <th>1</th>\n",
       "      <th>2</th>\n",
       "      <th>3</th>\n",
       "      <th>4</th>\n",
       "      <th>5</th>\n",
       "      <th>6</th>\n",
       "      <th>7</th>\n",
       "      <th>8</th>\n",
       "      <th>9</th>\n",
       "      <th>10</th>\n",
       "      <th>11</th>\n",
       "      <th>12</th>\n",
       "      <th>13</th>\n",
       "      <th>14</th>\n",
       "      <th>15</th>\n",
       "      <th>16</th>\n",
       "      <th>17</th>\n",
       "      <th>18</th>\n",
       "      <th>19</th>\n",
       "    </tr>\n",
       "  </thead>\n",
       "  <tbody>\n",
       "    <tr>\n",
       "      <th>0</th>\n",
       "      <td>20080701.0</td>\n",
       "      <td>2799.20</td>\n",
       "      <td>2809.38</td>\n",
       "      <td>2690.18</td>\n",
       "      <td>2698.35</td>\n",
       "      <td>288515.85</td>\n",
       "      <td>72.34</td>\n",
       "      <td>2.5006</td>\n",
       "      <td>-213.078565</td>\n",
       "      <td>-128.949052</td>\n",
       "      <td>119.200</td>\n",
       "      <td>3173.475692</td>\n",
       "      <td>3033.748201</td>\n",
       "      <td>2851.2504</td>\n",
       "      <td>-91.594</td>\n",
       "      <td>2851.3262</td>\n",
       "      <td>-280.770</td>\n",
       "      <td>-9.424605</td>\n",
       "      <td>-0.097927</td>\n",
       "      <td>-8.726278e+07</td>\n",
       "    </tr>\n",
       "    <tr>\n",
       "      <th>1</th>\n",
       "      <td>20080702.0</td>\n",
       "      <td>2702.63</td>\n",
       "      <td>2745.94</td>\n",
       "      <td>2670.06</td>\n",
       "      <td>2699.60</td>\n",
       "      <td>279163.65</td>\n",
       "      <td>71.99</td>\n",
       "      <td>2.7238</td>\n",
       "      <td>-213.732249</td>\n",
       "      <td>-139.719688</td>\n",
       "      <td>75.875</td>\n",
       "      <td>3140.413385</td>\n",
       "      <td>3001.924277</td>\n",
       "      <td>2822.0828</td>\n",
       "      <td>-152.318</td>\n",
       "      <td>2797.3382</td>\n",
       "      <td>-252.645</td>\n",
       "      <td>-8.557733</td>\n",
       "      <td>-0.026497</td>\n",
       "      <td>-1.095493e+08</td>\n",
       "    </tr>\n",
       "    <tr>\n",
       "      <th>2</th>\n",
       "      <td>20080703.0</td>\n",
       "      <td>2654.48</td>\n",
       "      <td>2807.68</td>\n",
       "      <td>2617.26</td>\n",
       "      <td>2760.61</td>\n",
       "      <td>456603.05</td>\n",
       "      <td>72.73</td>\n",
       "      <td>2.5762</td>\n",
       "      <td>-206.941406</td>\n",
       "      <td>-112.113057</td>\n",
       "      <td>190.424</td>\n",
       "      <td>3109.044731</td>\n",
       "      <td>2978.942155</td>\n",
       "      <td>2820.8364</td>\n",
       "      <td>-208.925</td>\n",
       "      <td>2753.2792</td>\n",
       "      <td>-82.064</td>\n",
       "      <td>-2.886857</td>\n",
       "      <td>-0.031251</td>\n",
       "      <td>-5.855737e+07</td>\n",
       "    </tr>\n",
       "    <tr>\n",
       "      <th>3</th>\n",
       "      <td>20080704.0</td>\n",
       "      <td>2751.21</td>\n",
       "      <td>2783.85</td>\n",
       "      <td>2716.02</td>\n",
       "      <td>2741.85</td>\n",
       "      <td>379050.10</td>\n",
       "      <td>72.71</td>\n",
       "      <td>2.5632</td>\n",
       "      <td>-200.759162</td>\n",
       "      <td>-81.997539</td>\n",
       "      <td>67.825</td>\n",
       "      <td>3073.107115</td>\n",
       "      <td>2956.362140</td>\n",
       "      <td>2810.0548</td>\n",
       "      <td>-239.055</td>\n",
       "      <td>2738.4454</td>\n",
       "      <td>-249.421</td>\n",
       "      <td>-8.338289</td>\n",
       "      <td>-0.017237</td>\n",
       "      <td>-7.467503e+07</td>\n",
       "    </tr>\n",
       "    <tr>\n",
       "      <th>4</th>\n",
       "      <td>20080707.0</td>\n",
       "      <td>2747.61</td>\n",
       "      <td>2890.99</td>\n",
       "      <td>2747.61</td>\n",
       "      <td>2882.76</td>\n",
       "      <td>527320.24</td>\n",
       "      <td>72.71</td>\n",
       "      <td>2.5679</td>\n",
       "      <td>-182.386907</td>\n",
       "      <td>21.707767</td>\n",
       "      <td>149.133</td>\n",
       "      <td>3046.256923</td>\n",
       "      <td>2949.352699</td>\n",
       "      <td>2819.3370</td>\n",
       "      <td>66.742</td>\n",
       "      <td>2756.6342</td>\n",
       "      <td>109.687</td>\n",
       "      <td>3.955427</td>\n",
       "      <td>0.010701</td>\n",
       "      <td>-3.531151e+07</td>\n",
       "    </tr>\n",
       "  </tbody>\n",
       "</table>\n",
       "</div>"
      ],
      "text/plain": [
       "           0        1        2        3        4          5      6       7   \\\n",
       "0  20080701.0  2799.20  2809.38  2690.18  2698.35  288515.85  72.34  2.5006   \n",
       "1  20080702.0  2702.63  2745.94  2670.06  2699.60  279163.65  71.99  2.7238   \n",
       "2  20080703.0  2654.48  2807.68  2617.26  2760.61  456603.05  72.73  2.5762   \n",
       "3  20080704.0  2751.21  2783.85  2716.02  2741.85  379050.10  72.71  2.5632   \n",
       "4  20080707.0  2747.61  2890.99  2747.61  2882.76  527320.24  72.71  2.5679   \n",
       "\n",
       "           8           9        10           11           12         13  \\\n",
       "0 -213.078565 -128.949052  119.200  3173.475692  3033.748201  2851.2504   \n",
       "1 -213.732249 -139.719688   75.875  3140.413385  3001.924277  2822.0828   \n",
       "2 -206.941406 -112.113057  190.424  3109.044731  2978.942155  2820.8364   \n",
       "3 -200.759162  -81.997539   67.825  3073.107115  2956.362140  2810.0548   \n",
       "4 -182.386907   21.707767  149.133  3046.256923  2949.352699  2819.3370   \n",
       "\n",
       "        14         15       16        17        18            19  \n",
       "0  -91.594  2851.3262 -280.770 -9.424605 -0.097927 -8.726278e+07  \n",
       "1 -152.318  2797.3382 -252.645 -8.557733 -0.026497 -1.095493e+08  \n",
       "2 -208.925  2753.2792  -82.064 -2.886857 -0.031251 -5.855737e+07  \n",
       "3 -239.055  2738.4454 -249.421 -8.338289 -0.017237 -7.467503e+07  \n",
       "4   66.742  2756.6342  109.687  3.955427  0.010701 -3.531151e+07  "
      ]
     },
     "execution_count": 83,
     "metadata": {},
     "output_type": "execute_result"
    }
   ],
   "source": [
    "pd.DataFrame(X).head()\n",
    "# Column 0 is index/datetime index\n",
    "# Columns 1-19 are the features"
   ]
  },
  {
   "cell_type": "code",
   "execution_count": 84,
   "metadata": {},
   "outputs": [],
   "source": [
    "# Drop date from dataframe - use index values to reconcile later\n",
    "dict_dataframes['csi300 index data'].drop(['date'],axis=1,inplace=True)"
   ]
  },
  {
   "cell_type": "code",
   "execution_count": 85,
   "metadata": {},
   "outputs": [
    {
     "data": {
      "text/html": [
       "<div>\n",
       "<style scoped>\n",
       "    .dataframe tbody tr th:only-of-type {\n",
       "        vertical-align: middle;\n",
       "    }\n",
       "\n",
       "    .dataframe tbody tr th {\n",
       "        vertical-align: top;\n",
       "    }\n",
       "\n",
       "    .dataframe thead th {\n",
       "        text-align: right;\n",
       "    }\n",
       "</style>\n",
       "<table border=\"1\" class=\"dataframe\">\n",
       "  <thead>\n",
       "    <tr style=\"text-align: right;\">\n",
       "      <th></th>\n",
       "      <th>open</th>\n",
       "      <th>high</th>\n",
       "      <th>low</th>\n",
       "      <th>close</th>\n",
       "      <th>volume</th>\n",
       "      <th>us dollar index</th>\n",
       "      <th>shibor</th>\n",
       "      <th>macd</th>\n",
       "      <th>cci</th>\n",
       "      <th>atr</th>\n",
       "      <th>boll</th>\n",
       "      <th>ema20</th>\n",
       "      <th>ma10</th>\n",
       "      <th>mtm6</th>\n",
       "      <th>ma5</th>\n",
       "      <th>mtm12</th>\n",
       "      <th>roc</th>\n",
       "      <th>smi</th>\n",
       "      <th>wvad</th>\n",
       "    </tr>\n",
       "  </thead>\n",
       "  <tbody>\n",
       "    <tr>\n",
       "      <th>0</th>\n",
       "      <td>2799.20</td>\n",
       "      <td>2809.38</td>\n",
       "      <td>2690.18</td>\n",
       "      <td>2698.35</td>\n",
       "      <td>288515.85</td>\n",
       "      <td>72.34</td>\n",
       "      <td>2.5006</td>\n",
       "      <td>-213.078565</td>\n",
       "      <td>-128.949052</td>\n",
       "      <td>119.200</td>\n",
       "      <td>3173.475692</td>\n",
       "      <td>3033.748201</td>\n",
       "      <td>2851.2504</td>\n",
       "      <td>-91.594</td>\n",
       "      <td>2851.3262</td>\n",
       "      <td>-280.770</td>\n",
       "      <td>-9.424605</td>\n",
       "      <td>-0.097927</td>\n",
       "      <td>-8.726278e+07</td>\n",
       "    </tr>\n",
       "    <tr>\n",
       "      <th>1</th>\n",
       "      <td>2702.63</td>\n",
       "      <td>2745.94</td>\n",
       "      <td>2670.06</td>\n",
       "      <td>2699.60</td>\n",
       "      <td>279163.65</td>\n",
       "      <td>71.99</td>\n",
       "      <td>2.7238</td>\n",
       "      <td>-213.732249</td>\n",
       "      <td>-139.719688</td>\n",
       "      <td>75.875</td>\n",
       "      <td>3140.413385</td>\n",
       "      <td>3001.924277</td>\n",
       "      <td>2822.0828</td>\n",
       "      <td>-152.318</td>\n",
       "      <td>2797.3382</td>\n",
       "      <td>-252.645</td>\n",
       "      <td>-8.557733</td>\n",
       "      <td>-0.026497</td>\n",
       "      <td>-1.095493e+08</td>\n",
       "    </tr>\n",
       "    <tr>\n",
       "      <th>2</th>\n",
       "      <td>2654.48</td>\n",
       "      <td>2807.68</td>\n",
       "      <td>2617.26</td>\n",
       "      <td>2760.61</td>\n",
       "      <td>456603.05</td>\n",
       "      <td>72.73</td>\n",
       "      <td>2.5762</td>\n",
       "      <td>-206.941406</td>\n",
       "      <td>-112.113057</td>\n",
       "      <td>190.424</td>\n",
       "      <td>3109.044731</td>\n",
       "      <td>2978.942155</td>\n",
       "      <td>2820.8364</td>\n",
       "      <td>-208.925</td>\n",
       "      <td>2753.2792</td>\n",
       "      <td>-82.064</td>\n",
       "      <td>-2.886857</td>\n",
       "      <td>-0.031251</td>\n",
       "      <td>-5.855737e+07</td>\n",
       "    </tr>\n",
       "    <tr>\n",
       "      <th>3</th>\n",
       "      <td>2751.21</td>\n",
       "      <td>2783.85</td>\n",
       "      <td>2716.02</td>\n",
       "      <td>2741.85</td>\n",
       "      <td>379050.10</td>\n",
       "      <td>72.71</td>\n",
       "      <td>2.5632</td>\n",
       "      <td>-200.759162</td>\n",
       "      <td>-81.997539</td>\n",
       "      <td>67.825</td>\n",
       "      <td>3073.107115</td>\n",
       "      <td>2956.362140</td>\n",
       "      <td>2810.0548</td>\n",
       "      <td>-239.055</td>\n",
       "      <td>2738.4454</td>\n",
       "      <td>-249.421</td>\n",
       "      <td>-8.338289</td>\n",
       "      <td>-0.017237</td>\n",
       "      <td>-7.467503e+07</td>\n",
       "    </tr>\n",
       "    <tr>\n",
       "      <th>4</th>\n",
       "      <td>2747.61</td>\n",
       "      <td>2890.99</td>\n",
       "      <td>2747.61</td>\n",
       "      <td>2882.76</td>\n",
       "      <td>527320.24</td>\n",
       "      <td>72.71</td>\n",
       "      <td>2.5679</td>\n",
       "      <td>-182.386907</td>\n",
       "      <td>21.707767</td>\n",
       "      <td>149.133</td>\n",
       "      <td>3046.256923</td>\n",
       "      <td>2949.352699</td>\n",
       "      <td>2819.3370</td>\n",
       "      <td>66.742</td>\n",
       "      <td>2756.6342</td>\n",
       "      <td>109.687</td>\n",
       "      <td>3.955427</td>\n",
       "      <td>0.010701</td>\n",
       "      <td>-3.531151e+07</td>\n",
       "    </tr>\n",
       "  </tbody>\n",
       "</table>\n",
       "</div>"
      ],
      "text/plain": [
       "      open     high      low    close     volume  us dollar index  shibor  \\\n",
       "0  2799.20  2809.38  2690.18  2698.35  288515.85            72.34  2.5006   \n",
       "1  2702.63  2745.94  2670.06  2699.60  279163.65            71.99  2.7238   \n",
       "2  2654.48  2807.68  2617.26  2760.61  456603.05            72.73  2.5762   \n",
       "3  2751.21  2783.85  2716.02  2741.85  379050.10            72.71  2.5632   \n",
       "4  2747.61  2890.99  2747.61  2882.76  527320.24            72.71  2.5679   \n",
       "\n",
       "         macd         cci      atr         boll        ema20       ma10  \\\n",
       "0 -213.078565 -128.949052  119.200  3173.475692  3033.748201  2851.2504   \n",
       "1 -213.732249 -139.719688   75.875  3140.413385  3001.924277  2822.0828   \n",
       "2 -206.941406 -112.113057  190.424  3109.044731  2978.942155  2820.8364   \n",
       "3 -200.759162  -81.997539   67.825  3073.107115  2956.362140  2810.0548   \n",
       "4 -182.386907   21.707767  149.133  3046.256923  2949.352699  2819.3370   \n",
       "\n",
       "      mtm6        ma5    mtm12       roc       smi          wvad  \n",
       "0  -91.594  2851.3262 -280.770 -9.424605 -0.097927 -8.726278e+07  \n",
       "1 -152.318  2797.3382 -252.645 -8.557733 -0.026497 -1.095493e+08  \n",
       "2 -208.925  2753.2792  -82.064 -2.886857 -0.031251 -5.855737e+07  \n",
       "3 -239.055  2738.4454 -249.421 -8.338289 -0.017237 -7.467503e+07  \n",
       "4   66.742  2756.6342  109.687  3.955427  0.010701 -3.531151e+07  "
      ]
     },
     "execution_count": 85,
     "metadata": {},
     "output_type": "execute_result"
    }
   ],
   "source": [
    "dict_dataframes['csi300 index data'].head()"
   ]
  },
  {
   "cell_type": "code",
   "execution_count": 86,
   "metadata": {},
   "outputs": [
    {
     "name": "stdout",
     "output_type": "stream",
     "text": [
      "Observations: 575\n",
      "Training Observations: 288\n",
      "Testing Observations: 287\n",
      "Observations: 862\n",
      "Training Observations: 575\n",
      "Testing Observations: 287\n",
      "Observations: 1149\n",
      "Training Observations: 862\n",
      "Testing Observations: 287\n",
      "Observations: 1436\n",
      "Training Observations: 1149\n",
      "Testing Observations: 287\n",
      "Observations: 1723\n",
      "Training Observations: 1436\n",
      "Testing Observations: 287\n",
      "Observations: 2010\n",
      "Training Observations: 1723\n",
      "Testing Observations: 287\n"
     ]
    }
   ],
   "source": [
    "# Splitting data this particular way includes the previous observations into the next training set (TimeSeriesSplit)\n",
    "\n",
    "from sklearn.model_selection import TimeSeriesSplit\n",
    "\n",
    "train_list = []\n",
    "test_list = []\n",
    "X = dict_dataframes['csi300 index data'].values\n",
    "\n",
    "splits = TimeSeriesSplit(n_splits=6)\n",
    "index = 1\n",
    "for train_index, test_index in splits.split(X):\n",
    "    train = X[train_index]\n",
    "    test = X[test_index]\n",
    "    print('Observations: %d' % (len(train) + len(test)))\n",
    "    print('Training Observations: %d' % (len(train)))\n",
    "    print('Testing Observations: %d' % (len(test)))\n",
    "    train_list.append(train)\n",
    "    test_list.append(test)\n",
    "    index += 1"
   ]
  },
  {
   "cell_type": "code",
   "execution_count": 87,
   "metadata": {},
   "outputs": [
    {
     "data": {
      "text/plain": [
       "(6, 6)"
      ]
     },
     "execution_count": 87,
     "metadata": {},
     "output_type": "execute_result"
    }
   ],
   "source": [
    "len(train_list),len(test_list)"
   ]
  },
  {
   "cell_type": "code",
   "execution_count": null,
   "metadata": {},
   "outputs": [],
   "source": [
    "#Fig 1. The flowchart of the proposed deep learning framework for financial time series\n",
    "#![fig%201%20flowchart%20of%20dl%20framework%20model.PNG](attachment:fig%201%20flowchart%20of%20dl%20framework%20model.PNG)"
   ]
  },
  {
   "cell_type": "markdown",
   "metadata": {},
   "source": [
    "**As defined by bao-yue-rao, the WSAE-LSTM model has three primary components:**\n",
    "\n",
    "1. Wavelet transform applied to denoise data as part of preprocessing\n",
    "2. Stacked Autoencoders to generate high level features\n",
    "3. LSTMs to forecast next day closing price"
   ]
  },
  {
   "cell_type": "markdown",
   "metadata": {},
   "source": [
    "**Wavelet Transform**\n",
    "\n",
    "\"As a result, the two-level wavelet is applied twice in this study for data preprocessing as suggested in [23]\"\n",
    "\n",
    "\"First, the denoised time series is generated via discrete wavelet transform using the Haar wavelet\"\n",
    "\n",
    "\"This study applies the Haar function as the wavelet basis function because it can not only decompose the financial time series into time and frequency domain but also reduce the processing time significantly [23]\""
   ]
  },
  {
   "cell_type": "code",
   "execution_count": 88,
   "metadata": {},
   "outputs": [],
   "source": [
    "# Single-level wavelet transform\n",
    "    # https://pywavelets.readthedocs.io/en/latest/ref/dwt-discrete-wavelet-transform.html\n",
    "#cA, cD = pywt.dwt(clean_data.values, 'haar')"
   ]
  },
  {
   "cell_type": "code",
   "execution_count": 89,
   "metadata": {
    "scrolled": true
   },
   "outputs": [
    {
     "data": {
      "text/html": [
       "<div>\n",
       "<style scoped>\n",
       "    .dataframe tbody tr th:only-of-type {\n",
       "        vertical-align: middle;\n",
       "    }\n",
       "\n",
       "    .dataframe tbody tr th {\n",
       "        vertical-align: top;\n",
       "    }\n",
       "\n",
       "    .dataframe thead th {\n",
       "        text-align: right;\n",
       "    }\n",
       "</style>\n",
       "<table border=\"1\" class=\"dataframe\">\n",
       "  <thead>\n",
       "    <tr style=\"text-align: right;\">\n",
       "      <th></th>\n",
       "      <th>open</th>\n",
       "      <th>high</th>\n",
       "      <th>low</th>\n",
       "      <th>close</th>\n",
       "      <th>volume</th>\n",
       "      <th>us dollar index</th>\n",
       "      <th>shibor</th>\n",
       "      <th>macd</th>\n",
       "      <th>cci</th>\n",
       "      <th>atr</th>\n",
       "      <th>boll</th>\n",
       "      <th>ema20</th>\n",
       "      <th>ma10</th>\n",
       "      <th>mtm6</th>\n",
       "      <th>ma5</th>\n",
       "      <th>mtm12</th>\n",
       "      <th>roc</th>\n",
       "      <th>smi</th>\n",
       "      <th>wvad</th>\n",
       "    </tr>\n",
       "  </thead>\n",
       "  <tbody>\n",
       "    <tr>\n",
       "      <th>0</th>\n",
       "      <td>2799.20</td>\n",
       "      <td>2809.38</td>\n",
       "      <td>2690.18</td>\n",
       "      <td>2698.35</td>\n",
       "      <td>288515.85</td>\n",
       "      <td>72.34</td>\n",
       "      <td>2.5006</td>\n",
       "      <td>-213.078565</td>\n",
       "      <td>-128.949052</td>\n",
       "      <td>119.200</td>\n",
       "      <td>3173.475692</td>\n",
       "      <td>3033.748201</td>\n",
       "      <td>2851.2504</td>\n",
       "      <td>-91.594</td>\n",
       "      <td>2851.3262</td>\n",
       "      <td>-280.770</td>\n",
       "      <td>-9.424605</td>\n",
       "      <td>-0.097927</td>\n",
       "      <td>-8.726278e+07</td>\n",
       "    </tr>\n",
       "    <tr>\n",
       "      <th>1</th>\n",
       "      <td>2702.63</td>\n",
       "      <td>2745.94</td>\n",
       "      <td>2670.06</td>\n",
       "      <td>2699.60</td>\n",
       "      <td>279163.65</td>\n",
       "      <td>71.99</td>\n",
       "      <td>2.7238</td>\n",
       "      <td>-213.732249</td>\n",
       "      <td>-139.719688</td>\n",
       "      <td>75.875</td>\n",
       "      <td>3140.413385</td>\n",
       "      <td>3001.924277</td>\n",
       "      <td>2822.0828</td>\n",
       "      <td>-152.318</td>\n",
       "      <td>2797.3382</td>\n",
       "      <td>-252.645</td>\n",
       "      <td>-8.557733</td>\n",
       "      <td>-0.026497</td>\n",
       "      <td>-1.095493e+08</td>\n",
       "    </tr>\n",
       "    <tr>\n",
       "      <th>2</th>\n",
       "      <td>2654.48</td>\n",
       "      <td>2807.68</td>\n",
       "      <td>2617.26</td>\n",
       "      <td>2760.61</td>\n",
       "      <td>456603.05</td>\n",
       "      <td>72.73</td>\n",
       "      <td>2.5762</td>\n",
       "      <td>-206.941406</td>\n",
       "      <td>-112.113057</td>\n",
       "      <td>190.424</td>\n",
       "      <td>3109.044731</td>\n",
       "      <td>2978.942155</td>\n",
       "      <td>2820.8364</td>\n",
       "      <td>-208.925</td>\n",
       "      <td>2753.2792</td>\n",
       "      <td>-82.064</td>\n",
       "      <td>-2.886857</td>\n",
       "      <td>-0.031251</td>\n",
       "      <td>-5.855737e+07</td>\n",
       "    </tr>\n",
       "    <tr>\n",
       "      <th>3</th>\n",
       "      <td>2751.21</td>\n",
       "      <td>2783.85</td>\n",
       "      <td>2716.02</td>\n",
       "      <td>2741.85</td>\n",
       "      <td>379050.10</td>\n",
       "      <td>72.71</td>\n",
       "      <td>2.5632</td>\n",
       "      <td>-200.759162</td>\n",
       "      <td>-81.997539</td>\n",
       "      <td>67.825</td>\n",
       "      <td>3073.107115</td>\n",
       "      <td>2956.362140</td>\n",
       "      <td>2810.0548</td>\n",
       "      <td>-239.055</td>\n",
       "      <td>2738.4454</td>\n",
       "      <td>-249.421</td>\n",
       "      <td>-8.338289</td>\n",
       "      <td>-0.017237</td>\n",
       "      <td>-7.467503e+07</td>\n",
       "    </tr>\n",
       "    <tr>\n",
       "      <th>4</th>\n",
       "      <td>2747.61</td>\n",
       "      <td>2890.99</td>\n",
       "      <td>2747.61</td>\n",
       "      <td>2882.76</td>\n",
       "      <td>527320.24</td>\n",
       "      <td>72.71</td>\n",
       "      <td>2.5679</td>\n",
       "      <td>-182.386907</td>\n",
       "      <td>21.707767</td>\n",
       "      <td>149.133</td>\n",
       "      <td>3046.256923</td>\n",
       "      <td>2949.352699</td>\n",
       "      <td>2819.3370</td>\n",
       "      <td>66.742</td>\n",
       "      <td>2756.6342</td>\n",
       "      <td>109.687</td>\n",
       "      <td>3.955427</td>\n",
       "      <td>0.010701</td>\n",
       "      <td>-3.531151e+07</td>\n",
       "    </tr>\n",
       "  </tbody>\n",
       "</table>\n",
       "</div>"
      ],
      "text/plain": [
       "      open     high      low    close     volume  us dollar index  shibor  \\\n",
       "0  2799.20  2809.38  2690.18  2698.35  288515.85            72.34  2.5006   \n",
       "1  2702.63  2745.94  2670.06  2699.60  279163.65            71.99  2.7238   \n",
       "2  2654.48  2807.68  2617.26  2760.61  456603.05            72.73  2.5762   \n",
       "3  2751.21  2783.85  2716.02  2741.85  379050.10            72.71  2.5632   \n",
       "4  2747.61  2890.99  2747.61  2882.76  527320.24            72.71  2.5679   \n",
       "\n",
       "         macd         cci      atr         boll        ema20       ma10  \\\n",
       "0 -213.078565 -128.949052  119.200  3173.475692  3033.748201  2851.2504   \n",
       "1 -213.732249 -139.719688   75.875  3140.413385  3001.924277  2822.0828   \n",
       "2 -206.941406 -112.113057  190.424  3109.044731  2978.942155  2820.8364   \n",
       "3 -200.759162  -81.997539   67.825  3073.107115  2956.362140  2810.0548   \n",
       "4 -182.386907   21.707767  149.133  3046.256923  2949.352699  2819.3370   \n",
       "\n",
       "      mtm6        ma5    mtm12       roc       smi          wvad  \n",
       "0  -91.594  2851.3262 -280.770 -9.424605 -0.097927 -8.726278e+07  \n",
       "1 -152.318  2797.3382 -252.645 -8.557733 -0.026497 -1.095493e+08  \n",
       "2 -208.925  2753.2792  -82.064 -2.886857 -0.031251 -5.855737e+07  \n",
       "3 -239.055  2738.4454 -249.421 -8.338289 -0.017237 -7.467503e+07  \n",
       "4   66.742  2756.6342  109.687  3.955427  0.010701 -3.531151e+07  "
      ]
     },
     "execution_count": 89,
     "metadata": {},
     "output_type": "execute_result"
    }
   ],
   "source": [
    "dict_dataframes['csi300 index data'].head()"
   ]
  },
  {
   "cell_type": "code",
   "execution_count": 90,
   "metadata": {},
   "outputs": [
    {
     "data": {
      "text/plain": [
       "(6, 6)"
      ]
     },
     "execution_count": 90,
     "metadata": {},
     "output_type": "execute_result"
    }
   ],
   "source": [
    "len(train_list),len(test_list)"
   ]
  },
  {
   "cell_type": "code",
   "execution_count": 144,
   "metadata": {
    "scrolled": false
   },
   "outputs": [
    {
     "data": {
      "text/plain": [
       "array([[ 2.79920000e+03,  2.80938000e+03,  2.69018000e+03, ...,\n",
       "        -9.42460467e+00, -9.79268693e-02, -8.72627838e+07],\n",
       "       [ 2.70263000e+03,  2.74594000e+03,  2.67006000e+03, ...,\n",
       "        -8.55773341e+00, -2.64972904e-02, -1.09549319e+08],\n",
       "       [ 2.65448000e+03,  2.80768000e+03,  2.61726000e+03, ...,\n",
       "        -2.88685731e+00, -3.12513598e-02, -5.85573695e+07],\n",
       "       ...,\n",
       "       [ 3.14957000e+03,  3.21227000e+03,  3.11689000e+03, ...,\n",
       "        -1.12494886e+01, -5.62604688e-02, -4.88211696e+07],\n",
       "       [ 3.15204000e+03,  3.16819000e+03,  3.03073000e+03, ...,\n",
       "        -1.03202155e+01, -2.97713159e-02, -2.31053336e+08],\n",
       "       [ 3.00354000e+03,  3.00354000e+03,  2.82577000e+03, ...,\n",
       "        -1.77442877e+01, -1.07729038e-01, -3.42461309e+08]])"
      ]
     },
     "execution_count": 144,
     "metadata": {},
     "output_type": "execute_result"
    }
   ],
   "source": [
    "train_list[0]"
   ]
  },
  {
   "cell_type": "code",
   "execution_count": 145,
   "metadata": {},
   "outputs": [
    {
     "data": {
      "text/plain": [
       "(288, 19)"
      ]
     },
     "execution_count": 145,
     "metadata": {},
     "output_type": "execute_result"
    }
   ],
   "source": [
    "train_list[0].shape"
   ]
  },
  {
   "cell_type": "code",
   "execution_count": 146,
   "metadata": {},
   "outputs": [
    {
     "data": {
      "text/html": [
       "<div>\n",
       "<style scoped>\n",
       "    .dataframe tbody tr th:only-of-type {\n",
       "        vertical-align: middle;\n",
       "    }\n",
       "\n",
       "    .dataframe tbody tr th {\n",
       "        vertical-align: top;\n",
       "    }\n",
       "\n",
       "    .dataframe thead th {\n",
       "        text-align: right;\n",
       "    }\n",
       "</style>\n",
       "<table border=\"1\" class=\"dataframe\">\n",
       "  <thead>\n",
       "    <tr style=\"text-align: right;\">\n",
       "      <th></th>\n",
       "      <th>0</th>\n",
       "      <th>1</th>\n",
       "      <th>2</th>\n",
       "      <th>3</th>\n",
       "      <th>4</th>\n",
       "      <th>5</th>\n",
       "      <th>6</th>\n",
       "      <th>7</th>\n",
       "      <th>8</th>\n",
       "      <th>9</th>\n",
       "      <th>10</th>\n",
       "      <th>11</th>\n",
       "      <th>12</th>\n",
       "      <th>13</th>\n",
       "      <th>14</th>\n",
       "      <th>15</th>\n",
       "      <th>16</th>\n",
       "      <th>17</th>\n",
       "      <th>18</th>\n",
       "    </tr>\n",
       "  </thead>\n",
       "  <tbody>\n",
       "    <tr>\n",
       "      <th>0</th>\n",
       "      <td>2799.20</td>\n",
       "      <td>2809.38</td>\n",
       "      <td>2690.18</td>\n",
       "      <td>2698.35</td>\n",
       "      <td>288515.85</td>\n",
       "      <td>72.34</td>\n",
       "      <td>2.5006</td>\n",
       "      <td>-213.078565</td>\n",
       "      <td>-128.949052</td>\n",
       "      <td>119.200</td>\n",
       "      <td>3173.475692</td>\n",
       "      <td>3033.748201</td>\n",
       "      <td>2851.2504</td>\n",
       "      <td>-91.594</td>\n",
       "      <td>2851.3262</td>\n",
       "      <td>-280.770</td>\n",
       "      <td>-9.424605</td>\n",
       "      <td>-0.097927</td>\n",
       "      <td>-8.726278e+07</td>\n",
       "    </tr>\n",
       "    <tr>\n",
       "      <th>1</th>\n",
       "      <td>2702.63</td>\n",
       "      <td>2745.94</td>\n",
       "      <td>2670.06</td>\n",
       "      <td>2699.60</td>\n",
       "      <td>279163.65</td>\n",
       "      <td>71.99</td>\n",
       "      <td>2.7238</td>\n",
       "      <td>-213.732249</td>\n",
       "      <td>-139.719688</td>\n",
       "      <td>75.875</td>\n",
       "      <td>3140.413385</td>\n",
       "      <td>3001.924277</td>\n",
       "      <td>2822.0828</td>\n",
       "      <td>-152.318</td>\n",
       "      <td>2797.3382</td>\n",
       "      <td>-252.645</td>\n",
       "      <td>-8.557733</td>\n",
       "      <td>-0.026497</td>\n",
       "      <td>-1.095493e+08</td>\n",
       "    </tr>\n",
       "    <tr>\n",
       "      <th>2</th>\n",
       "      <td>2654.48</td>\n",
       "      <td>2807.68</td>\n",
       "      <td>2617.26</td>\n",
       "      <td>2760.61</td>\n",
       "      <td>456603.05</td>\n",
       "      <td>72.73</td>\n",
       "      <td>2.5762</td>\n",
       "      <td>-206.941406</td>\n",
       "      <td>-112.113057</td>\n",
       "      <td>190.424</td>\n",
       "      <td>3109.044731</td>\n",
       "      <td>2978.942155</td>\n",
       "      <td>2820.8364</td>\n",
       "      <td>-208.925</td>\n",
       "      <td>2753.2792</td>\n",
       "      <td>-82.064</td>\n",
       "      <td>-2.886857</td>\n",
       "      <td>-0.031251</td>\n",
       "      <td>-5.855737e+07</td>\n",
       "    </tr>\n",
       "    <tr>\n",
       "      <th>3</th>\n",
       "      <td>2751.21</td>\n",
       "      <td>2783.85</td>\n",
       "      <td>2716.02</td>\n",
       "      <td>2741.85</td>\n",
       "      <td>379050.10</td>\n",
       "      <td>72.71</td>\n",
       "      <td>2.5632</td>\n",
       "      <td>-200.759162</td>\n",
       "      <td>-81.997539</td>\n",
       "      <td>67.825</td>\n",
       "      <td>3073.107115</td>\n",
       "      <td>2956.362140</td>\n",
       "      <td>2810.0548</td>\n",
       "      <td>-239.055</td>\n",
       "      <td>2738.4454</td>\n",
       "      <td>-249.421</td>\n",
       "      <td>-8.338289</td>\n",
       "      <td>-0.017237</td>\n",
       "      <td>-7.467503e+07</td>\n",
       "    </tr>\n",
       "    <tr>\n",
       "      <th>4</th>\n",
       "      <td>2747.61</td>\n",
       "      <td>2890.99</td>\n",
       "      <td>2747.61</td>\n",
       "      <td>2882.76</td>\n",
       "      <td>527320.24</td>\n",
       "      <td>72.71</td>\n",
       "      <td>2.5679</td>\n",
       "      <td>-182.386907</td>\n",
       "      <td>21.707767</td>\n",
       "      <td>149.133</td>\n",
       "      <td>3046.256923</td>\n",
       "      <td>2949.352699</td>\n",
       "      <td>2819.3370</td>\n",
       "      <td>66.742</td>\n",
       "      <td>2756.6342</td>\n",
       "      <td>109.687</td>\n",
       "      <td>3.955427</td>\n",
       "      <td>0.010701</td>\n",
       "      <td>-3.531151e+07</td>\n",
       "    </tr>\n",
       "  </tbody>\n",
       "</table>\n",
       "</div>"
      ],
      "text/plain": [
       "        0        1        2        3          4      5       6           7   \\\n",
       "0  2799.20  2809.38  2690.18  2698.35  288515.85  72.34  2.5006 -213.078565   \n",
       "1  2702.63  2745.94  2670.06  2699.60  279163.65  71.99  2.7238 -213.732249   \n",
       "2  2654.48  2807.68  2617.26  2760.61  456603.05  72.73  2.5762 -206.941406   \n",
       "3  2751.21  2783.85  2716.02  2741.85  379050.10  72.71  2.5632 -200.759162   \n",
       "4  2747.61  2890.99  2747.61  2882.76  527320.24  72.71  2.5679 -182.386907   \n",
       "\n",
       "           8        9            10           11         12       13  \\\n",
       "0 -128.949052  119.200  3173.475692  3033.748201  2851.2504  -91.594   \n",
       "1 -139.719688   75.875  3140.413385  3001.924277  2822.0828 -152.318   \n",
       "2 -112.113057  190.424  3109.044731  2978.942155  2820.8364 -208.925   \n",
       "3  -81.997539   67.825  3073.107115  2956.362140  2810.0548 -239.055   \n",
       "4   21.707767  149.133  3046.256923  2949.352699  2819.3370   66.742   \n",
       "\n",
       "          14       15        16        17            18  \n",
       "0  2851.3262 -280.770 -9.424605 -0.097927 -8.726278e+07  \n",
       "1  2797.3382 -252.645 -8.557733 -0.026497 -1.095493e+08  \n",
       "2  2753.2792  -82.064 -2.886857 -0.031251 -5.855737e+07  \n",
       "3  2738.4454 -249.421 -8.338289 -0.017237 -7.467503e+07  \n",
       "4  2756.6342  109.687  3.955427  0.010701 -3.531151e+07  "
      ]
     },
     "execution_count": 146,
     "metadata": {},
     "output_type": "execute_result"
    }
   ],
   "source": [
    "pd.DataFrame(train_list[0]).head()"
   ]
  },
  {
   "cell_type": "code",
   "execution_count": 150,
   "metadata": {
    "scrolled": true
   },
   "outputs": [
    {
     "data": {
      "text/plain": [
       "array([[ 2.80458000e+03,  2.90128000e+03,  2.79549000e+03, ...,\n",
       "        -1.49728716e+01, -5.66807582e-02, -2.18026729e+08],\n",
       "       [ 2.82464000e+03,  2.90479000e+03,  2.81362000e+03, ...,\n",
       "        -7.94023828e+00, -8.06083215e-02, -2.18063203e+08],\n",
       "       [ 2.89845000e+03,  3.05999000e+03,  2.89265000e+03, ...,\n",
       "        -3.78381241e+00, -4.73401373e-02, -2.17586935e+08],\n",
       "       ...,\n",
       "       [ 3.53419000e+03,  3.54931000e+03,  3.50638000e+03, ...,\n",
       "         5.15251053e+00,  2.32437554e-02,  7.57064128e+08],\n",
       "       [ 3.54744000e+03,  3.54744000e+03,  3.49862000e+03, ...,\n",
       "         4.30049828e+00,  3.40759272e-02,  7.01482336e+08],\n",
       "       [ 3.50720000e+03,  3.50828000e+03,  3.47097000e+03, ...,\n",
       "         5.17942559e-01,  2.89842191e-02,  6.13802591e+08]])"
      ]
     },
     "execution_count": 150,
     "metadata": {},
     "output_type": "execute_result"
    }
   ],
   "source": [
    "test_list[0]"
   ]
  },
  {
   "cell_type": "code",
   "execution_count": 148,
   "metadata": {},
   "outputs": [],
   "source": [
    "# Not working due to lack of datetime index from/in dataframe format\n",
    "\n",
    "# plt.title(\"Train/Test[0] split for csi300 index data\")\n",
    "# plt.xlabel(\"date\")\n",
    "# plt.ylabel(\"close\")\n",
    "# plt.plot(train_list[0],'orange')\n",
    "# plt.plot(test_list[0],'purple')"
   ]
  },
  {
   "cell_type": "code",
   "execution_count": 95,
   "metadata": {},
   "outputs": [],
   "source": [
    "# Multi-level wavelet transform\n",
    "    # https://pywavelets.readthedocs.io/en/latest/ref/dwt-discrete-wavelet-transform.html#pywt.wavedec\n",
    "from pywt import wavedec\n",
    "coeffs = wavedec(train_list[0], 'haar', level=2)\n",
    "cA2, cD2, cD1 = coeffs\n",
    "#print(coeffs)\n",
    "# cA = Approximation coefficients\n",
    "# cD = Detail coefficient(s)"
   ]
  },
  {
   "cell_type": "code",
   "execution_count": 96,
   "metadata": {},
   "outputs": [],
   "source": [
    "# Single-level wavelet transform\n",
    "    # https://pywavelets.readthedocs.io/en/latest/ref/dwt-discrete-wavelet-transform.html\n",
    "#cA, cD = pywt.dwt(data, 'haar')"
   ]
  },
  {
   "cell_type": "code",
   "execution_count": 102,
   "metadata": {
    "scrolled": true
   },
   "outputs": [
    {
     "data": {
      "image/png": "[encoded data removed]",
      "text/plain": [
       "<Figure size 432x288 with 1 Axes>"
      ]
     },
     "metadata": {
      "needs_background": "light"
     },
     "output_type": "display_data"
    }
   ],
   "source": [
    "plt.plot(train_list[0],'blue', label='Original signal')\n",
    "plt.plot(cA2,'green',label='cA2 - approximation coefficients array')\n",
    "plt.plot(cD2,'orange',label= 'cD2 - Detail coefficient')\n",
    "plt.plot(cD1,'red',label = 'cD1 - Detail coefficient')\n",
    "\n",
    "# Remove duplicate lables when calling plt.legend() with multiple subplots\n",
    "    # Source: https://stackoverflow.com/a/13589144\n",
    "handles, labels = plt.gca().get_legend_handles_labels()\n",
    "by_label = OrderedDict(zip(labels, handles))\n",
    "plt.legend(by_label.values(), by_label.keys())\n",
    "plt.tight_layout()\n",
    "plt.show()"
   ]
  },
  {
   "cell_type": "code",
   "execution_count": 113,
   "metadata": {
    "scrolled": true
   },
   "outputs": [
    {
     "data": {
      "image/png": "[encoded data removed]",
      "text/plain": [
       "<Figure size 432x288 with 1 Axes>"
      ]
     },
     "metadata": {
      "needs_background": "light"
     },
     "output_type": "display_data"
    }
   ],
   "source": [
    "\n",
    "coeffs = wavedec(test_list[0], 'haar', level=2)\n",
    "cA2, cD2, cD1 = coeffs\n",
    "plt.plot(test_list[0],'blue', label='Original signal')\n",
    "plt.plot(cA2,'green',label='cA2 - approximation coefficients array')\n",
    "plt.plot(cD2,'orange',label= 'cD2 - Detail coefficient')\n",
    "plt.plot(cD1,'red',label = 'cD1 - Detail coefficient')\n",
    "\n",
    "# Remove duplicate lables when calling plt.legend() with multiple subplots\n",
    "handles, labels = plt.gca().get_legend_handles_labels()\n",
    "by_label = OrderedDict(zip(labels, handles))\n",
    "plt.legend(by_label.values(), by_label.keys())\n",
    "plt.tight_layout()\n",
    "plt.show()"
   ]
  },
  {
   "cell_type": "code",
   "execution_count": 53,
   "metadata": {},
   "outputs": [],
   "source": [
    "import pywt\n",
    "from statsmodels.robust import mad\n",
    "import numpy as np"
   ]
  },
  {
   "cell_type": "code",
   "execution_count": 115,
   "metadata": {
    "scrolled": false
   },
   "outputs": [
    {
     "data": {
      "image/png": "[encoded data removed]",
      "text/plain": [
       "<Figure size 432x288 with 1 Axes>"
      ]
     },
     "metadata": {
      "needs_background": "light"
     },
     "output_type": "display_data"
    }
   ],
   "source": [
    "def wavelet_reconst_l2(data):\n",
    "    coeffs = wavedec(data, 'haar', level=2)\n",
    "    cA2, cD2, cD1 = coeffs\n",
    "    reconstructed_signal = pywt.waverec( coeffs, 'haar', mode = 'per')\n",
    "    return reconstructed_signal\n",
    " \n",
    "test_list_0_reconstructed = wavelet_reconst_l2(test_list[0])\n",
    "\n",
    "plt.plot(test_list[0],'blue', label='Original signal')\n",
    "plt.plot(cA2,'green',label='cA2 - approximation coefficients array')\n",
    "#plt.plot(cD2,'orange',label= 'cD2 - Detail coefficient')\n",
    "#plt.plot(cD1,'red',label = 'cD1 - Detail coefficient')\n",
    "plt.plot(test_list_0_reconstructed,'black',label='Reconstructed signal')\n",
    "\n",
    "# Remove duplicate lables when calling plt.legend() with multiple subplots\n",
    "handles, labels = plt.gca().get_legend_handles_labels()\n",
    "by_label = OrderedDict(zip(labels, handles))\n",
    "plt.legend(by_label.values(), by_label.keys())\n",
    "plt.tight_layout()\n",
    "plt.show()"
   ]
  },
  {
   "cell_type": "code",
   "execution_count": 116,
   "metadata": {},
   "outputs": [
    {
     "data": {
      "text/plain": [
       "(287, 287, 287)"
      ]
     },
     "execution_count": 116,
     "metadata": {},
     "output_type": "execute_result"
    }
   ],
   "source": [
    "len(cA2),len(cD2),len(cD1)"
   ]
  },
  {
   "cell_type": "code",
   "execution_count": 152,
   "metadata": {},
   "outputs": [],
   "source": [
    "# def wavelet_reconst_l2_threshold(data):\n",
    "#     coeffs = wavedec(data, 'haar', level=2)\n",
    "#     cA2, cD2, cD1 = coeffs\n",
    "#     reconstructed_signal = pywt.waverec( coeffs, 'haar', mode = 'per')\n",
    "#     return reconstructed_signal\n",
    "\n",
    "#     cat = pywt.threshold(cA2, np.std(cA2)/2,mode='soft')\n",
    "#     cdt = pywt.threshold(cD2, np.std(cD2)/2,mode='soft')\n",
    "#     ts_rec = pywt.idwt(cat, cdt, 'haar')\n",
    "#     return ts_rec\n",
    "\n",
    "# NOTE: Above func is not working - check variable scope ?\n",
    "\n",
    "cat = pywt.threshold(cA2, np.std(cA2)/2,mode='soft')\n",
    "cdt = pywt.threshold(cD2, np.std(cD2)/2,mode='soft')\n",
    "ts_rec = pywt.idwt(cat, cdt, 'haar')"
   ]
  },
  {
   "cell_type": "code",
   "execution_count": 174,
   "metadata": {},
   "outputs": [
    {
     "data": {
      "text/plain": [
       "<matplotlib.legend.Legend at 0x1d4f65eb358>"
      ]
     },
     "execution_count": 174,
     "metadata": {},
     "output_type": "execute_result"
    },
    {
     "data": {
      "image/png": "[encoded data removed]",
      "text/plain": [
       "<Figure size 432x288 with 1 Axes>"
      ]
     },
     "metadata": {
      "needs_background": "light"
     },
     "output_type": "display_data"
    }
   ],
   "source": [
    "#plt.plot(test_list[0],'blue', label='Original signal')\n",
    "plt.plot(test_list_0_reconstructed,'black',label='Reconstructed signal - no threshold')\n",
    "plt.plot(cA2,'green',label='cA2 - approximation coefficients array')\n",
    "plt.plot(ts_rec, 'red',label='Reconstructed signal - cD2 threshold')\n",
    "#plt.plot(cat,'blue')\n",
    "#plt.plot(cdt,'orange')\n",
    "handles, labels = plt.gca().get_legend_handles_labels()\n",
    "by_label = OrderedDict(zip(labels, handles))\n",
    "plt.legend(by_label.values(), by_label.keys())\n",
    "#plt.tight_layout()\n"
   ]
  },
  {
   "cell_type": "code",
   "execution_count": 121,
   "metadata": {},
   "outputs": [],
   "source": [
    "coeffs = wavedec(train_list[0], 'haar', level=2)\n",
    "cA2, cD2, cD1 = coeffs\n",
    "cat = pywt.threshold(cA2, np.std(cA2)/2,mode='soft')\n",
    "cdt = pywt.threshold(cD2, np.std(cD2)/2,mode='soft')\n",
    "\n",
    "# Denoised train and test data\n",
    "test_dn = ts_rec\n",
    "train_dn = pywt.idwt(cat, cdt, 'haar')"
   ]
  },
  {
   "cell_type": "code",
   "execution_count": 128,
   "metadata": {
    "scrolled": true
   },
   "outputs": [
    {
     "data": {
      "text/plain": [
       "[<matplotlib.lines.Line2D at 0x1d4f9a88a58>,\n",
       " <matplotlib.lines.Line2D at 0x1d4f9a88ba8>,\n",
       " <matplotlib.lines.Line2D at 0x1d4f9a88cf8>,\n",
       " <matplotlib.lines.Line2D at 0x1d4f9a88e48>,\n",
       " <matplotlib.lines.Line2D at 0x1d4f9a88f98>,\n",
       " <matplotlib.lines.Line2D at 0x1d4f9a7a128>,\n",
       " <matplotlib.lines.Line2D at 0x1d4f9a7a278>,\n",
       " <matplotlib.lines.Line2D at 0x1d4f9a7a3c8>,\n",
       " <matplotlib.lines.Line2D at 0x1d4f9a7a518>,\n",
       " <matplotlib.lines.Line2D at 0x1d4f9a7a668>]"
      ]
     },
     "execution_count": 128,
     "metadata": {},
     "output_type": "execute_result"
    },
    {
     "data": {
      "image/png": "[encoded data removed]",
      "text/plain": [
       "<Figure size 432x288 with 1 Axes>"
      ]
     },
     "metadata": {
      "needs_background": "light"
     },
     "output_type": "display_data"
    }
   ],
   "source": [
    "plt.plot(test_dn)"
   ]
  },
  {
   "cell_type": "code",
   "execution_count": 129,
   "metadata": {},
   "outputs": [
    {
     "data": {
      "text/plain": [
       "[<matplotlib.lines.Line2D at 0x1d4f670c4e0>,\n",
       " <matplotlib.lines.Line2D at 0x1d4f670c630>,\n",
       " <matplotlib.lines.Line2D at 0x1d4f670c780>,\n",
       " <matplotlib.lines.Line2D at 0x1d4f670c8d0>,\n",
       " <matplotlib.lines.Line2D at 0x1d4f670ca20>,\n",
       " <matplotlib.lines.Line2D at 0x1d4f670cb70>,\n",
       " <matplotlib.lines.Line2D at 0x1d4f670ccc0>,\n",
       " <matplotlib.lines.Line2D at 0x1d4f670ce10>,\n",
       " <matplotlib.lines.Line2D at 0x1d4f670cf60>,\n",
       " <matplotlib.lines.Line2D at 0x1d4f67030f0>]"
      ]
     },
     "execution_count": 129,
     "metadata": {},
     "output_type": "execute_result"
    },
    {
     "data": {
      "image/png": "[encoded data removed]",
      "text/plain": [
       "<Figure size 432x288 with 1 Axes>"
      ]
     },
     "metadata": {
      "needs_background": "light"
     },
     "output_type": "display_data"
    }
   ],
   "source": [
    "plt.plot(train_dn)"
   ]
  },
  {
   "cell_type": "markdown",
   "metadata": {},
   "source": [
    "**Stacked Autoencoders**\n",
    "\n",
    "SAE with 5 Layers that consists of 4-single layer autoencoders\n",
    "- Input variables for each dataset range from 18-25 features\n",
    "- Depth of 5, hidden layer size of 10\n",
    "- Gradient descent\n",
    "\n",
    "\"The single-layer autoencoder maps the input daily variables into the first hidden vector.\"\n",
    "\"After training the first single-layer autoencoder, the reconstruction layer of the first single layer autoencoder is removed, and the hidden layer is reserved as the input layer of the second single-layer autoencoder\""
   ]
  },
  {
   "cell_type": "code",
   "execution_count": 158,
   "metadata": {},
   "outputs": [],
   "source": [
    "from keras.layers import Input, Dense\n",
    "from keras.models import Model, Sequential\n",
    "from keras import optimizers"
   ]
  },
  {
   "cell_type": "code",
   "execution_count": 159,
   "metadata": {},
   "outputs": [
    {
     "name": "stdout",
     "output_type": "stream",
     "text": [
      "288 287\n"
     ]
    }
   ],
   "source": [
    "print(len(train_dn),len(test_dn))"
   ]
  },
  {
   "cell_type": "code",
   "execution_count": 163,
   "metadata": {},
   "outputs": [
    {
     "data": {
      "text/plain": [
       "288"
      ]
     },
     "execution_count": 163,
     "metadata": {},
     "output_type": "execute_result"
    }
   ],
   "source": [
    "train_dn.shape[0]"
   ]
  },
  {
   "cell_type": "code",
   "execution_count": 175,
   "metadata": {},
   "outputs": [
    {
     "data": {
      "text/plain": [
       "10"
      ]
     },
     "execution_count": 175,
     "metadata": {},
     "output_type": "execute_result"
    }
   ],
   "source": [
    "train_dn.shape[1]"
   ]
  },
  {
   "cell_type": "code",
   "execution_count": 171,
   "metadata": {
    "scrolled": true
   },
   "outputs": [
    {
     "name": "stdout",
     "output_type": "stream",
     "text": [
      "_________________________________________________________________\n",
      "Layer (type)                 Output Shape              Param #   \n",
      "=================================================================\n",
      "input_8 (InputLayer)         (None, 288)               0         \n",
      "_________________________________________________________________\n",
      "dense_32 (Dense)             (None, 40)                11560     \n",
      "_________________________________________________________________\n",
      "dense_33 (Dense)             (None, 20)                820       \n",
      "_________________________________________________________________\n",
      "dense_34 (Dense)             (None, 10)                210       \n",
      "_________________________________________________________________\n",
      "dense_35 (Dense)             (None, 20)                220       \n",
      "_________________________________________________________________\n",
      "dense_36 (Dense)             (None, 40)                840       \n",
      "_________________________________________________________________\n",
      "dense_37 (Dense)             (None, 288)               11808     \n",
      "=================================================================\n",
      "Total params: 25,458\n",
      "Trainable params: 25,458\n",
      "Non-trainable params: 0\n",
      "_________________________________________________________________\n"
     ]
    }
   ],
   "source": [
    "encoding_dim = 10\n",
    "input_placeholder = Input(shape=(train_dn.shape[0],))\n",
    "\n",
    "encoded = Dense(encoding_dim * 4)(input_placeholder)\n",
    "encoded = Dense(encoding_dim * 2)(encoded)\n",
    "encoded = Dense(encoding_dim)(encoded)\n",
    "\n",
    "decoded = Dense(encoding_dim * 2)(encoded)\n",
    "decoded = Dense(encoding_dim * 4)(decoded)\n",
    "decoded = Dense(train_dn.shape[0])(decoded)\n",
    "\n",
    "autoencoder = Model(input_placeholder, decoded)\n",
    "autoencoder.summary()"
   ]
  },
  {
   "cell_type": "code",
   "execution_count": null,
   "metadata": {},
   "outputs": [],
   "source": []
  },
  {
   "cell_type": "code",
   "execution_count": null,
   "metadata": {},
   "outputs": [],
   "source": []
  },
  {
   "cell_type": "code",
   "execution_count": null,
   "metadata": {},
   "outputs": [],
   "source": []
  },
  {
   "cell_type": "code",
   "execution_count": null,
   "metadata": {},
   "outputs": [],
   "source": []
  },
  {
   "cell_type": "code",
   "execution_count": null,
   "metadata": {},
   "outputs": [],
   "source": []
  }
 ],
 "metadata": {
  "kernelspec": {
   "display_name": "Python 3",
   "language": "python",
   "name": "python3"
  },
  "language_info": {
   "codemirror_mode": {
    "name": "ipython",
    "version": 3
   },
   "file_extension": ".py",
   "mimetype": "text/x-python",
   "name": "python",
   "nbconvert_exporter": "python",
   "pygments_lexer": "ipython3",
   "version": "3.7.3"
  }
 },
 "nbformat": 4,
 "nbformat_minor": 2
}
