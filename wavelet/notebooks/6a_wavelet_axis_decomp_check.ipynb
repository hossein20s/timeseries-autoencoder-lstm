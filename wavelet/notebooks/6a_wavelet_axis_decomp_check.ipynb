{
 "cells": [
  {
   "cell_type": "code",
   "execution_count": 70,
   "metadata": {},
   "outputs": [],
   "source": [
    "import sys\n",
    "\n",
    "# Imports (External)\n",
    "import pandas as pd\n",
    "sys.path.append('../..')  \n",
    "\n",
    "# Visualization/plotting imports\n",
    "import matplotlib.pyplot as plt\n",
    "\n",
    "# Machine learning imports\n",
    "# import sklearn\n",
    "# import tensorflow as tf\n",
    "# import keras\n",
    "import pywt\n",
    "from pywt import wavedec\n",
    "\n",
    "# Internal Imports\n",
    "from src.utils import dictmap_load"
   ]
  },
  {
   "cell_type": "code",
   "execution_count": 71,
   "metadata": {},
   "outputs": [],
   "source": [
    "dict_dataframes_index = dictmap_load(path = \"../../data/interim/clean_data_index.xlsx\")   \n",
    "#dict_dataframes_index['csi300 index data'].info()"
   ]
  },
  {
   "cell_type": "code",
   "execution_count": 72,
   "metadata": {
    "scrolled": false
   },
   "outputs": [
    {
     "data": {
      "text/html": [
       "<div>\n",
       "<style scoped>\n",
       "    .dataframe tbody tr th:only-of-type {\n",
       "        vertical-align: middle;\n",
       "    }\n",
       "\n",
       "    .dataframe tbody tr th {\n",
       "        vertical-align: top;\n",
       "    }\n",
       "\n",
       "    .dataframe thead th {\n",
       "        text-align: right;\n",
       "    }\n",
       "</style>\n",
       "<table border=\"1\" class=\"dataframe\">\n",
       "  <thead>\n",
       "    <tr style=\"text-align: right;\">\n",
       "      <th></th>\n",
       "      <th>open</th>\n",
       "      <th>high</th>\n",
       "      <th>low</th>\n",
       "      <th>close</th>\n",
       "      <th>volume</th>\n",
       "      <th>us dollar index</th>\n",
       "      <th>shibor</th>\n",
       "      <th>macd</th>\n",
       "      <th>cci</th>\n",
       "      <th>atr</th>\n",
       "      <th>boll</th>\n",
       "      <th>ema20</th>\n",
       "      <th>ma10</th>\n",
       "      <th>mtm6</th>\n",
       "      <th>ma5</th>\n",
       "      <th>mtm12</th>\n",
       "      <th>roc</th>\n",
       "      <th>smi</th>\n",
       "      <th>wvad</th>\n",
       "    </tr>\n",
       "  </thead>\n",
       "  <tbody>\n",
       "    <tr>\n",
       "      <th>0</th>\n",
       "      <td>2799.20</td>\n",
       "      <td>2809.38</td>\n",
       "      <td>2690.18</td>\n",
       "      <td>2698.35</td>\n",
       "      <td>288515.85</td>\n",
       "      <td>72.34</td>\n",
       "      <td>2.5006</td>\n",
       "      <td>-213.078565</td>\n",
       "      <td>-128.949052</td>\n",
       "      <td>119.200</td>\n",
       "      <td>3173.475692</td>\n",
       "      <td>3033.748201</td>\n",
       "      <td>2851.2504</td>\n",
       "      <td>-91.594</td>\n",
       "      <td>2851.3262</td>\n",
       "      <td>-280.770</td>\n",
       "      <td>-9.424605</td>\n",
       "      <td>-0.097927</td>\n",
       "      <td>-8.726278e+07</td>\n",
       "    </tr>\n",
       "    <tr>\n",
       "      <th>1</th>\n",
       "      <td>2702.63</td>\n",
       "      <td>2745.94</td>\n",
       "      <td>2670.06</td>\n",
       "      <td>2699.60</td>\n",
       "      <td>279163.65</td>\n",
       "      <td>71.99</td>\n",
       "      <td>2.7238</td>\n",
       "      <td>-213.732249</td>\n",
       "      <td>-139.719688</td>\n",
       "      <td>75.875</td>\n",
       "      <td>3140.413385</td>\n",
       "      <td>3001.924277</td>\n",
       "      <td>2822.0828</td>\n",
       "      <td>-152.318</td>\n",
       "      <td>2797.3382</td>\n",
       "      <td>-252.645</td>\n",
       "      <td>-8.557733</td>\n",
       "      <td>-0.026497</td>\n",
       "      <td>-1.095493e+08</td>\n",
       "    </tr>\n",
       "  </tbody>\n",
       "</table>\n",
       "</div>"
      ],
      "text/plain": [
       "      open     high      low    close     volume  us dollar index  shibor  \\\n",
       "0  2799.20  2809.38  2690.18  2698.35  288515.85            72.34  2.5006   \n",
       "1  2702.63  2745.94  2670.06  2699.60  279163.65            71.99  2.7238   \n",
       "\n",
       "         macd         cci      atr         boll        ema20       ma10  \\\n",
       "0 -213.078565 -128.949052  119.200  3173.475692  3033.748201  2851.2504   \n",
       "1 -213.732249 -139.719688   75.875  3140.413385  3001.924277  2822.0828   \n",
       "\n",
       "      mtm6        ma5    mtm12       roc       smi          wvad  \n",
       "0  -91.594  2851.3262 -280.770 -9.424605 -0.097927 -8.726278e+07  \n",
       "1 -152.318  2797.3382 -252.645 -8.557733 -0.026497 -1.095493e+08  "
      ]
     },
     "execution_count": 72,
     "metadata": {},
     "output_type": "execute_result"
    }
   ],
   "source": [
    "data = dict_dataframes_index['csi300 index data'].drop(['date'],axis=1,inplace=True)\n",
    "data = dict_dataframes_index['csi300 index data']\n",
    "data.head(2)"
   ]
  },
  {
   "cell_type": "code",
   "execution_count": 155,
   "metadata": {
    "scrolled": true
   },
   "outputs": [
    {
     "name": "stdout",
     "output_type": "stream",
     "text": [
      "19\n",
      "Index(['open', 'high', 'low', 'close', 'volume', 'us dollar index', 'shibor',\n",
      "       'macd', 'cci', 'atr', 'boll', 'ema20', 'ma10', 'mtm6', 'ma5', 'mtm12',\n",
      "       'roc', 'smi', 'wvad'],\n",
      "      dtype='object')\n"
     ]
    }
   ],
   "source": [
    "print(len(dict_dataframes_index['csi300 index data'].columns))\n",
    "print(dict_dataframes_index['csi300 index data'].columns)"
   ]
  },
  {
   "cell_type": "code",
   "execution_count": 156,
   "metadata": {},
   "outputs": [],
   "source": [
    "# Wavelet Transform across Horizontal Axis\n",
    "\n",
    "# Multi-level wavelet transform\n",
    "    # https://pywavelets.readthedocs.io/en/latest/ref/dwt-discrete-wavelet-transform.html#pywt.wavedec\n",
    "w = pywt.Wavelet('haar')\n",
    "coeffs = wavedec(data, w, level=2,axis=0)\n",
    "cA2, cD2, cD1 = coeffs\n",
    "# cA = Approximation coefficients\n",
    "    # Approximation (low pass)\n",
    "# cD = Detail coefficient(s)\n",
    "    # Detail (high pass)\n",
    "    # Detail cofficients represent the high freq part of the signal  "
   ]
  },
  {
   "cell_type": "code",
   "execution_count": 175,
   "metadata": {},
   "outputs": [],
   "source": [
    "# Alernate Wavelet Transform across Vertical Axis\n",
    "coeffs_alt = wavedec(data, w, level=2,axis=1)\n",
    "cA2_alt, cD2_alt, cD1_alt = coeffs_alt\n"
   ]
  },
  {
   "cell_type": "code",
   "execution_count": 176,
   "metadata": {
    "scrolled": false
   },
   "outputs": [
    {
     "name": "stdout",
     "output_type": "stream",
     "text": [
      "503 503 1005\n",
      "2010 2010 2010\n"
     ]
    }
   ],
   "source": [
    "print(len(cA2),len(cD2),len(cD1))\n",
    "print(len(cA2_alt),len(cD2_alt),len(cD1_alt))"
   ]
  },
  {
   "cell_type": "code",
   "execution_count": 177,
   "metadata": {
    "scrolled": false
   },
   "outputs": [
    {
     "name": "stdout",
     "output_type": "stream",
     "text": [
      "(503, 19)\n",
      "(503, 19)\n",
      "(1005, 19)\n",
      "==================\n",
      "(2010, 5)\n",
      "(2010, 5)\n",
      "(2010, 10)\n"
     ]
    }
   ],
   "source": [
    "print(cA2.shape)\n",
    "print(cD2.shape)\n",
    "print(cD1.shape)\n",
    "print(\"==================\")\n",
    "print(cA2_alt.shape)\n",
    "print(cD2_alt.shape)\n",
    "print(cD1_alt.shape)"
   ]
  },
  {
   "cell_type": "code",
   "execution_count": 217,
   "metadata": {},
   "outputs": [
    {
     "data": {
      "text/plain": [
       "2010"
      ]
     },
     "execution_count": 217,
     "metadata": {},
     "output_type": "execute_result"
    }
   ],
   "source": [
    "# test concat of dataframe from wavelet denoise along vertical axis\n",
    "frames = [pd.DataFrame(cA2_alt), pd.DataFrame(cD2_alt), pd.DataFrame(cD1_alt)]\n",
    "vertical_df_test = pd.concat(frames,axis=1)\n",
    "len(vertical_df_test)"
   ]
  },
  {
   "cell_type": "code",
   "execution_count": 218,
   "metadata": {},
   "outputs": [
    {
     "data": {
      "text/html": [
       "<div>\n",
       "<style scoped>\n",
       "    .dataframe tbody tr th:only-of-type {\n",
       "        vertical-align: middle;\n",
       "    }\n",
       "\n",
       "    .dataframe tbody tr th {\n",
       "        vertical-align: top;\n",
       "    }\n",
       "\n",
       "    .dataframe thead th {\n",
       "        text-align: right;\n",
       "    }\n",
       "</style>\n",
       "<table border=\"1\" class=\"dataframe\">\n",
       "  <thead>\n",
       "    <tr style=\"text-align: right;\">\n",
       "      <th></th>\n",
       "      <th>0</th>\n",
       "      <th>1</th>\n",
       "      <th>2</th>\n",
       "      <th>3</th>\n",
       "      <th>4</th>\n",
       "      <th>0</th>\n",
       "      <th>1</th>\n",
       "      <th>2</th>\n",
       "      <th>3</th>\n",
       "      <th>4</th>\n",
       "      <th>0</th>\n",
       "      <th>1</th>\n",
       "      <th>2</th>\n",
       "      <th>3</th>\n",
       "      <th>4</th>\n",
       "      <th>5</th>\n",
       "      <th>6</th>\n",
       "      <th>7</th>\n",
       "      <th>8</th>\n",
       "      <th>9</th>\n",
       "    </tr>\n",
       "  </thead>\n",
       "  <tbody>\n",
       "    <tr>\n",
       "      <th>0</th>\n",
       "      <td>5498.555</td>\n",
       "      <td>144188.806018</td>\n",
       "      <td>3098.737421</td>\n",
       "      <td>2665.1063</td>\n",
       "      <td>-8.726279e+07</td>\n",
       "      <td>110.025</td>\n",
       "      <td>144399.383982</td>\n",
       "      <td>-3108.486472</td>\n",
       "      <td>94.5501</td>\n",
       "      <td>8.726278e+07</td>\n",
       "      <td>-7.198347</td>\n",
       "      <td>-5.777062</td>\n",
       "      <td>203960.361910</td>\n",
       "      <td>152.437489</td>\n",
       "      <td>-175.467877</td>\n",
       "      <td>98.802257</td>\n",
       "      <td>2080.905231</td>\n",
       "      <td>2214.726462</td>\n",
       "      <td>-6.594957</td>\n",
       "      <td>0.0</td>\n",
       "    </tr>\n",
       "    <tr>\n",
       "      <th>1</th>\n",
       "      <td>5409.115</td>\n",
       "      <td>139512.315776</td>\n",
       "      <td>3039.246487</td>\n",
       "      <td>2607.2290</td>\n",
       "      <td>-1.095493e+08</td>\n",
       "      <td>39.455</td>\n",
       "      <td>139723.324224</td>\n",
       "      <td>-3103.091175</td>\n",
       "      <td>62.5358</td>\n",
       "      <td>1.095493e+08</td>\n",
       "      <td>-30.624795</td>\n",
       "      <td>-20.887934</td>\n",
       "      <td>197347.605359</td>\n",
       "      <td>153.057540</td>\n",
       "      <td>-152.448466</td>\n",
       "      <td>97.926587</td>\n",
       "      <td>2103.218976</td>\n",
       "      <td>2156.663803</td>\n",
       "      <td>-6.032495</td>\n",
       "      <td>0.0</td>\n",
       "    </tr>\n",
       "    <tr>\n",
       "      <th>2</th>\n",
       "      <td>5420.015</td>\n",
       "      <td>228235.707397</td>\n",
       "      <td>3083.148915</td>\n",
       "      <td>2641.5633</td>\n",
       "      <td>-5.855737e+07</td>\n",
       "      <td>42.145</td>\n",
       "      <td>228440.072603</td>\n",
       "      <td>-3004.837971</td>\n",
       "      <td>-29.6519</td>\n",
       "      <td>5.855737e+07</td>\n",
       "      <td>-108.328759</td>\n",
       "      <td>-101.363757</td>\n",
       "      <td>322815.685089</td>\n",
       "      <td>148.151320</td>\n",
       "      <td>-213.926004</td>\n",
       "      <td>91.996413</td>\n",
       "      <td>2142.364831</td>\n",
       "      <td>2004.890404</td>\n",
       "      <td>-2.019218</td>\n",
       "      <td>0.0</td>\n",
       "    </tr>\n",
       "  </tbody>\n",
       "</table>\n",
       "</div>"
      ],
      "text/plain": [
       "          0              1            2          3             4        0  \\\n",
       "0  5498.555  144188.806018  3098.737421  2665.1063 -8.726279e+07  110.025   \n",
       "1  5409.115  139512.315776  3039.246487  2607.2290 -1.095493e+08   39.455   \n",
       "2  5420.015  228235.707397  3083.148915  2641.5633 -5.855737e+07   42.145   \n",
       "\n",
       "               1            2        3             4           0           1  \\\n",
       "0  144399.383982 -3108.486472  94.5501  8.726278e+07   -7.198347   -5.777062   \n",
       "1  139723.324224 -3103.091175  62.5358  1.095493e+08  -30.624795  -20.887934   \n",
       "2  228440.072603 -3004.837971 -29.6519  5.855737e+07 -108.328759 -101.363757   \n",
       "\n",
       "               2           3           4          5            6            7  \\\n",
       "0  203960.361910  152.437489 -175.467877  98.802257  2080.905231  2214.726462   \n",
       "1  197347.605359  153.057540 -152.448466  97.926587  2103.218976  2156.663803   \n",
       "2  322815.685089  148.151320 -213.926004  91.996413  2142.364831  2004.890404   \n",
       "\n",
       "          8    9  \n",
       "0 -6.594957  0.0  \n",
       "1 -6.032495  0.0  \n",
       "2 -2.019218  0.0  "
      ]
     },
     "execution_count": 218,
     "metadata": {},
     "output_type": "execute_result"
    }
   ],
   "source": [
    "vertical_df_test.head(3)"
   ]
  },
  {
   "cell_type": "code",
   "execution_count": 220,
   "metadata": {},
   "outputs": [
    {
     "data": {
      "text/plain": [
       "[<matplotlib.lines.Line2D at 0x1a7e8b6b8d0>,\n",
       " <matplotlib.lines.Line2D at 0x1a7e8b6ba58>,\n",
       " <matplotlib.lines.Line2D at 0x1a7e8b6bba8>,\n",
       " <matplotlib.lines.Line2D at 0x1a7e8b6bcf8>,\n",
       " <matplotlib.lines.Line2D at 0x1a7e8b6be48>,\n",
       " <matplotlib.lines.Line2D at 0x1a7e8b6bf98>,\n",
       " <matplotlib.lines.Line2D at 0x1a7e8b65128>,\n",
       " <matplotlib.lines.Line2D at 0x1a7e8b65278>,\n",
       " <matplotlib.lines.Line2D at 0x1a7e8b653c8>,\n",
       " <matplotlib.lines.Line2D at 0x1a7e8b65518>,\n",
       " <matplotlib.lines.Line2D at 0x1a7e890ec88>,\n",
       " <matplotlib.lines.Line2D at 0x1a7e8b65780>,\n",
       " <matplotlib.lines.Line2D at 0x1a7e8b658d0>,\n",
       " <matplotlib.lines.Line2D at 0x1a7e8b65a20>,\n",
       " <matplotlib.lines.Line2D at 0x1a7e8b65b70>,\n",
       " <matplotlib.lines.Line2D at 0x1a7e8b65cc0>,\n",
       " <matplotlib.lines.Line2D at 0x1a7e8b65e10>,\n",
       " <matplotlib.lines.Line2D at 0x1a7e8b65f60>,\n",
       " <matplotlib.lines.Line2D at 0x1a7e8b7f0f0>,\n",
       " <matplotlib.lines.Line2D at 0x1a7e8b7f240>]"
      ]
     },
     "execution_count": 220,
     "metadata": {},
     "output_type": "execute_result"
    },
    {
     "data": {
      "image/png": "[encoded data removed]",
      "text/plain": [
       "<Figure size 432x288 with 1 Axes>"
      ]
     },
     "metadata": {
      "needs_background": "light"
     },
     "output_type": "display_data"
    }
   ],
   "source": [
    "plt.plot(vertical_df_test)"
   ]
  },
  {
   "cell_type": "code",
   "execution_count": null,
   "metadata": {},
   "outputs": [],
   "source": []
  },
  {
   "cell_type": "code",
   "execution_count": null,
   "metadata": {},
   "outputs": [],
   "source": []
  },
  {
   "cell_type": "code",
   "execution_count": 178,
   "metadata": {},
   "outputs": [
    {
     "data": {
      "text/html": [
       "<div>\n",
       "<style scoped>\n",
       "    .dataframe tbody tr th:only-of-type {\n",
       "        vertical-align: middle;\n",
       "    }\n",
       "\n",
       "    .dataframe tbody tr th {\n",
       "        vertical-align: top;\n",
       "    }\n",
       "\n",
       "    .dataframe thead th {\n",
       "        text-align: right;\n",
       "    }\n",
       "</style>\n",
       "<table border=\"1\" class=\"dataframe\">\n",
       "  <thead>\n",
       "    <tr style=\"text-align: right;\">\n",
       "      <th></th>\n",
       "      <th>0</th>\n",
       "      <th>1</th>\n",
       "      <th>2</th>\n",
       "      <th>3</th>\n",
       "      <th>4</th>\n",
       "      <th>5</th>\n",
       "      <th>6</th>\n",
       "      <th>7</th>\n",
       "      <th>8</th>\n",
       "      <th>9</th>\n",
       "      <th>10</th>\n",
       "      <th>11</th>\n",
       "      <th>12</th>\n",
       "      <th>13</th>\n",
       "      <th>14</th>\n",
       "      <th>15</th>\n",
       "      <th>16</th>\n",
       "      <th>17</th>\n",
       "      <th>18</th>\n",
       "    </tr>\n",
       "  </thead>\n",
       "  <tbody>\n",
       "    <tr>\n",
       "      <th>0</th>\n",
       "      <td>5453.76</td>\n",
       "      <td>5573.425</td>\n",
       "      <td>5346.760</td>\n",
       "      <td>5450.205</td>\n",
       "      <td>701666.325</td>\n",
       "      <td>144.885</td>\n",
       "      <td>5.1819</td>\n",
       "      <td>-417.255691</td>\n",
       "      <td>-231.389668</td>\n",
       "      <td>226.6620</td>\n",
       "      <td>6248.020462</td>\n",
       "      <td>5985.488387</td>\n",
       "      <td>5652.11220</td>\n",
       "      <td>-345.9460</td>\n",
       "      <td>5570.1945</td>\n",
       "      <td>-432.4500</td>\n",
       "      <td>-14.603742</td>\n",
       "      <td>-0.086456</td>\n",
       "      <td>-1.650223e+08</td>\n",
       "    </tr>\n",
       "    <tr>\n",
       "      <th>1</th>\n",
       "      <td>5773.08</td>\n",
       "      <td>5951.155</td>\n",
       "      <td>5732.940</td>\n",
       "      <td>5886.730</td>\n",
       "      <td>1189933.120</td>\n",
       "      <td>145.375</td>\n",
       "      <td>5.0683</td>\n",
       "      <td>-303.833331</td>\n",
       "      <td>193.673349</td>\n",
       "      <td>233.6690</td>\n",
       "      <td>6015.778269</td>\n",
       "      <td>5899.670469</td>\n",
       "      <td>5650.36285</td>\n",
       "      <td>383.8370</td>\n",
       "      <td>5658.7340</td>\n",
       "      <td>254.4290</td>\n",
       "      <td>9.064430</td>\n",
       "      <td>0.026143</td>\n",
       "      <td>3.165430e+07</td>\n",
       "    </tr>\n",
       "    <tr>\n",
       "      <th>2</th>\n",
       "      <td>5847.96</td>\n",
       "      <td>5903.670</td>\n",
       "      <td>5691.375</td>\n",
       "      <td>5763.975</td>\n",
       "      <td>827790.090</td>\n",
       "      <td>143.815</td>\n",
       "      <td>4.7673</td>\n",
       "      <td>-195.594683</td>\n",
       "      <td>56.235154</td>\n",
       "      <td>226.3405</td>\n",
       "      <td>5831.768385</td>\n",
       "      <td>5891.099127</td>\n",
       "      <td>5729.20800</td>\n",
       "      <td>120.4395</td>\n",
       "      <td>5881.9903</td>\n",
       "      <td>-15.1685</td>\n",
       "      <td>-0.526099</td>\n",
       "      <td>0.098162</td>\n",
       "      <td>1.743520e+08</td>\n",
       "    </tr>\n",
       "  </tbody>\n",
       "</table>\n",
       "</div>"
      ],
      "text/plain": [
       "        0         1         2         3            4        5       6   \\\n",
       "0  5453.76  5573.425  5346.760  5450.205   701666.325  144.885  5.1819   \n",
       "1  5773.08  5951.155  5732.940  5886.730  1189933.120  145.375  5.0683   \n",
       "2  5847.96  5903.670  5691.375  5763.975   827790.090  143.815  4.7673   \n",
       "\n",
       "           7           8         9            10           11          12  \\\n",
       "0 -417.255691 -231.389668  226.6620  6248.020462  5985.488387  5652.11220   \n",
       "1 -303.833331  193.673349  233.6690  6015.778269  5899.670469  5650.36285   \n",
       "2 -195.594683   56.235154  226.3405  5831.768385  5891.099127  5729.20800   \n",
       "\n",
       "         13         14        15         16        17            18  \n",
       "0 -345.9460  5570.1945 -432.4500 -14.603742 -0.086456 -1.650223e+08  \n",
       "1  383.8370  5658.7340  254.4290   9.064430  0.026143  3.165430e+07  \n",
       "2  120.4395  5881.9903  -15.1685  -0.526099  0.098162  1.743520e+08  "
      ]
     },
     "execution_count": 178,
     "metadata": {},
     "output_type": "execute_result"
    }
   ],
   "source": [
    "pd.DataFrame(cA2).head(3)"
   ]
  },
  {
   "cell_type": "code",
   "execution_count": 179,
   "metadata": {},
   "outputs": [
    {
     "data": {
      "text/html": [
       "<div>\n",
       "<style scoped>\n",
       "    .dataframe tbody tr th:only-of-type {\n",
       "        vertical-align: middle;\n",
       "    }\n",
       "\n",
       "    .dataframe tbody tr th {\n",
       "        vertical-align: top;\n",
       "    }\n",
       "\n",
       "    .dataframe thead th {\n",
       "        text-align: right;\n",
       "    }\n",
       "</style>\n",
       "<table border=\"1\" class=\"dataframe\">\n",
       "  <thead>\n",
       "    <tr style=\"text-align: right;\">\n",
       "      <th></th>\n",
       "      <th>0</th>\n",
       "      <th>1</th>\n",
       "      <th>2</th>\n",
       "      <th>3</th>\n",
       "      <th>4</th>\n",
       "    </tr>\n",
       "  </thead>\n",
       "  <tbody>\n",
       "    <tr>\n",
       "      <th>0</th>\n",
       "      <td>5498.555</td>\n",
       "      <td>144188.806018</td>\n",
       "      <td>3098.737421</td>\n",
       "      <td>2665.1063</td>\n",
       "      <td>-8.726279e+07</td>\n",
       "    </tr>\n",
       "    <tr>\n",
       "      <th>1</th>\n",
       "      <td>5409.115</td>\n",
       "      <td>139512.315776</td>\n",
       "      <td>3039.246487</td>\n",
       "      <td>2607.2290</td>\n",
       "      <td>-1.095493e+08</td>\n",
       "    </tr>\n",
       "    <tr>\n",
       "      <th>2</th>\n",
       "      <td>5420.015</td>\n",
       "      <td>228235.707397</td>\n",
       "      <td>3083.148915</td>\n",
       "      <td>2641.5633</td>\n",
       "      <td>-5.855737e+07</td>\n",
       "    </tr>\n",
       "  </tbody>\n",
       "</table>\n",
       "</div>"
      ],
      "text/plain": [
       "          0              1            2          3             4\n",
       "0  5498.555  144188.806018  3098.737421  2665.1063 -8.726279e+07\n",
       "1  5409.115  139512.315776  3039.246487  2607.2290 -1.095493e+08\n",
       "2  5420.015  228235.707397  3083.148915  2641.5633 -5.855737e+07"
      ]
     },
     "execution_count": 179,
     "metadata": {},
     "output_type": "execute_result"
    }
   ],
   "source": [
    "pd.DataFrame(cA2_alt).head(3)"
   ]
  },
  {
   "cell_type": "code",
   "execution_count": 180,
   "metadata": {},
   "outputs": [
    {
     "data": {
      "text/html": [
       "<div>\n",
       "<style scoped>\n",
       "    .dataframe tbody tr th:only-of-type {\n",
       "        vertical-align: middle;\n",
       "    }\n",
       "\n",
       "    .dataframe tbody tr th {\n",
       "        vertical-align: top;\n",
       "    }\n",
       "\n",
       "    .dataframe thead th {\n",
       "        text-align: right;\n",
       "    }\n",
       "</style>\n",
       "<table border=\"1\" class=\"dataframe\">\n",
       "  <thead>\n",
       "    <tr style=\"text-align: right;\">\n",
       "      <th></th>\n",
       "      <th>0</th>\n",
       "      <th>1</th>\n",
       "      <th>2</th>\n",
       "      <th>3</th>\n",
       "      <th>4</th>\n",
       "      <th>5</th>\n",
       "      <th>6</th>\n",
       "      <th>7</th>\n",
       "      <th>8</th>\n",
       "      <th>9</th>\n",
       "      <th>10</th>\n",
       "      <th>11</th>\n",
       "      <th>12</th>\n",
       "      <th>13</th>\n",
       "      <th>14</th>\n",
       "      <th>15</th>\n",
       "      <th>16</th>\n",
       "      <th>17</th>\n",
       "      <th>18</th>\n",
       "    </tr>\n",
       "  </thead>\n",
       "  <tbody>\n",
       "    <tr>\n",
       "      <th>0</th>\n",
       "      <td>68.285302</td>\n",
       "      <td>44.858854</td>\n",
       "      <td>14.226988</td>\n",
       "      <td>-0.883883</td>\n",
       "      <td>6613.004039</td>\n",
       "      <td>0.247487</td>\n",
       "      <td>-0.157826</td>\n",
       "      <td>0.462224</td>\n",
       "      <td>7.615990</td>\n",
       "      <td>30.635401</td>\n",
       "      <td>23.378582</td>\n",
       "      <td>22.502912</td>\n",
       "      <td>20.624608</td>\n",
       "      <td>42.938352</td>\n",
       "      <td>38.175281</td>\n",
       "      <td>-19.887378</td>\n",
       "      <td>-0.612971</td>\n",
       "      <td>-0.050508</td>\n",
       "      <td>1.575896e+07</td>\n",
       "    </tr>\n",
       "    <tr>\n",
       "      <th>1</th>\n",
       "      <td>-68.398439</td>\n",
       "      <td>16.850355</td>\n",
       "      <td>-69.833866</td>\n",
       "      <td>13.265323</td>\n",
       "      <td>54838.216846</td>\n",
       "      <td>0.014142</td>\n",
       "      <td>0.009192</td>\n",
       "      <td>-4.371506</td>\n",
       "      <td>-21.294887</td>\n",
       "      <td>86.690584</td>\n",
       "      <td>25.411732</td>\n",
       "      <td>15.966482</td>\n",
       "      <td>7.623742</td>\n",
       "      <td>21.305127</td>\n",
       "      <td>10.489081</td>\n",
       "      <td>118.339270</td>\n",
       "      <td>3.854745</td>\n",
       "      <td>-0.009910</td>\n",
       "      <td>1.139691e+07</td>\n",
       "    </tr>\n",
       "    <tr>\n",
       "      <th>2</th>\n",
       "      <td>-108.159053</td>\n",
       "      <td>-34.047192</td>\n",
       "      <td>-66.086200</td>\n",
       "      <td>-13.491597</td>\n",
       "      <td>-10720.120640</td>\n",
       "      <td>-0.176777</td>\n",
       "      <td>0.012587</td>\n",
       "      <td>-12.724098</td>\n",
       "      <td>-45.186541</td>\n",
       "      <td>36.106994</td>\n",
       "      <td>19.295557</td>\n",
       "      <td>3.199604</td>\n",
       "      <td>-3.530301</td>\n",
       "      <td>-30.603581</td>\n",
       "      <td>-28.778397</td>\n",
       "      <td>40.668539</td>\n",
       "      <td>1.502307</td>\n",
       "      <td>0.023686</td>\n",
       "      <td>-5.060062e+06</td>\n",
       "    </tr>\n",
       "  </tbody>\n",
       "</table>\n",
       "</div>"
      ],
      "text/plain": [
       "           0          1          2          3             4         5   \\\n",
       "0   68.285302  44.858854  14.226988  -0.883883   6613.004039  0.247487   \n",
       "1  -68.398439  16.850355 -69.833866  13.265323  54838.216846  0.014142   \n",
       "2 -108.159053 -34.047192 -66.086200 -13.491597 -10720.120640 -0.176777   \n",
       "\n",
       "         6          7          8          9          10         11         12  \\\n",
       "0 -0.157826   0.462224   7.615990  30.635401  23.378582  22.502912  20.624608   \n",
       "1  0.009192  -4.371506 -21.294887  86.690584  25.411732  15.966482   7.623742   \n",
       "2  0.012587 -12.724098 -45.186541  36.106994  19.295557   3.199604  -3.530301   \n",
       "\n",
       "          13         14          15        16        17            18  \n",
       "0  42.938352  38.175281  -19.887378 -0.612971 -0.050508  1.575896e+07  \n",
       "1  21.305127  10.489081  118.339270  3.854745 -0.009910  1.139691e+07  \n",
       "2 -30.603581 -28.778397   40.668539  1.502307  0.023686 -5.060062e+06  "
      ]
     },
     "execution_count": 180,
     "metadata": {},
     "output_type": "execute_result"
    }
   ],
   "source": [
    "pd.DataFrame(cD1).head(3)"
   ]
  },
  {
   "cell_type": "code",
   "execution_count": 181,
   "metadata": {},
   "outputs": [
    {
     "data": {
      "text/html": [
       "<div>\n",
       "<style scoped>\n",
       "    .dataframe tbody tr th:only-of-type {\n",
       "        vertical-align: middle;\n",
       "    }\n",
       "\n",
       "    .dataframe tbody tr th {\n",
       "        vertical-align: top;\n",
       "    }\n",
       "\n",
       "    .dataframe thead th {\n",
       "        text-align: right;\n",
       "    }\n",
       "</style>\n",
       "<table border=\"1\" class=\"dataframe\">\n",
       "  <thead>\n",
       "    <tr style=\"text-align: right;\">\n",
       "      <th></th>\n",
       "      <th>0</th>\n",
       "      <th>1</th>\n",
       "      <th>2</th>\n",
       "      <th>3</th>\n",
       "      <th>4</th>\n",
       "      <th>5</th>\n",
       "      <th>6</th>\n",
       "      <th>7</th>\n",
       "      <th>8</th>\n",
       "      <th>9</th>\n",
       "    </tr>\n",
       "  </thead>\n",
       "  <tbody>\n",
       "    <tr>\n",
       "      <th>0</th>\n",
       "      <td>-7.198347</td>\n",
       "      <td>-5.777062</td>\n",
       "      <td>203960.361910</td>\n",
       "      <td>152.437489</td>\n",
       "      <td>-175.467877</td>\n",
       "      <td>98.802257</td>\n",
       "      <td>2080.905231</td>\n",
       "      <td>2214.726462</td>\n",
       "      <td>-6.594957</td>\n",
       "      <td>0.0</td>\n",
       "    </tr>\n",
       "    <tr>\n",
       "      <th>1</th>\n",
       "      <td>-30.624795</td>\n",
       "      <td>-20.887934</td>\n",
       "      <td>197347.605359</td>\n",
       "      <td>153.057540</td>\n",
       "      <td>-152.448466</td>\n",
       "      <td>97.926587</td>\n",
       "      <td>2103.218976</td>\n",
       "      <td>2156.663803</td>\n",
       "      <td>-6.032495</td>\n",
       "      <td>0.0</td>\n",
       "    </tr>\n",
       "    <tr>\n",
       "      <th>2</th>\n",
       "      <td>-108.328759</td>\n",
       "      <td>-101.363757</td>\n",
       "      <td>322815.685089</td>\n",
       "      <td>148.151320</td>\n",
       "      <td>-213.926004</td>\n",
       "      <td>91.996413</td>\n",
       "      <td>2142.364831</td>\n",
       "      <td>2004.890404</td>\n",
       "      <td>-2.019218</td>\n",
       "      <td>0.0</td>\n",
       "    </tr>\n",
       "  </tbody>\n",
       "</table>\n",
       "</div>"
      ],
      "text/plain": [
       "            0           1              2           3           4          5  \\\n",
       "0   -7.198347   -5.777062  203960.361910  152.437489 -175.467877  98.802257   \n",
       "1  -30.624795  -20.887934  197347.605359  153.057540 -152.448466  97.926587   \n",
       "2 -108.328759 -101.363757  322815.685089  148.151320 -213.926004  91.996413   \n",
       "\n",
       "             6            7         8    9  \n",
       "0  2080.905231  2214.726462 -6.594957  0.0  \n",
       "1  2103.218976  2156.663803 -6.032495  0.0  \n",
       "2  2142.364831  2004.890404 -2.019218  0.0  "
      ]
     },
     "execution_count": 181,
     "metadata": {},
     "output_type": "execute_result"
    }
   ],
   "source": [
    "pd.DataFrame(cD1_alt).head(3)"
   ]
  },
  {
   "cell_type": "code",
   "execution_count": 182,
   "metadata": {
    "scrolled": true
   },
   "outputs": [
    {
     "data": {
      "text/html": [
       "<div>\n",
       "<style scoped>\n",
       "    .dataframe tbody tr th:only-of-type {\n",
       "        vertical-align: middle;\n",
       "    }\n",
       "\n",
       "    .dataframe tbody tr th {\n",
       "        vertical-align: top;\n",
       "    }\n",
       "\n",
       "    .dataframe thead th {\n",
       "        text-align: right;\n",
       "    }\n",
       "</style>\n",
       "<table border=\"1\" class=\"dataframe\">\n",
       "  <thead>\n",
       "    <tr style=\"text-align: right;\">\n",
       "      <th></th>\n",
       "      <th>0</th>\n",
       "      <th>1</th>\n",
       "      <th>2</th>\n",
       "      <th>3</th>\n",
       "      <th>4</th>\n",
       "      <th>5</th>\n",
       "      <th>6</th>\n",
       "      <th>7</th>\n",
       "      <th>8</th>\n",
       "      <th>9</th>\n",
       "      <th>10</th>\n",
       "      <th>11</th>\n",
       "      <th>12</th>\n",
       "      <th>13</th>\n",
       "      <th>14</th>\n",
       "      <th>15</th>\n",
       "      <th>16</th>\n",
       "      <th>17</th>\n",
       "      <th>18</th>\n",
       "    </tr>\n",
       "  </thead>\n",
       "  <tbody>\n",
       "    <tr>\n",
       "      <th>0</th>\n",
       "      <td>48.07</td>\n",
       "      <td>-18.105</td>\n",
       "      <td>13.48</td>\n",
       "      <td>-52.255</td>\n",
       "      <td>-133986.825</td>\n",
       "      <td>-0.555</td>\n",
       "      <td>0.0425</td>\n",
       "      <td>-9.555123</td>\n",
       "      <td>-37.279072</td>\n",
       "      <td>-31.587</td>\n",
       "      <td>65.868615</td>\n",
       "      <td>50.184091</td>\n",
       "      <td>21.22100</td>\n",
       "      <td>102.034</td>\n",
       "      <td>78.4699</td>\n",
       "      <td>-100.965</td>\n",
       "      <td>-3.378596</td>\n",
       "      <td>-0.037968</td>\n",
       "      <td>-3.178985e+07</td>\n",
       "    </tr>\n",
       "    <tr>\n",
       "      <th>1</th>\n",
       "      <td>-124.90</td>\n",
       "      <td>-121.025</td>\n",
       "      <td>-144.26</td>\n",
       "      <td>-102.130</td>\n",
       "      <td>-120132.100</td>\n",
       "      <td>0.295</td>\n",
       "      <td>0.0497</td>\n",
       "      <td>-42.945891</td>\n",
       "      <td>-86.354396</td>\n",
       "      <td>13.534</td>\n",
       "      <td>49.447538</td>\n",
       "      <td>-5.489996</td>\n",
       "      <td>-6.69625</td>\n",
       "      <td>-207.073</td>\n",
       "      <td>-104.7668</td>\n",
       "      <td>-92.569</td>\n",
       "      <td>-3.278158</td>\n",
       "      <td>-0.038239</td>\n",
       "      <td>-9.512131e+07</td>\n",
       "    </tr>\n",
       "  </tbody>\n",
       "</table>\n",
       "</div>"
      ],
      "text/plain": [
       "       0        1       2        3           4      5       6          7   \\\n",
       "0   48.07  -18.105   13.48  -52.255 -133986.825 -0.555  0.0425  -9.555123   \n",
       "1 -124.90 -121.025 -144.26 -102.130 -120132.100  0.295  0.0497 -42.945891   \n",
       "\n",
       "          8       9          10         11        12       13        14  \\\n",
       "0 -37.279072 -31.587  65.868615  50.184091  21.22100  102.034   78.4699   \n",
       "1 -86.354396  13.534  49.447538  -5.489996  -6.69625 -207.073 -104.7668   \n",
       "\n",
       "        15        16        17            18  \n",
       "0 -100.965 -3.378596 -0.037968 -3.178985e+07  \n",
       "1  -92.569 -3.278158 -0.038239 -9.512131e+07  "
      ]
     },
     "execution_count": 182,
     "metadata": {},
     "output_type": "execute_result"
    }
   ],
   "source": [
    "pd.DataFrame(cD2).head(2)"
   ]
  },
  {
   "cell_type": "code",
   "execution_count": 183,
   "metadata": {},
   "outputs": [
    {
     "data": {
      "text/html": [
       "<div>\n",
       "<style scoped>\n",
       "    .dataframe tbody tr th:only-of-type {\n",
       "        vertical-align: middle;\n",
       "    }\n",
       "\n",
       "    .dataframe tbody tr th {\n",
       "        vertical-align: top;\n",
       "    }\n",
       "\n",
       "    .dataframe thead th {\n",
       "        text-align: right;\n",
       "    }\n",
       "</style>\n",
       "<table border=\"1\" class=\"dataframe\">\n",
       "  <thead>\n",
       "    <tr style=\"text-align: right;\">\n",
       "      <th></th>\n",
       "      <th>0</th>\n",
       "      <th>1</th>\n",
       "      <th>2</th>\n",
       "      <th>3</th>\n",
       "      <th>4</th>\n",
       "    </tr>\n",
       "  </thead>\n",
       "  <tbody>\n",
       "    <tr>\n",
       "      <th>0</th>\n",
       "      <td>110.025</td>\n",
       "      <td>144399.383982</td>\n",
       "      <td>-3108.486472</td>\n",
       "      <td>94.5501</td>\n",
       "      <td>8.726278e+07</td>\n",
       "    </tr>\n",
       "    <tr>\n",
       "      <th>1</th>\n",
       "      <td>39.455</td>\n",
       "      <td>139723.324224</td>\n",
       "      <td>-3103.091175</td>\n",
       "      <td>62.5358</td>\n",
       "      <td>1.095493e+08</td>\n",
       "    </tr>\n",
       "  </tbody>\n",
       "</table>\n",
       "</div>"
      ],
      "text/plain": [
       "         0              1            2        3             4\n",
       "0  110.025  144399.383982 -3108.486472  94.5501  8.726278e+07\n",
       "1   39.455  139723.324224 -3103.091175  62.5358  1.095493e+08"
      ]
     },
     "execution_count": 183,
     "metadata": {},
     "output_type": "execute_result"
    }
   ],
   "source": [
    "pd.DataFrame(cD2_alt).head(2)"
   ]
  },
  {
   "cell_type": "code",
   "execution_count": 184,
   "metadata": {
    "scrolled": true
   },
   "outputs": [
    {
     "data": {
      "image/png": "[encoded data removed]",
      "text/plain": [
       "<Figure size 432x288 with 1 Axes>"
      ]
     },
     "metadata": {
      "needs_background": "light"
     },
     "output_type": "display_data"
    }
   ],
   "source": [
    "plt.plot(cA2);"
   ]
  },
  {
   "cell_type": "code",
   "execution_count": 185,
   "metadata": {},
   "outputs": [
    {
     "data": {
      "image/png": "[encoded data removed]",
      "text/plain": [
       "<Figure size 432x288 with 1 Axes>"
      ]
     },
     "metadata": {
      "needs_background": "light"
     },
     "output_type": "display_data"
    }
   ],
   "source": [
    "plt.plot(cA2_alt);"
   ]
  },
  {
   "cell_type": "code",
   "execution_count": 186,
   "metadata": {
    "scrolled": true
   },
   "outputs": [
    {
     "data": {
      "image/png": "[encoded data removed]",
      "text/plain": [
       "<Figure size 432x288 with 1 Axes>"
      ]
     },
     "metadata": {
      "needs_background": "light"
     },
     "output_type": "display_data"
    }
   ],
   "source": [
    "plt.plot(cD1);"
   ]
  },
  {
   "cell_type": "code",
   "execution_count": 187,
   "metadata": {},
   "outputs": [
    {
     "data": {
      "image/png": "[encoded data removed]",
      "text/plain": [
       "<Figure size 432x288 with 1 Axes>"
      ]
     },
     "metadata": {
      "needs_background": "light"
     },
     "output_type": "display_data"
    }
   ],
   "source": [
    "plt.plot(cD1_alt);"
   ]
  },
  {
   "cell_type": "code",
   "execution_count": 188,
   "metadata": {
    "scrolled": false
   },
   "outputs": [
    {
     "data": {
      "image/png": "[encoded data removed]",
      "text/plain": [
       "<Figure size 432x288 with 1 Axes>"
      ]
     },
     "metadata": {
      "needs_background": "light"
     },
     "output_type": "display_data"
    }
   ],
   "source": [
    "plt.plot(cD2);"
   ]
  },
  {
   "cell_type": "code",
   "execution_count": 189,
   "metadata": {},
   "outputs": [
    {
     "data": {
      "image/png": "[encoded data removed]",
      "text/plain": [
       "<Figure size 432x288 with 1 Axes>"
      ]
     },
     "metadata": {
      "needs_background": "light"
     },
     "output_type": "display_data"
    }
   ],
   "source": [
    "plt.plot(cD2_alt);"
   ]
  },
  {
   "cell_type": "code",
   "execution_count": 190,
   "metadata": {},
   "outputs": [
    {
     "data": {
      "image/png": "[encoded data removed]",
      "text/plain": [
       "<Figure size 432x288 with 1 Axes>"
      ]
     },
     "metadata": {
      "needs_background": "light"
     },
     "output_type": "display_data"
    }
   ],
   "source": [
    "plt.plot(data);"
   ]
  },
  {
   "cell_type": "code",
   "execution_count": 226,
   "metadata": {},
   "outputs": [
    {
     "data": {
      "text/plain": [
       "2010"
      ]
     },
     "execution_count": 226,
     "metadata": {},
     "output_type": "execute_result"
    }
   ],
   "source": [
    "reconstructed_signal = pywt.waverec(coeffs, 'haar',axis=0)\n",
    "len(reconstructed_signal)\n"
   ]
  },
  {
   "cell_type": "code",
   "execution_count": 225,
   "metadata": {},
   "outputs": [
    {
     "data": {
      "text/plain": [
       "2010"
      ]
     },
     "execution_count": 225,
     "metadata": {},
     "output_type": "execute_result"
    }
   ],
   "source": [
    "reconstructed_signal_alt = pywt.waverec(coeffs_alt, 'haar',axis=1)\n",
    "len(reconstructed_signal_alt)"
   ]
  },
  {
   "cell_type": "code",
   "execution_count": 224,
   "metadata": {
    "scrolled": true
   },
   "outputs": [
    {
     "data": {
      "image/png": "[encoded data removed]",
      "text/plain": [
       "<Figure size 432x288 with 1 Axes>"
      ]
     },
     "metadata": {
      "needs_background": "light"
     },
     "output_type": "display_data"
    }
   ],
   "source": [
    "plt.plot(data);"
   ]
  },
  {
   "cell_type": "code",
   "execution_count": 223,
   "metadata": {
    "scrolled": true
   },
   "outputs": [
    {
     "data": {
      "image/png": "[encoded data removed]",
      "text/plain": [
       "<Figure size 432x288 with 1 Axes>"
      ]
     },
     "metadata": {
      "needs_background": "light"
     },
     "output_type": "display_data"
    }
   ],
   "source": [
    "plt.plot(reconstructed_signal);"
   ]
  },
  {
   "cell_type": "code",
   "execution_count": 222,
   "metadata": {},
   "outputs": [
    {
     "data": {
      "image/png": "[encoded data removed]",
      "text/plain": [
       "<Figure size 432x288 with 1 Axes>"
      ]
     },
     "metadata": {
      "needs_background": "light"
     },
     "output_type": "display_data"
    }
   ],
   "source": [
    "plt.plot(reconstructed_signal_alt);"
   ]
  },
  {
   "cell_type": "code",
   "execution_count": 196,
   "metadata": {},
   "outputs": [
    {
     "data": {
      "text/html": [
       "<div>\n",
       "<style scoped>\n",
       "    .dataframe tbody tr th:only-of-type {\n",
       "        vertical-align: middle;\n",
       "    }\n",
       "\n",
       "    .dataframe tbody tr th {\n",
       "        vertical-align: top;\n",
       "    }\n",
       "\n",
       "    .dataframe thead th {\n",
       "        text-align: right;\n",
       "    }\n",
       "</style>\n",
       "<table border=\"1\" class=\"dataframe\">\n",
       "  <thead>\n",
       "    <tr style=\"text-align: right;\">\n",
       "      <th></th>\n",
       "      <th>0</th>\n",
       "      <th>1</th>\n",
       "      <th>2</th>\n",
       "      <th>3</th>\n",
       "      <th>4</th>\n",
       "      <th>5</th>\n",
       "      <th>6</th>\n",
       "      <th>7</th>\n",
       "      <th>8</th>\n",
       "      <th>9</th>\n",
       "      <th>10</th>\n",
       "      <th>11</th>\n",
       "      <th>12</th>\n",
       "      <th>13</th>\n",
       "      <th>14</th>\n",
       "      <th>15</th>\n",
       "      <th>16</th>\n",
       "      <th>17</th>\n",
       "      <th>18</th>\n",
       "    </tr>\n",
       "  </thead>\n",
       "  <tbody>\n",
       "    <tr>\n",
       "      <th>0</th>\n",
       "      <td>2799.20</td>\n",
       "      <td>2809.38</td>\n",
       "      <td>2690.18</td>\n",
       "      <td>2698.35</td>\n",
       "      <td>288515.85</td>\n",
       "      <td>72.34</td>\n",
       "      <td>2.5006</td>\n",
       "      <td>-213.078565</td>\n",
       "      <td>-128.949052</td>\n",
       "      <td>119.200</td>\n",
       "      <td>3173.475692</td>\n",
       "      <td>3033.748201</td>\n",
       "      <td>2851.2504</td>\n",
       "      <td>-91.594</td>\n",
       "      <td>2851.3262</td>\n",
       "      <td>-280.770</td>\n",
       "      <td>-9.424605</td>\n",
       "      <td>-0.097927</td>\n",
       "      <td>-8.726278e+07</td>\n",
       "    </tr>\n",
       "    <tr>\n",
       "      <th>1</th>\n",
       "      <td>2702.63</td>\n",
       "      <td>2745.94</td>\n",
       "      <td>2670.06</td>\n",
       "      <td>2699.60</td>\n",
       "      <td>279163.65</td>\n",
       "      <td>71.99</td>\n",
       "      <td>2.7238</td>\n",
       "      <td>-213.732249</td>\n",
       "      <td>-139.719688</td>\n",
       "      <td>75.875</td>\n",
       "      <td>3140.413385</td>\n",
       "      <td>3001.924277</td>\n",
       "      <td>2822.0828</td>\n",
       "      <td>-152.318</td>\n",
       "      <td>2797.3382</td>\n",
       "      <td>-252.645</td>\n",
       "      <td>-8.557733</td>\n",
       "      <td>-0.026497</td>\n",
       "      <td>-1.095493e+08</td>\n",
       "    </tr>\n",
       "  </tbody>\n",
       "</table>\n",
       "</div>"
      ],
      "text/plain": [
       "        0        1        2        3          4      5       6           7   \\\n",
       "0  2799.20  2809.38  2690.18  2698.35  288515.85  72.34  2.5006 -213.078565   \n",
       "1  2702.63  2745.94  2670.06  2699.60  279163.65  71.99  2.7238 -213.732249   \n",
       "\n",
       "           8        9            10           11         12       13  \\\n",
       "0 -128.949052  119.200  3173.475692  3033.748201  2851.2504  -91.594   \n",
       "1 -139.719688   75.875  3140.413385  3001.924277  2822.0828 -152.318   \n",
       "\n",
       "          14       15        16        17            18  \n",
       "0  2851.3262 -280.770 -9.424605 -0.097927 -8.726278e+07  \n",
       "1  2797.3382 -252.645 -8.557733 -0.026497 -1.095493e+08  "
      ]
     },
     "execution_count": 196,
     "metadata": {},
     "output_type": "execute_result"
    }
   ],
   "source": [
    "pd.DataFrame(reconstructed_signal).head(2)"
   ]
  },
  {
   "cell_type": "code",
   "execution_count": 221,
   "metadata": {},
   "outputs": [
    {
     "data": {
      "text/html": [
       "<div>\n",
       "<style scoped>\n",
       "    .dataframe tbody tr th:only-of-type {\n",
       "        vertical-align: middle;\n",
       "    }\n",
       "\n",
       "    .dataframe tbody tr th {\n",
       "        vertical-align: top;\n",
       "    }\n",
       "\n",
       "    .dataframe thead th {\n",
       "        text-align: right;\n",
       "    }\n",
       "</style>\n",
       "<table border=\"1\" class=\"dataframe\">\n",
       "  <thead>\n",
       "    <tr style=\"text-align: right;\">\n",
       "      <th></th>\n",
       "      <th>0</th>\n",
       "      <th>1</th>\n",
       "      <th>2</th>\n",
       "      <th>3</th>\n",
       "      <th>4</th>\n",
       "      <th>5</th>\n",
       "      <th>6</th>\n",
       "      <th>7</th>\n",
       "      <th>8</th>\n",
       "      <th>9</th>\n",
       "      <th>10</th>\n",
       "      <th>11</th>\n",
       "      <th>12</th>\n",
       "      <th>13</th>\n",
       "      <th>14</th>\n",
       "      <th>15</th>\n",
       "      <th>16</th>\n",
       "      <th>17</th>\n",
       "      <th>18</th>\n",
       "      <th>19</th>\n",
       "    </tr>\n",
       "  </thead>\n",
       "  <tbody>\n",
       "    <tr>\n",
       "      <th>0</th>\n",
       "      <td>2799.20</td>\n",
       "      <td>2809.38</td>\n",
       "      <td>2690.18</td>\n",
       "      <td>2698.35</td>\n",
       "      <td>288515.85</td>\n",
       "      <td>72.34</td>\n",
       "      <td>2.5006</td>\n",
       "      <td>-213.078565</td>\n",
       "      <td>-128.949052</td>\n",
       "      <td>119.200</td>\n",
       "      <td>3173.475692</td>\n",
       "      <td>3033.748201</td>\n",
       "      <td>2851.2504</td>\n",
       "      <td>-91.594</td>\n",
       "      <td>2851.3262</td>\n",
       "      <td>-280.770</td>\n",
       "      <td>-9.424605</td>\n",
       "      <td>-0.097927</td>\n",
       "      <td>-8.726278e+07</td>\n",
       "      <td>-8.726278e+07</td>\n",
       "    </tr>\n",
       "    <tr>\n",
       "      <th>1</th>\n",
       "      <td>2702.63</td>\n",
       "      <td>2745.94</td>\n",
       "      <td>2670.06</td>\n",
       "      <td>2699.60</td>\n",
       "      <td>279163.65</td>\n",
       "      <td>71.99</td>\n",
       "      <td>2.7238</td>\n",
       "      <td>-213.732249</td>\n",
       "      <td>-139.719688</td>\n",
       "      <td>75.875</td>\n",
       "      <td>3140.413385</td>\n",
       "      <td>3001.924277</td>\n",
       "      <td>2822.0828</td>\n",
       "      <td>-152.318</td>\n",
       "      <td>2797.3382</td>\n",
       "      <td>-252.645</td>\n",
       "      <td>-8.557733</td>\n",
       "      <td>-0.026497</td>\n",
       "      <td>-1.095493e+08</td>\n",
       "      <td>-1.095493e+08</td>\n",
       "    </tr>\n",
       "  </tbody>\n",
       "</table>\n",
       "</div>"
      ],
      "text/plain": [
       "        0        1        2        3          4      5       6           7   \\\n",
       "0  2799.20  2809.38  2690.18  2698.35  288515.85  72.34  2.5006 -213.078565   \n",
       "1  2702.63  2745.94  2670.06  2699.60  279163.65  71.99  2.7238 -213.732249   \n",
       "\n",
       "           8        9            10           11         12       13  \\\n",
       "0 -128.949052  119.200  3173.475692  3033.748201  2851.2504  -91.594   \n",
       "1 -139.719688   75.875  3140.413385  3001.924277  2822.0828 -152.318   \n",
       "\n",
       "          14       15        16        17            18            19  \n",
       "0  2851.3262 -280.770 -9.424605 -0.097927 -8.726278e+07 -8.726278e+07  \n",
       "1  2797.3382 -252.645 -8.557733 -0.026497 -1.095493e+08 -1.095493e+08  "
      ]
     },
     "execution_count": 221,
     "metadata": {},
     "output_type": "execute_result"
    }
   ],
   "source": [
    "pd.DataFrame(reconstructed_signal_alt).head(2)"
   ]
  },
  {
   "cell_type": "code",
   "execution_count": 198,
   "metadata": {
    "scrolled": true
   },
   "outputs": [
    {
     "data": {
      "text/html": [
       "<div>\n",
       "<style scoped>\n",
       "    .dataframe tbody tr th:only-of-type {\n",
       "        vertical-align: middle;\n",
       "    }\n",
       "\n",
       "    .dataframe tbody tr th {\n",
       "        vertical-align: top;\n",
       "    }\n",
       "\n",
       "    .dataframe thead th {\n",
       "        text-align: right;\n",
       "    }\n",
       "</style>\n",
       "<table border=\"1\" class=\"dataframe\">\n",
       "  <thead>\n",
       "    <tr style=\"text-align: right;\">\n",
       "      <th></th>\n",
       "      <th>open</th>\n",
       "      <th>high</th>\n",
       "      <th>low</th>\n",
       "      <th>close</th>\n",
       "      <th>volume</th>\n",
       "      <th>us dollar index</th>\n",
       "      <th>shibor</th>\n",
       "      <th>macd</th>\n",
       "      <th>cci</th>\n",
       "      <th>atr</th>\n",
       "      <th>boll</th>\n",
       "      <th>ema20</th>\n",
       "      <th>ma10</th>\n",
       "      <th>mtm6</th>\n",
       "      <th>ma5</th>\n",
       "      <th>mtm12</th>\n",
       "      <th>roc</th>\n",
       "      <th>smi</th>\n",
       "      <th>wvad</th>\n",
       "    </tr>\n",
       "  </thead>\n",
       "  <tbody>\n",
       "    <tr>\n",
       "      <th>0</th>\n",
       "      <td>2799.20</td>\n",
       "      <td>2809.38</td>\n",
       "      <td>2690.18</td>\n",
       "      <td>2698.35</td>\n",
       "      <td>288515.85</td>\n",
       "      <td>72.34</td>\n",
       "      <td>2.5006</td>\n",
       "      <td>-213.078565</td>\n",
       "      <td>-128.949052</td>\n",
       "      <td>119.200</td>\n",
       "      <td>3173.475692</td>\n",
       "      <td>3033.748201</td>\n",
       "      <td>2851.2504</td>\n",
       "      <td>-91.594</td>\n",
       "      <td>2851.3262</td>\n",
       "      <td>-280.770</td>\n",
       "      <td>-9.424605</td>\n",
       "      <td>-0.097927</td>\n",
       "      <td>-8.726278e+07</td>\n",
       "    </tr>\n",
       "    <tr>\n",
       "      <th>1</th>\n",
       "      <td>2702.63</td>\n",
       "      <td>2745.94</td>\n",
       "      <td>2670.06</td>\n",
       "      <td>2699.60</td>\n",
       "      <td>279163.65</td>\n",
       "      <td>71.99</td>\n",
       "      <td>2.7238</td>\n",
       "      <td>-213.732249</td>\n",
       "      <td>-139.719688</td>\n",
       "      <td>75.875</td>\n",
       "      <td>3140.413385</td>\n",
       "      <td>3001.924277</td>\n",
       "      <td>2822.0828</td>\n",
       "      <td>-152.318</td>\n",
       "      <td>2797.3382</td>\n",
       "      <td>-252.645</td>\n",
       "      <td>-8.557733</td>\n",
       "      <td>-0.026497</td>\n",
       "      <td>-1.095493e+08</td>\n",
       "    </tr>\n",
       "  </tbody>\n",
       "</table>\n",
       "</div>"
      ],
      "text/plain": [
       "      open     high      low    close     volume  us dollar index  shibor  \\\n",
       "0  2799.20  2809.38  2690.18  2698.35  288515.85            72.34  2.5006   \n",
       "1  2702.63  2745.94  2670.06  2699.60  279163.65            71.99  2.7238   \n",
       "\n",
       "         macd         cci      atr         boll        ema20       ma10  \\\n",
       "0 -213.078565 -128.949052  119.200  3173.475692  3033.748201  2851.2504   \n",
       "1 -213.732249 -139.719688   75.875  3140.413385  3001.924277  2822.0828   \n",
       "\n",
       "      mtm6        ma5    mtm12       roc       smi          wvad  \n",
       "0  -91.594  2851.3262 -280.770 -9.424605 -0.097927 -8.726278e+07  \n",
       "1 -152.318  2797.3382 -252.645 -8.557733 -0.026497 -1.095493e+08  "
      ]
     },
     "execution_count": 198,
     "metadata": {},
     "output_type": "execute_result"
    }
   ],
   "source": [
    "data.head(2)"
   ]
  },
  {
   "cell_type": "code",
   "execution_count": null,
   "metadata": {},
   "outputs": [],
   "source": []
  },
  {
   "cell_type": "code",
   "execution_count": null,
   "metadata": {},
   "outputs": [],
   "source": []
  },
  {
   "cell_type": "code",
   "execution_count": null,
   "metadata": {},
   "outputs": [],
   "source": []
  }
 ],
 "metadata": {
  "kernelspec": {
   "display_name": "Python 3",
   "language": "python",
   "name": "python3"
  },
  "language_info": {
   "codemirror_mode": {
    "name": "ipython",
    "version": 3
   },
   "file_extension": ".py",
   "mimetype": "text/x-python",
   "name": "python",
   "nbconvert_exporter": "python",
   "pygments_lexer": "ipython3",
   "version": "3.7.3"
  },
  "pycharm": {
   "stem_cell": {
    "cell_type": "raw",
    "source": [],
    "metadata": {
     "collapsed": false
    }
   }
  }
 },
 "nbformat": 4,
 "nbformat_minor": 2
}