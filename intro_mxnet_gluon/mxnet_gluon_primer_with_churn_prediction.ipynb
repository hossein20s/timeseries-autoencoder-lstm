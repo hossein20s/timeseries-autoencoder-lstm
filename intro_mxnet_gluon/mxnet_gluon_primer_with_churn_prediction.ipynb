{
 "cells": [
  {
   "cell_type": "markdown",
   "metadata": {},
   "source": [
    "# Logistic Regression: Predicting churn with Apache MXNet and Gluon\n",
    "\n",
    "This notebook is designed to be a quick primer on Apache MXNet and Gluon while solving a churn prediction use case\n",
    "\n",
    "### Problem\n",
    "\n",
    "Service providers have historical records on customer loyalty and track how likely users are going to continue to use the service. We can use this historical information to construct a model to predict if the user is going to leave (churn) or continue to use the service."
   ]
  },
  {
   "cell_type": "markdown",
   "metadata": {},
   "source": [
    "## Logistic Regression\n",
    "\n",
    "To solve this problem we are going to use a technique known as logistic regression. Its used when the dependent variable is categorical. In this problem we are predicting if the user will churn or not, hence we'll use a binary logistic regression which is the binary version of the more generalized multiclass logistic regression. For further reading check the wikipedia [article](https://en.wikipedia.org/wiki/Multinomial_logistic_regression)\n",
    "    \n",
    "    "
   ]
  },
  {
   "cell_type": "markdown",
   "metadata": {
    "collapsed": true
   },
   "source": [
    "## Data\n",
    "\n",
    "The dataset I use is publicly available and was mentioned in the book “Discovering Knowledge in Data” by Daniel T. Larose. \n",
    "It is attributed by the author to the University of California Irvine Repository of Machine Learning Datasets, \n",
    "and can be downloaded from the author’s website [here](http://www.dataminingconsultant.com/data/churn.txt) in .csv format.\n",
    "\n",
    "A modified version is provided in the data/ folder for convinience"
   ]
  },
  {
   "cell_type": "code",
   "execution_count": 1,
   "metadata": {
    "pycharm": {
     "is_executing": true
    }
   },
   "outputs": [
    {
     "name": "stdout",
     "output_type": "stream",
     "text": [
      "DEBUG:matplotlib.pyplot:Loaded backend module://ipykernel.pylab.backend_inline version unknown.\n"
     ]
    }
   ],
   "source": [
    "import numpy as np\n",
    "import mxnet as mx\n",
    "import logging\n",
    "import pandas as pd\n",
    "import sys\n",
    "from sklearn.preprocessing import MinMaxScaler\n",
    "import matplotlib.pyplot as plt\n",
    "\n",
    "import logging\n",
    "logging.basicConfig(stream=sys.stdout, level=logging.DEBUG)  # Config the logging"
   ]
  },
  {
   "cell_type": "markdown",
   "metadata": {},
   "source": [
    "## Feature selection\n",
    "\n",
    "There are many factors (or features) that we think are indicative of customer churn. For simplicity we are going to use the last 5 features namely -- Night Charge, Intl Mins, Intl Calls, Intl Charge, CustServ Calls as the indicator for churn."
   ]
  },
  {
   "cell_type": "code",
   "execution_count": 3,
   "metadata": {
    "pycharm": {
     "is_executing": true
    }
   },
   "outputs": [
    {
     "name": "stdout",
     "output_type": "stream",
     "text": [
      "State,Account Length,Area Code,Phone,Int'l Plan,VMail Plan,VMail Message,Day Mins,Day Calls,Day Charge,Eve Mins,Eve Calls,Eve Charge,Night Mins,Night Calls,Night Charge,Intl Mins,Intl Calls,Intl Charge,CustServ Calls,Churn?\r",
      "\r\n",
      "KS,128,415,382-4657,no,yes,25,265.100000,110,45.070000,197.400000,99,16.780000,244.700000,91,11.010000,10.000000,3,2.700000,1,False.\r",
      "\r\n",
      "OH,107,415,371-7191,no,yes,26,161.600000,123,27.470000,195.500000,103,16.620000,254.400000,103,11.450000,13.700000,3,3.700000,1,False.\r",
      "\r\n"
     ]
    }
   ],
   "source": [
    "!head -n 3 churn.txt"
   ]
  },
  {
   "cell_type": "markdown",
   "metadata": {},
   "source": [
    "### Lets split into training and test set"
   ]
  },
  {
   "cell_type": "code",
   "execution_count": 4,
   "metadata": {},
   "outputs": [
    {
     "name": "stdout",
     "output_type": "stream",
     "text": [
      "(3330, 5) (3330, 1)\n",
      "<class 'numpy.ndarray'> <class 'numpy.ndarray'>\n"
     ]
    }
   ],
   "source": [
    "# Data fields in the CSV\n",
    "\n",
    "#State,Account Length,Area Code,Phone,Int'l Plan,VMail Plan, VMail Message,Day Mins,Day Calls,\n",
    "#Day Charge,Eve Mins,Eve Calls,Eve Charge,Night Mins,Night Calls,\n",
    "#Night Charge,Intl Mins,Intl Calls,Intl Charge,CustServ Calls,Churn?\n",
    "\n",
    "dataframe = pd.read_csv('churn.txt', engine='python', skipfooter=3)\n",
    "dataset = dataframe.values\n",
    "x_data = dataset[:, -6:-1] # use a subset as features\n",
    "\n",
    "# convert the last field in to [0,1] from False/True \n",
    "y_data = np.array([[0 if d == 'False.' else 1 for d in dataset[:, [-1]]]]).T \n",
    "\n",
    "print(x_data.shape, y_data.shape)\n",
    "print(type(x_data), type(y_data))"
   ]
  },
  {
   "cell_type": "code",
   "execution_count": 5,
   "metadata": {},
   "outputs": [
    {
     "name": "stdout",
     "output_type": "stream",
     "text": [
      "2331 999\n",
      "2331 999\n"
     ]
    }
   ],
   "source": [
    "sample_num = x_data.shape[0]\n",
    "dimension = x_data.shape[1]\n",
    "batch_size = 32\n",
    "\n",
    "train_size = int(len(dataset) * 0.7)\n",
    "test_size = len(dataset) - train_size\n",
    "\n",
    "train_x, test_x = x_data[0:train_size,:], x_data[train_size:len(x_data),:]\n",
    "train_y, test_y = y_data[0:train_size,:], y_data[train_size:len(y_data),:]\n",
    "\n",
    "print(len(train_x), len(test_x))\n",
    "print(len(train_y), len(test_y))\n"
   ]
  },
  {
   "cell_type": "markdown",
   "metadata": {},
   "source": [
    "Take a moment to look at [NDArrays](https://github.com/zackchase/mxnet-the-straight-dope/blob/master/chapter01_crashcourse/ndarray.ipynb) in MXNet and Gluon. We'll use this extensively in all our notebooks"
   ]
  },
  {
   "cell_type": "markdown",
   "metadata": {},
   "source": [
    "### Build the Logistic Regression Model -- Symbolic Apache MXNet\n"
   ]
  },
  {
   "cell_type": "code",
   "execution_count": 6,
   "metadata": {},
   "outputs": [
    {
     "name": "stdout",
     "output_type": "stream",
     "text": [
      "WARNING:root:Already bound, ignoring bind()\n",
      "WARNING:root:optimizer already initialized, ignoring...\n",
      "INFO:root:Epoch[0] Train-acc=0.837757\n",
      "INFO:root:Epoch[0] Time cost=0.055\n",
      "INFO:root:Epoch[1] Train-acc=0.864726\n",
      "INFO:root:Epoch[1] Time cost=0.053\n",
      "INFO:root:Epoch[2] Train-acc=0.865154\n",
      "INFO:root:Epoch[2] Time cost=0.050\n"
     ]
    },
    {
     "name": "stderr",
     "output_type": "stream",
     "text": [
      "/opt/dev/environments/project_env/lib/python3.6/site-packages/mxnet/module/base_module.py:502: UserWarning: Parameters already initialized and force_init=False. init_params call ignored.\n",
      "  allow_missing=allow_missing, force_init=force_init)\n"
     ]
    },
    {
     "name": "stdout",
     "output_type": "stream",
     "text": [
      "INFO:root:Epoch[3] Train-acc=0.865154\n",
      "INFO:root:Epoch[3] Time cost=0.062\n",
      "INFO:root:Epoch[4] Train-acc=0.865154\n",
      "INFO:root:Epoch[4] Time cost=0.050\n",
      "INFO:root:Epoch[5] Train-acc=0.864726\n",
      "INFO:root:Epoch[5] Time cost=0.050\n",
      "INFO:root:Epoch[6] Train-acc=0.864726\n",
      "INFO:root:Epoch[6] Time cost=0.054\n",
      "INFO:root:Epoch[7] Train-acc=0.864298\n",
      "INFO:root:Epoch[7] Time cost=0.052\n",
      "INFO:root:Epoch[8] Train-acc=0.864726\n",
      "INFO:root:Epoch[8] Time cost=0.054\n",
      "INFO:root:Epoch[9] Train-acc=0.864726\n",
      "INFO:root:Epoch[9] Time cost=0.051\n",
      "INFO:root:Epoch[10] Train-acc=0.864298\n",
      "INFO:root:Epoch[10] Time cost=0.050\n",
      "INFO:root:Epoch[11] Train-acc=0.865154\n",
      "INFO:root:Epoch[11] Time cost=0.056\n",
      "INFO:root:Epoch[12] Train-acc=0.864298\n",
      "INFO:root:Epoch[12] Time cost=0.056\n",
      "INFO:root:Epoch[13] Train-acc=0.866438\n",
      "INFO:root:Epoch[13] Time cost=0.055\n",
      "INFO:root:Epoch[14] Train-acc=0.865582\n",
      "INFO:root:Epoch[14] Time cost=0.055\n",
      "INFO:root:Epoch[15] Train-acc=0.866866\n",
      "INFO:root:Epoch[15] Time cost=0.055\n",
      "INFO:root:Epoch[16] Train-acc=0.865154\n",
      "INFO:root:Epoch[16] Time cost=0.058\n",
      "INFO:root:Epoch[17] Train-acc=0.864298\n",
      "INFO:root:Epoch[17] Time cost=0.057\n",
      "INFO:root:Epoch[18] Train-acc=0.865154\n",
      "INFO:root:Epoch[18] Time cost=0.066\n",
      "INFO:root:Epoch[19] Train-acc=0.865582\n",
      "INFO:root:Epoch[19] Time cost=0.066\n"
     ]
    }
   ],
   "source": [
    "# Lets build the Logistic Regression Model\n",
    "\n",
    "# Placeholders for X & y\n",
    "data = mx.sym.Variable(\"data\")\n",
    "target = mx.sym.Variable(\"target\")\n",
    "\n",
    "fc = mx.sym.FullyConnected(data=data, num_hidden=1, name='fc')\n",
    "pred = mx.sym.LogisticRegressionOutput(data=fc, label=target)\n",
    "\n",
    "# Contstruct the module object\n",
    "model = mx.mod.Module(symbol=pred,\n",
    "                    data_names=['data'],\n",
    "                    label_names=['target'],\n",
    "                    context=mx.cpu(0))\n",
    "\n",
    "# bind the data and label shapes\n",
    "# you can also use train_iter.provide_data & .provide_label\n",
    "model.bind(data_shapes=[mx.io.DataDesc(name='data', shape=(batch_size, dimension), layout='NC')],\n",
    "         label_shapes=[mx.io.DataDesc(name='target', shape=(batch_size, 1), layout='NC')])\n",
    "model.init_params(initializer=mx.init.Normal(sigma=0.01))\n",
    "model.init_optimizer(optimizer='sgd', \n",
    "            optimizer_params={'learning_rate': 1E-3, 'momentum': 0.9})\n",
    "\n",
    "# Build the data iterator\n",
    "train_iter = mx.io.NDArrayIter(train_x, train_y, batch_size,\n",
    "                               shuffle=True, label_name='target')\n",
    "\n",
    "\n",
    "# Create a custom metric\n",
    "metric = mx.metric.CustomMetric(feval=lambda labels, \n",
    "                                pred: ((pred > 0.5) == labels).mean(),\n",
    "                                name=\"acc\")\n",
    "\n",
    "# Train the model\n",
    "model.fit(train_data=train_iter, eval_metric=metric, num_epoch=20)"
   ]
  },
  {
   "cell_type": "markdown",
   "metadata": {},
   "source": [
    "## Model Evaluation\n"
   ]
  },
  {
   "cell_type": "code",
   "execution_count": 7,
   "metadata": {},
   "outputs": [
    {
     "name": "stdout",
     "output_type": "stream",
     "text": [
      "0.8328328328328328\n"
     ]
    }
   ],
   "source": [
    "# Test data iterator\n",
    "test_iter = mx.io.NDArrayIter(test_x, test_y, batch_size, shuffle=False, label_name=None)\n",
    "\n",
    "pred_class = (fc > 0) # de\n",
    "test_model = mx.mod.Module(symbol=pred_class,\n",
    "                         data_names=['data'],\n",
    "                         label_names=None,\n",
    "                         context=mx.cpu(0))\n",
    "test_model.bind(data_shapes=[mx.io.DataDesc(name='data', shape=(batch_size, dimension), layout='NC')],\n",
    "              label_shapes=None,\n",
    "              for_training=False,\n",
    "              shared_module=model)\n",
    "out = test_model.predict(eval_data=test_iter)\n",
    "acc = np.sum(out.asnumpy() == test_y)/ (len(test_y)*1.0)\n",
    "\n",
    "#print(out.asnumpy())\n",
    "print(acc)"
   ]
  },
  {
   "cell_type": "markdown",
   "metadata": {},
   "source": [
    "## Confusion Matrix\n",
    "\n",
    "Along with accuracy we'd like to visualize the evaluation with four important statistics relative to the total number of predictions: the percentage of true negatives (TN), true positives (TP), false negatives (FN), and false positives (FP). These stats are often presented in the form of a , as follows.\n",
    "\n",
    "![.](o_churn_table.png)"
   ]
  },
  {
   "cell_type": "code",
   "execution_count": 8,
   "metadata": {},
   "outputs": [
    {
     "name": "stdout",
     "output_type": "stream",
     "text": [
      "[[830   0]\n",
      " [167   2]]\n",
      "169\n"
     ]
    }
   ],
   "source": [
    "from sklearn.metrics import confusion_matrix\n",
    "\n",
    "print(confusion_matrix(test_y, out.asnumpy()))\n",
    "print(np.sum(test_y))"
   ]
  },
  {
   "cell_type": "markdown",
   "metadata": {
    "collapsed": true
   },
   "source": [
    "## Logistic Regression with Gluon "
   ]
  },
  {
   "cell_type": "code",
   "execution_count": 9,
   "metadata": {},
   "outputs": [],
   "source": [
    "from mxnet import nd, autograd\n",
    "from mxnet import gluon\n",
    "\n",
    "ctx = mx.cpu()\n",
    "\n",
    "N_CLASS = 1\n",
    "\n",
    "# Define the model\n",
    "net = gluon.nn.Sequential()\n",
    "with net.name_scope():\n",
    "    net.add(gluon.nn.Dense(1))\n",
    "\n",
    "# init params\n",
    "net.collect_params().initialize(mx.init.Xavier(magnitude=2.24), ctx=ctx)\n",
    "\n",
    "# optimizer\n",
    "trainer = gluon.Trainer(net.collect_params(), 'sgd', {'learning_rate': 0.01})"
   ]
  },
  {
   "cell_type": "code",
   "execution_count": 10,
   "metadata": {},
   "outputs": [],
   "source": [
    "from mxnet import nd, autograd\n",
    "from mxnet import gluon\n",
    "\n",
    "# Define Data Iterators\n",
    "test_iter = mx.io.NDArrayIter(train_x, train_y, batch_size, shuffle=True, label_name=None)\n",
    "test_iter = mx.io.NDArrayIter(test_x, test_y, batch_size, shuffle=False, label_name=None)"
   ]
  },
  {
   "cell_type": "code",
   "execution_count": 11,
   "metadata": {},
   "outputs": [],
   "source": [
    "# The Network\n",
    "\n",
    "ctx = mx.cpu()\n",
    "net = gluon.nn.Dense(1)\n",
    "net.collect_params().initialize(mx.init.Normal(sigma=1.), ctx=ctx)"
   ]
  },
  {
   "cell_type": "code",
   "execution_count": 12,
   "metadata": {},
   "outputs": [],
   "source": [
    "#optimizer\n",
    "trainer = gluon.Trainer(net.collect_params(), 'sgd', {'learning_rate': 0.01})"
   ]
  },
  {
   "cell_type": "code",
   "execution_count": 13,
   "metadata": {},
   "outputs": [],
   "source": [
    "# loss function\n",
    "\n",
    "def logistic(z):\n",
    "    return 1. / (1. + nd.exp(-z))\n",
    "\n",
    "def log_loss(output, y):\n",
    "    yhat = logistic(output)\n",
    "    return  - nd.nansum(  y * nd.log(yhat) + (1-y) * nd.log(1-yhat))"
   ]
  },
  {
   "cell_type": "markdown",
   "metadata": {},
   "source": [
    "During training we use the autograd module to take gradients. See this [link](https://github.com/zackchase/mxnet-the-straight-dope/blob/master/chapter01_crashcourse/autograd.ipynb) for details on how it works\n",
    "\n",
    "### Training Loop"
   ]
  },
  {
   "cell_type": "code",
   "execution_count": 15,
   "metadata": {},
   "outputs": [
    {
     "name": "stdout",
     "output_type": "stream",
     "text": [
      "Epoch 0, loss: 1939.530174255371\n",
      "Epoch 1, loss: 0\n",
      "Epoch 2, loss: 0\n",
      "Epoch 3, loss: 0\n",
      "Epoch 4, loss: 0\n"
     ]
    }
   ],
   "source": [
    "epochs = 5\n",
    "loss_sequence = []\n",
    "num_examples = len(train_x)\n",
    "train_iter.reset()\n",
    "for e in range(epochs):\n",
    "    cumulative_loss = 0\n",
    "    for i, batch in enumerate(train_iter):\n",
    "        data = batch.data[0].as_in_context(ctx)\n",
    "        label = batch.label[0].as_in_context(ctx)\n",
    "        with autograd.record():\n",
    "            output = net(data)\n",
    "            loss = log_loss(output, label)\n",
    "        loss.backward()\n",
    "        trainer.step(batch_size)\n",
    "        cumulative_loss += nd.sum(loss).asscalar()\n",
    "    print(\"Epoch %s, loss: %s\" % (e, cumulative_loss ))\n",
    "    loss_sequence.append(cumulative_loss)"
   ]
  },
  {
   "cell_type": "code",
   "execution_count": 16,
   "metadata": {},
   "outputs": [
    {
     "name": "stdout",
     "output_type": "stream",
     "text": [
      "DEBUG:matplotlib.pyplot:Loaded backend module://ipykernel.pylab.backend_inline version unknown.\n"
     ]
    },
    {
     "data": {
      "text/plain": [
       "Text(0, 0.5, 'average loss')"
      ]
     },
     "execution_count": 16,
     "metadata": {},
     "output_type": "execute_result"
    },
    {
     "name": "stdout",
     "output_type": "stream",
     "text": [
      "DEBUG:matplotlib.axes._base:update_title_pos\n",
      "DEBUG:matplotlib.font_manager:findfont: Matching :family=sans-serif:style=normal:variant=normal:weight=normal:stretch=normal:size=10.0 to DejaVu Sans ('/opt/dev/environments/project_env/lib/python3.6/site-packages/matplotlib/mpl-data/fonts/ttf/DejaVuSans.ttf') with score of 0.050000.\n",
      "DEBUG:matplotlib.font_manager:findfont: Matching :family=sans-serif:style=normal:variant=normal:weight=normal:stretch=normal:size=14.0 to DejaVu Sans ('/opt/dev/environments/project_env/lib/python3.6/site-packages/matplotlib/mpl-data/fonts/ttf/DejaVuSans.ttf') with score of 0.050000.\n",
      "DEBUG:matplotlib.axes._base:update_title_pos\n",
      "DEBUG:matplotlib.axes._base:update_title_pos\n",
      "DEBUG:matplotlib.axes._base:update_title_pos\n",
      "DEBUG:matplotlib.axes._base:update_title_pos\n"
     ]
    },
    {
     "data": {
      "image/png": "[encoded data removed]",
      "text/plain": [
       "<Figure size 576x432 with 1 Axes>"
      ]
     },
     "metadata": {
      "needs_background": "light"
     },
     "output_type": "display_data"
    }
   ],
   "source": [
    "# plot the convergence of the estimated loss function \n",
    "%matplotlib inline\n",
    "\n",
    "import matplotlib\n",
    "import matplotlib.pyplot as plt\n",
    "\n",
    "plt.figure(num=None,figsize=(8, 6))\n",
    "plt.plot(loss_sequence)\n",
    "\n",
    "plt.grid(True, which=\"both\")\n",
    "plt.xlabel('epoch',fontsize=14)\n",
    "plt.ylabel('average loss',fontsize=14)"
   ]
  },
  {
   "cell_type": "markdown",
   "metadata": {},
   "source": [
    "## Calculate the accuracy on the test set"
   ]
  },
  {
   "cell_type": "code",
   "execution_count": 17,
   "metadata": {},
   "outputs": [
    {
     "name": "stdout",
     "output_type": "stream",
     "text": [
      "Accuracy: 0.851 (850.0/999)\n"
     ]
    }
   ],
   "source": [
    "num_correct = 0.0\n",
    "num_total = len(test_x)\n",
    "pred_out = []\n",
    "test_iter.reset()\n",
    "for i, batch in enumerate(test_iter):\n",
    "    data = batch.data[0].as_in_context(ctx)\n",
    "    label = batch.label[0].as_in_context(ctx)\n",
    "    output = net(data)\n",
    "    prediction = (nd.sign(output) + 1) / 2\n",
    "    pred_out.append(prediction.asnumpy())\n",
    "    num_correct += nd.sum(prediction == label)\n",
    "print(\"Accuracy: %0.3f (%s/%s)\" % (num_correct.asscalar()/num_total, num_correct.asscalar(), num_total))"
   ]
  },
  {
   "cell_type": "code",
   "execution_count": 18,
   "metadata": {},
   "outputs": [
    {
     "name": "stdout",
     "output_type": "stream",
     "text": [
      "[[829   1]\n",
      " [169   0]]\n",
      "169\n"
     ]
    }
   ],
   "source": [
    "from sklearn.metrics import confusion_matrix\n",
    "\n",
    "print(confusion_matrix(test_y, np.vstack(pred_out)[:len(test_y)]))\n",
    "print(np.sum(test_y))"
   ]
  },
  {
   "cell_type": "code",
   "execution_count": null,
   "metadata": {
    "collapsed": true
   },
   "outputs": [],
   "source": []
  }
 ],
 "metadata": {
  "kernelspec": {
   "display_name": "Python 3",
   "language": "python",
   "name": "python3"
  },
  "language_info": {
   "codemirror_mode": {
    "name": "ipython",
    "version": 3
   },
   "file_extension": ".py",
   "mimetype": "text/x-python",
   "name": "python",
   "nbconvert_exporter": "python",
   "pygments_lexer": "ipython3",
   "version": "3.6.8"
  },
  "pycharm": {
   "stem_cell": {
    "cell_type": "raw",
    "metadata": {
     "collapsed": false
    },
    "source": []
   }
  }
 },
 "nbformat": 4,
 "nbformat_minor": 2
}
